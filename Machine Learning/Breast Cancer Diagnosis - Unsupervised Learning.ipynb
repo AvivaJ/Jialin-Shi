{
 "cells": [
  {
   "cell_type": "markdown",
   "metadata": {},
   "source": [
    "## Jialin Shi  --  Breast Cancer Diagnosis"
   ]
  },
  {
   "cell_type": "markdown",
   "metadata": {},
   "source": [
    "### k-means clustering\n",
    "##### Method:\n",
    "Compute the centers of the two clusters.\n",
    "Find the closest 30 data points to each cluster center.    \n",
    "i. Read the true labels of those 30 data points and take a majority poll.        \n",
    "               Label them by majority poll and compare with the true labels.    \n",
    "ii. Classify test data based on their proximity to the centers of the clusters.    \n",
    "iii. Spectral Clustering\n"
   ]
  },
  {
   "cell_type": "markdown",
   "metadata": {},
   "source": [
    "###### Monte Carlo Simulation\n",
    "te_accuray : 0.881    \n",
    "te_precision : 0.793    \n",
    "te_recall : 0.843    \n",
    "te_roc : 0.843    \n",
    "te_fscore : 0.863    "
   ]
  },
  {
   "cell_type": "code",
   "execution_count": 1,
   "metadata": {},
   "outputs": [],
   "source": [
    "import pandas as pd\n",
    "import numpy as np\n",
    "import matplotlib.pyplot as plt\n",
    "import seaborn as sns\n",
    "from sklearn.svm import SVC\n",
    "from sklearn.svm import LinearSVC\n",
    "\n",
    "from sklearn.model_selection import train_test_split  # split data for training and testing\n",
    "from sklearn.preprocessing import StandardScaler      # standardScaler,uniformed\n",
    "from sklearn.metrics import confusion_matrix                         \n",
    "from sklearn.metrics import accuracy_score  \n",
    "from sklearn.model_selection import GridSearchCV\n",
    "from sklearn.metrics import classification_report\n",
    "from sklearn.cluster import KMeans\n",
    "from sklearn import metrics\n",
    "from sklearn.metrics import silhouette_samples, silhouette_score\n",
    "import matplotlib.pyplot as plt\n",
    "import matplotlib.cm as cm\n",
    "from sklearn.metrics import calinski_harabaz_score\n",
    "from sklearn.metrics import hamming_loss\n",
    "from sklearn.preprocessing import Normalizer\n",
    "import warnings\n",
    "warnings.filterwarnings('ignore')\n",
    "from sklearn.cluster import SpectralClustering"
   ]
  },
  {
   "cell_type": "code",
   "execution_count": 2,
   "metadata": {},
   "outputs": [
    {
     "data": {
      "text/html": [
       "<div>\n",
       "<style scoped>\n",
       "    .dataframe tbody tr th:only-of-type {\n",
       "        vertical-align: middle;\n",
       "    }\n",
       "\n",
       "    .dataframe tbody tr th {\n",
       "        vertical-align: top;\n",
       "    }\n",
       "\n",
       "    .dataframe thead th {\n",
       "        text-align: right;\n",
       "    }\n",
       "</style>\n",
       "<table border=\"1\" class=\"dataframe\">\n",
       "  <thead>\n",
       "    <tr style=\"text-align: right;\">\n",
       "      <th></th>\n",
       "      <th>0</th>\n",
       "      <th>1</th>\n",
       "      <th>2</th>\n",
       "      <th>3</th>\n",
       "      <th>4</th>\n",
       "      <th>5</th>\n",
       "      <th>6</th>\n",
       "      <th>7</th>\n",
       "      <th>8</th>\n",
       "      <th>9</th>\n",
       "      <th>...</th>\n",
       "      <th>22</th>\n",
       "      <th>23</th>\n",
       "      <th>24</th>\n",
       "      <th>25</th>\n",
       "      <th>26</th>\n",
       "      <th>27</th>\n",
       "      <th>28</th>\n",
       "      <th>29</th>\n",
       "      <th>30</th>\n",
       "      <th>31</th>\n",
       "    </tr>\n",
       "  </thead>\n",
       "  <tbody>\n",
       "    <tr>\n",
       "      <th>0</th>\n",
       "      <td>842302</td>\n",
       "      <td>M</td>\n",
       "      <td>17.99</td>\n",
       "      <td>10.38</td>\n",
       "      <td>122.80</td>\n",
       "      <td>1001.0</td>\n",
       "      <td>0.11840</td>\n",
       "      <td>0.27760</td>\n",
       "      <td>0.3001</td>\n",
       "      <td>0.14710</td>\n",
       "      <td>...</td>\n",
       "      <td>25.38</td>\n",
       "      <td>17.33</td>\n",
       "      <td>184.60</td>\n",
       "      <td>2019.0</td>\n",
       "      <td>0.1622</td>\n",
       "      <td>0.6656</td>\n",
       "      <td>0.7119</td>\n",
       "      <td>0.2654</td>\n",
       "      <td>0.4601</td>\n",
       "      <td>0.11890</td>\n",
       "    </tr>\n",
       "    <tr>\n",
       "      <th>1</th>\n",
       "      <td>842517</td>\n",
       "      <td>M</td>\n",
       "      <td>20.57</td>\n",
       "      <td>17.77</td>\n",
       "      <td>132.90</td>\n",
       "      <td>1326.0</td>\n",
       "      <td>0.08474</td>\n",
       "      <td>0.07864</td>\n",
       "      <td>0.0869</td>\n",
       "      <td>0.07017</td>\n",
       "      <td>...</td>\n",
       "      <td>24.99</td>\n",
       "      <td>23.41</td>\n",
       "      <td>158.80</td>\n",
       "      <td>1956.0</td>\n",
       "      <td>0.1238</td>\n",
       "      <td>0.1866</td>\n",
       "      <td>0.2416</td>\n",
       "      <td>0.1860</td>\n",
       "      <td>0.2750</td>\n",
       "      <td>0.08902</td>\n",
       "    </tr>\n",
       "    <tr>\n",
       "      <th>2</th>\n",
       "      <td>84300903</td>\n",
       "      <td>M</td>\n",
       "      <td>19.69</td>\n",
       "      <td>21.25</td>\n",
       "      <td>130.00</td>\n",
       "      <td>1203.0</td>\n",
       "      <td>0.10960</td>\n",
       "      <td>0.15990</td>\n",
       "      <td>0.1974</td>\n",
       "      <td>0.12790</td>\n",
       "      <td>...</td>\n",
       "      <td>23.57</td>\n",
       "      <td>25.53</td>\n",
       "      <td>152.50</td>\n",
       "      <td>1709.0</td>\n",
       "      <td>0.1444</td>\n",
       "      <td>0.4245</td>\n",
       "      <td>0.4504</td>\n",
       "      <td>0.2430</td>\n",
       "      <td>0.3613</td>\n",
       "      <td>0.08758</td>\n",
       "    </tr>\n",
       "    <tr>\n",
       "      <th>3</th>\n",
       "      <td>84348301</td>\n",
       "      <td>M</td>\n",
       "      <td>11.42</td>\n",
       "      <td>20.38</td>\n",
       "      <td>77.58</td>\n",
       "      <td>386.1</td>\n",
       "      <td>0.14250</td>\n",
       "      <td>0.28390</td>\n",
       "      <td>0.2414</td>\n",
       "      <td>0.10520</td>\n",
       "      <td>...</td>\n",
       "      <td>14.91</td>\n",
       "      <td>26.50</td>\n",
       "      <td>98.87</td>\n",
       "      <td>567.7</td>\n",
       "      <td>0.2098</td>\n",
       "      <td>0.8663</td>\n",
       "      <td>0.6869</td>\n",
       "      <td>0.2575</td>\n",
       "      <td>0.6638</td>\n",
       "      <td>0.17300</td>\n",
       "    </tr>\n",
       "    <tr>\n",
       "      <th>4</th>\n",
       "      <td>84358402</td>\n",
       "      <td>M</td>\n",
       "      <td>20.29</td>\n",
       "      <td>14.34</td>\n",
       "      <td>135.10</td>\n",
       "      <td>1297.0</td>\n",
       "      <td>0.10030</td>\n",
       "      <td>0.13280</td>\n",
       "      <td>0.1980</td>\n",
       "      <td>0.10430</td>\n",
       "      <td>...</td>\n",
       "      <td>22.54</td>\n",
       "      <td>16.67</td>\n",
       "      <td>152.20</td>\n",
       "      <td>1575.0</td>\n",
       "      <td>0.1374</td>\n",
       "      <td>0.2050</td>\n",
       "      <td>0.4000</td>\n",
       "      <td>0.1625</td>\n",
       "      <td>0.2364</td>\n",
       "      <td>0.07678</td>\n",
       "    </tr>\n",
       "  </tbody>\n",
       "</table>\n",
       "<p>5 rows × 32 columns</p>\n",
       "</div>"
      ],
      "text/plain": [
       "         0  1      2      3       4       5        6        7       8   \\\n",
       "0    842302  M  17.99  10.38  122.80  1001.0  0.11840  0.27760  0.3001   \n",
       "1    842517  M  20.57  17.77  132.90  1326.0  0.08474  0.07864  0.0869   \n",
       "2  84300903  M  19.69  21.25  130.00  1203.0  0.10960  0.15990  0.1974   \n",
       "3  84348301  M  11.42  20.38   77.58   386.1  0.14250  0.28390  0.2414   \n",
       "4  84358402  M  20.29  14.34  135.10  1297.0  0.10030  0.13280  0.1980   \n",
       "\n",
       "        9    ...        22     23      24      25      26      27      28  \\\n",
       "0  0.14710   ...     25.38  17.33  184.60  2019.0  0.1622  0.6656  0.7119   \n",
       "1  0.07017   ...     24.99  23.41  158.80  1956.0  0.1238  0.1866  0.2416   \n",
       "2  0.12790   ...     23.57  25.53  152.50  1709.0  0.1444  0.4245  0.4504   \n",
       "3  0.10520   ...     14.91  26.50   98.87   567.7  0.2098  0.8663  0.6869   \n",
       "4  0.10430   ...     22.54  16.67  152.20  1575.0  0.1374  0.2050  0.4000   \n",
       "\n",
       "       29      30       31  \n",
       "0  0.2654  0.4601  0.11890  \n",
       "1  0.1860  0.2750  0.08902  \n",
       "2  0.2430  0.3613  0.08758  \n",
       "3  0.2575  0.6638  0.17300  \n",
       "4  0.1625  0.2364  0.07678  \n",
       "\n",
       "[5 rows x 32 columns]"
      ]
     },
     "execution_count": 2,
     "metadata": {},
     "output_type": "execute_result"
    }
   ],
   "source": [
    "# (a) Load the Vertebral Column Data Set from\n",
    "# Benign=B-neg, Malignant=M-pos\n",
    "df= pd.read_csv('wdbc.data.csv',header=None)\n",
    "df.head()"
   ]
  },
  {
   "cell_type": "markdown",
   "metadata": {},
   "source": [
    "### Unsupervised Learning"
   ]
  },
  {
   "cell_type": "code",
   "execution_count": 33,
   "metadata": {},
   "outputs": [],
   "source": [
    "#split data into train and test\n",
    "pos_train,pos_test=train_test_split(pos,test_size=0.2,random_state=42)\n",
    "pos_trainx=pos_train.iloc[:,2:]\n",
    "pos_trainy=pos_train.iloc[:,1]\n",
    "pos_testx=pos_test.iloc[:,2:]\n",
    "pos_testy=pos_test.iloc[:,1]\n",
    "\n",
    "neg_train,neg_test=train_test_split(neg,test_size=0.2,random_state=42)\n",
    "neg_trainx=neg_train.iloc[:,2:]\n",
    "neg_trainy=neg_train.iloc[:,1]\n",
    "neg_testx=neg_test.iloc[:,2:]\n",
    "neg_testy=neg_test.iloc[:,1]\n",
    "\n",
    "#concat\n",
    "testx=pd.concat([pos_testx,neg_testx])\n",
    "testy=pd.concat([pos_testy,neg_testy])\n",
    "trainx=pd.concat([pos_trainx,neg_trainx])\n",
    "trainy=pd.concat([pos_trainy,neg_trainy])\n",
    "\n",
    "# Normalize data\n",
    "transformer = Normalizer().fit(trainx)\n",
    "trainx=transformer.transform(trainx)\n",
    "testx=transformer.transform(testx)\n"
   ]
  },
  {
   "cell_type": "code",
   "execution_count": 34,
   "metadata": {},
   "outputs": [],
   "source": [
    "# k-means\n",
    "km = KMeans(n_clusters=2,random_state=1)\n",
    "km = km.fit(trainx)\n",
    "label=km.labels_"
   ]
  },
  {
   "cell_type": "code",
   "execution_count": 35,
   "metadata": {
    "scrolled": true
   },
   "outputs": [
    {
     "data": {
      "text/plain": [
       "array([0, 0, 0, 1, 1, 1, 0, 1, 0, 0, 0, 0, 1, 0, 0, 0, 0, 1, 0, 0, 1, 0,\n",
       "       0, 0, 0, 0, 1, 1, 0, 0, 1, 0, 1, 0, 0, 0, 0, 0, 0, 0, 0, 1, 1, 1,\n",
       "       0, 0, 0, 0, 0, 1, 0, 0, 0, 0, 0, 1, 0, 0, 1, 1, 0, 1, 1, 0, 0, 0,\n",
       "       1, 1, 1, 0, 0, 0, 0, 1, 0, 0, 0, 0, 0, 1, 0, 1, 0, 1, 0, 1, 0, 0,\n",
       "       0, 1, 0, 0, 0, 0, 0, 1, 0, 0, 0, 1, 0, 0, 1, 0, 0, 0, 0, 1, 0, 0,\n",
       "       1, 0, 1, 1, 0, 1, 0, 0, 0, 1, 1, 1, 0, 0, 1, 1, 0, 1, 0, 1, 0, 0,\n",
       "       0, 0, 0, 0, 1, 0, 0, 0, 0, 1, 0, 0, 0, 0, 1, 1, 0, 0, 0, 0, 1, 0,\n",
       "       0, 1, 0, 0, 0, 0, 0, 0, 0, 0, 0, 1, 0, 0, 0, 1, 1, 1, 1, 1, 1, 1,\n",
       "       1, 1, 1, 1, 1, 1, 1, 1, 1, 1, 1, 1, 1, 1, 1, 1, 1, 1, 1, 1, 1, 1,\n",
       "       1, 1, 1, 1, 1, 1, 1, 1, 1, 1, 1, 1, 1, 1, 1, 1, 1, 1, 1, 1, 1, 1,\n",
       "       1, 1, 1, 1, 1, 1, 1, 1, 1, 1, 1, 1, 1, 1, 1, 1, 1, 1, 1, 1, 1, 1,\n",
       "       1, 1, 1, 0, 1, 1, 0, 1, 1, 1, 1, 1, 1, 1, 1, 1, 1, 1, 1, 1, 1, 1,\n",
       "       1, 1, 1, 1, 1, 1, 1, 1, 1, 1, 1, 1, 1, 1, 1, 1, 1, 1, 1, 1, 1, 1,\n",
       "       1, 1, 1, 1, 1, 1, 0, 1, 1, 1, 1, 1, 1, 1, 1, 1, 1, 1, 1, 1, 1, 1,\n",
       "       1, 1, 1, 1, 1, 1, 1, 1, 1, 1, 1, 1, 1, 1, 1, 1, 1, 1, 1, 1, 1, 1,\n",
       "       1, 1, 1, 1, 1, 1, 1, 1, 1, 1, 1, 1, 1, 1, 1, 1, 1, 1, 1, 1, 1, 1,\n",
       "       1, 1, 1, 1, 1, 1, 1, 1, 1, 1, 1, 1, 1, 1, 1, 1, 1, 1, 1, 1, 1, 1,\n",
       "       1, 1, 1, 1, 1, 1, 1, 1, 1, 1, 1, 1, 1, 1, 1, 1, 1, 1, 1, 1, 1, 1,\n",
       "       1, 1, 1, 1, 1, 1, 1, 1, 1, 1, 1, 1, 1, 1, 1, 1, 1, 1, 1, 1, 1, 1,\n",
       "       1, 1, 1, 1, 1, 1, 1, 1, 1, 1, 1, 1, 1, 1, 1, 1, 1, 1, 1, 1, 1, 1,\n",
       "       1, 1, 1, 1, 1, 1, 1, 1, 1, 1, 1, 1, 1, 1], dtype=int32)"
      ]
     },
     "execution_count": 35,
     "metadata": {},
     "output_type": "execute_result"
    }
   ],
   "source": [
    "km.predict(trainx)"
   ]
  },
  {
   "cell_type": "code",
   "execution_count": 36,
   "metadata": {},
   "outputs": [],
   "source": [
    "# find closest 30 data points to each cluster center.\n",
    "a=pd.DataFrame(km.transform(trainx))\n",
    "close_0=a.iloc[:,0].sort_values().index.tolist()[0:30]\n",
    "close_1=a.iloc[:,1].sort_values().index.tolist()[0:30]"
   ]
  },
  {
   "cell_type": "code",
   "execution_count": 37,
   "metadata": {},
   "outputs": [
    {
     "data": {
      "text/plain": [
       "1\n",
       "B     9\n",
       "M    13\n",
       "dtype: int64"
      ]
     },
     "execution_count": 37,
     "metadata": {},
     "output_type": "execute_result"
    }
   ],
   "source": [
    "# Majority poll for true label 0-M,1-B\n",
    "trainy=pd.DataFrame(trainy)\n",
    "c_0=trainy.loc[close_0,:]\n",
    "majority=c_0.groupby(1).size()\n",
    "majority"
   ]
  },
  {
   "cell_type": "code",
   "execution_count": 38,
   "metadata": {},
   "outputs": [
    {
     "name": "stdout",
     "output_type": "stream",
     "text": [
      "0: M\n"
     ]
    }
   ],
   "source": [
    "if majority[\"B\"]> majority[\"M\"]:\n",
    "    c0='B'\n",
    "    print(\"0: B\")\n",
    "else:\n",
    "    c0='M'\n",
    "    print(\"0: M\")"
   ]
  },
  {
   "cell_type": "code",
   "execution_count": 39,
   "metadata": {},
   "outputs": [
    {
     "name": "stdout",
     "output_type": "stream",
     "text": [
      "c_1: B\n"
     ]
    }
   ],
   "source": [
    "c_1=trainy.loc[close_1,:]\n",
    "majority=c_1.groupby(1).size()\n",
    "if majority[\"B\"]> majority[\"M\"]:\n",
    "    c1='B'\n",
    "    print(\"c_1: B\")\n",
    "else:\n",
    "    c1='M'\n",
    "    print(\"c_1: M\")"
   ]
  },
  {
   "cell_type": "code",
   "execution_count": 40,
   "metadata": {
    "scrolled": true
   },
   "outputs": [],
   "source": [
    "assign=pd.DataFrame(label).replace({0:c0,1:c1})"
   ]
  },
  {
   "cell_type": "code",
   "execution_count": 41,
   "metadata": {},
   "outputs": [
    {
     "name": "stdout",
     "output_type": "stream",
     "text": [
      "accracy: 0.8810572687224669\n",
      "precision: 0.7932482938644178\n",
      "recall: 0.8438492681407661\n",
      "fscore: 0.8632072313357884\n",
      "auc 0.843849268140766\n"
     ]
    }
   ],
   "source": [
    "# make it binary\n",
    "trainy=trainy.replace({'M':1,'B':-1})\n",
    "assign=assign.replace({'M':1,'B':-1})\n",
    "\n",
    "print('accracy:',1-hamming_loss(trainy, assign))\n",
    "print('precision:',average_precision_score(trainy, assign))\n",
    "print('recall:',recall_score(trainy, assign, average='macro'))\n",
    "print('fscore:',f1_score(trainy, assign, average='macro'))\n",
    "print('auc',roc_auc_score(trainy, assign))\n"
   ]
  },
  {
   "cell_type": "code",
   "execution_count": 42,
   "metadata": {},
   "outputs": [
    {
     "data": {
      "text/plain": [
       "array([[282,   3],\n",
       "       [ 51, 118]])"
      ]
     },
     "execution_count": 42,
     "metadata": {},
     "output_type": "execute_result"
    }
   ],
   "source": [
    "confusion_matrix(trainy, assign)"
   ]
  },
  {
   "cell_type": "code",
   "execution_count": 43,
   "metadata": {
    "scrolled": true
   },
   "outputs": [
    {
     "name": "stdout",
     "output_type": "stream",
     "text": [
      "\n",
      "for train auc:\n"
     ]
    },
    {
     "data": {
      "image/png": "[encoded data removed]",
      "text/plain": [
       "<Figure size 576x432 with 1 Axes>"
      ]
     },
     "metadata": {},
     "output_type": "display_data"
    }
   ],
   "source": [
    "fpr, tpr, thresholds = roc_curve(trainy, assign)\n",
    "\n",
    "def plot_roc_curve(fpr, tpr, label=None):\n",
    "    plt.plot(fpr, tpr, linewidth=2, label=label)\n",
    "    plt.plot([0, 1], [0, 1], 'k--')\n",
    "    plt.axis([0, 1, 0, 1])\n",
    "    plt.xlabel('False Positive Rate', fontsize=16)\n",
    "    plt.ylabel('True Positive Rate', fontsize=16)\n",
    "print('\\nfor train auc:')\n",
    "plt.figure(figsize=(8, 6))\n",
    "plot_roc_curve(fpr, tpr)\n",
    "plt.show()"
   ]
  },
  {
   "cell_type": "markdown",
   "metadata": {},
   "source": [
    "###### Monte Carlo m=30"
   ]
  },
  {
   "cell_type": "code",
   "execution_count": 44,
   "metadata": {
    "scrolled": true
   },
   "outputs": [
    {
     "name": "stdout",
     "output_type": "stream",
     "text": [
      "te_accuray : 0.8810572687224673\n",
      "te_precision : 0.793248293864418\n",
      "te_recall : 0.8438492681407659\n",
      "te_roc : 0.8438492681407658\n",
      "te_fscore : 0.8632072313357885\n"
     ]
    }
   ],
   "source": [
    "te_accuray=[]\n",
    "te_precision=[]\n",
    "te_recall=[]\n",
    "te_roc=[]\n",
    "te_fscore=[]\n",
    "\n",
    "for i in range(30):\n",
    "    #split data into train and test\n",
    "    pos_train,pos_test=train_test_split(pos,test_size=0.2,random_state=42)\n",
    "    pos_trainx=pos_train.iloc[:,2:]\n",
    "    pos_trainy=pos_train.iloc[:,1]\n",
    "    pos_testx=pos_test.iloc[:,2:]\n",
    "    pos_testy=pos_test.iloc[:,1]\n",
    "\n",
    "    neg_train,neg_test=train_test_split(neg,test_size=0.2,random_state=42)\n",
    "    neg_trainx=neg_train.iloc[:,2:]\n",
    "    neg_trainy=neg_train.iloc[:,1]\n",
    "    neg_testx=neg_test.iloc[:,2:]\n",
    "    neg_testy=neg_test.iloc[:,1]\n",
    "\n",
    "    #concat\n",
    "    testx=pd.concat([pos_testx,neg_testx])\n",
    "    testy=pd.concat([pos_testy,neg_testy])\n",
    "    trainx=pd.concat([pos_trainx,neg_trainx])\n",
    "    trainy=pd.concat([pos_trainy,neg_trainy])\n",
    "\n",
    "    # Normalize data\n",
    "    transformer = Normalizer().fit(trainx)\n",
    "    trainx=transformer.transform(trainx)\n",
    "    testx=transformer.transform(testx)\n",
    "    \n",
    "    km = KMeans(n_clusters=2)\n",
    "    km = km.fit(trainx)\n",
    "    label=km.labels_\n",
    "    \n",
    "    # find closest 30 data points to each cluster center.\n",
    "    a=pd.DataFrame(km.transform(trainx))\n",
    "    close_0=a.iloc[:,0].sort_values().index.tolist()[0:30]\n",
    "    close_1=a.iloc[:,1].sort_values().index.tolist()[0:30]\n",
    "    \n",
    "    # Majority poll for true label 0-M,1-B\n",
    "    trainy=pd.DataFrame(trainy)\n",
    "    c_0=trainy.loc[close_0,:]\n",
    "    majority=c_0.groupby(1).size()\n",
    "    if majority[\"B\"]> majority[\"M\"]:\n",
    "        c0='B'\n",
    "    else:\n",
    "        c0='M'\n",
    "        \n",
    "    c_1=trainy.loc[close_1,:]\n",
    "    majority=c_1.groupby(1).size()\n",
    "    if majority[\"B\"]> majority[\"M\"]:\n",
    "        c1='B'\n",
    "    else:\n",
    "        c1='M'\n",
    "        \n",
    "        \n",
    "    assign=pd.DataFrame(label).replace({0:c0,1:c1})\n",
    "    trainy=trainy.replace({'M':1,'B':-1})\n",
    "    assign=assign.replace({'M':1,'B':-1})\n",
    "    \n",
    "    te_accuray.append(1-hamming_loss(trainy, assign))\n",
    "    te_precision.append(average_precision_score(trainy, assign))\n",
    "    te_recall.append(recall_score(trainy, assign, average='macro'))\n",
    "    te_fscore.append(f1_score(trainy, assign, average='macro'))\n",
    "    te_roc.append(roc_auc_score(trainy, assign))\n",
    "\n",
    "print('te_accuray :',np.mean(te_accuray))\n",
    "print('te_precision :',np.mean(te_precision))\n",
    "print('te_recall :',np.mean(te_recall))\n",
    "print('te_roc :',np.mean(te_roc))\n",
    "print('te_fscore :',np.mean(te_fscore))\n",
    "        "
   ]
  },
  {
   "cell_type": "markdown",
   "metadata": {},
   "source": [
    "#### Classify test data based on their proximity to the centers of the clusters."
   ]
  },
  {
   "cell_type": "code",
   "execution_count": 45,
   "metadata": {},
   "outputs": [
    {
     "name": "stdout",
     "output_type": "stream",
     "text": [
      "te_accuray : 0.8869565217391302\n",
      "te_precision : 0.7904448938321534\n",
      "te_recall : 0.8628875968992247\n",
      "te_roc : 0.8628875968992247\n",
      "te_fscore : 0.8746751613714482\n"
     ]
    }
   ],
   "source": [
    "te_accuray=[]\n",
    "te_precision=[]\n",
    "te_recall=[]\n",
    "te_roc=[]\n",
    "te_fscore=[]\n",
    "\n",
    "for i in range(30):\n",
    "    #split data into train and test\n",
    "    pos_train,pos_test=train_test_split(pos,test_size=0.2,random_state=42)\n",
    "    pos_trainx=pos_train.iloc[:,2:]\n",
    "    pos_trainy=pos_train.iloc[:,1]\n",
    "    pos_testx=pos_test.iloc[:,2:]\n",
    "    pos_testy=pos_test.iloc[:,1]\n",
    "\n",
    "    neg_train,neg_test=train_test_split(neg,test_size=0.2,random_state=42)\n",
    "    neg_trainx=neg_train.iloc[:,2:]\n",
    "    neg_trainy=neg_train.iloc[:,1]\n",
    "    neg_testx=neg_test.iloc[:,2:]\n",
    "    neg_testy=neg_test.iloc[:,1]\n",
    "\n",
    "    #concat\n",
    "    testx=pd.concat([pos_testx,neg_testx])\n",
    "    testy=pd.concat([pos_testy,neg_testy])\n",
    "    trainx=pd.concat([pos_trainx,neg_trainx])\n",
    "    trainy=pd.concat([pos_trainy,neg_trainy])\n",
    "\n",
    "    # Normalize data\n",
    "    transformer = Normalizer().fit(trainx)\n",
    "    trainx=transformer.transform(trainx)\n",
    "    testx=transformer.transform(testx)\n",
    "    \n",
    "    km = KMeans(n_clusters=2)\n",
    "    km = km.fit(trainx)\n",
    "    label=km.predict(testx)\n",
    "    \n",
    "    # find closest 30 data points to each cluster center.\n",
    "    a=pd.DataFrame(km.transform(testx))\n",
    "    close_0=a.iloc[:,0].sort_values().index.tolist()[0:30]\n",
    "    close_1=a.iloc[:,1].sort_values().index.tolist()[0:30]\n",
    "    \n",
    "    # Majority poll for true label 0-M,1-B\n",
    "    testy=pd.DataFrame(testy)\n",
    "    c_0=testy.loc[close_0,:]\n",
    "    majority=c_0.groupby(1).size()\n",
    "    if majority[\"B\"]> majority[\"M\"]:\n",
    "        c0='B'\n",
    "    else:\n",
    "        c0='M'\n",
    "        \n",
    "    c_1=testy.loc[close_1,:]\n",
    "    majority=c_1.groupby(1).size()\n",
    "    if majority[\"B\"]> majority[\"M\"]:\n",
    "        c1='B'\n",
    "    else:\n",
    "        c1='M'\n",
    "        \n",
    "        \n",
    "    assign=pd.DataFrame(label).replace({0:c0,1:c1})\n",
    "    testy=testy.replace({'M':1,'B':-1})\n",
    "    assign=assign.replace({'M':1,'B':-1})\n",
    "    \n",
    "    te_accuray.append(1-hamming_loss(testy, assign))\n",
    "    te_precision.append(average_precision_score(testy, assign))\n",
    "    te_recall.append(recall_score(testy, assign, average='macro'))\n",
    "    te_fscore.append(f1_score(testy, assign, average='macro'))\n",
    "    te_roc.append(roc_auc_score(testy, assign))\n",
    "\n",
    "print('te_accuray :',np.mean(te_accuray))\n",
    "print('te_precision :',np.mean(te_precision))\n",
    "print('te_recall :',np.mean(te_recall))\n",
    "print('te_roc :',np.mean(te_roc))\n",
    "print('te_fscore :',np.mean(te_fscore))\n",
    "        "
   ]
  },
  {
   "cell_type": "code",
   "execution_count": 46,
   "metadata": {},
   "outputs": [
    {
     "name": "stdout",
     "output_type": "stream",
     "text": [
      "\n",
      "for train auc:\n"
     ]
    },
    {
     "data": {
      "image/png": "[encoded data removed]",
      "text/plain": [
       "<Figure size 576x432 with 1 Axes>"
      ]
     },
     "metadata": {},
     "output_type": "display_data"
    }
   ],
   "source": [
    "fpr, tpr, thresholds = roc_curve(testy, assign)\n",
    "\n",
    "def plot_roc_curve(fpr, tpr, label=None):\n",
    "    plt.plot(fpr, tpr, linewidth=2, label=label)\n",
    "    plt.plot([0, 1], [0, 1], 'k--')\n",
    "    plt.axis([0, 1, 0, 1])\n",
    "    plt.xlabel('False Positive Rate', fontsize=16)\n",
    "    plt.ylabel('True Positive Rate', fontsize=16)\n",
    "print('\\nfor train auc:')\n",
    "plt.figure(figsize=(8, 6))\n",
    "plot_roc_curve(fpr, tpr)\n",
    "plt.show()"
   ]
  },
  {
   "cell_type": "code",
   "execution_count": 47,
   "metadata": {},
   "outputs": [
    {
     "data": {
      "text/plain": [
       "array([[69,  3],\n",
       "       [10, 33]])"
      ]
     },
     "execution_count": 47,
     "metadata": {},
     "output_type": "execute_result"
    }
   ],
   "source": [
    "confusion_matrix(testy, assign)"
   ]
  },
  {
   "cell_type": "markdown",
   "metadata": {},
   "source": [
    "#### Spectral Clustering"
   ]
  },
  {
   "cell_type": "code",
   "execution_count": 48,
   "metadata": {},
   "outputs": [
    {
     "name": "stdout",
     "output_type": "stream",
     "text": [
      "for train:\n",
      "te_accuray : 0.8788546255506612\n",
      "te_precision : 0.7895374449339205\n",
      "te_recall : 0.8408906882591091\n",
      "te_roc : 0.8408906882591091\n",
      "te_fscore : 0.8604177963117209\n"
     ]
    }
   ],
   "source": [
    "te_accuray=[]\n",
    "te_precision=[]\n",
    "te_recall=[]\n",
    "te_roc=[]\n",
    "te_fscore=[]\n",
    "\n",
    "for i in range(30):\n",
    "    pos_train,pos_test=train_test_split(pos,test_size=0.2,random_state=42)\n",
    "    pos_trainx=pos_train.iloc[:,2:]\n",
    "    pos_trainy=pos_train.iloc[:,1]\n",
    "    pos_testx=pos_test.iloc[:,2:]\n",
    "    pos_testy=pos_test.iloc[:,1]\n",
    "\n",
    "    neg_train,neg_test=train_test_split(neg,test_size=0.2,random_state=42)\n",
    "    neg_trainx=neg_train.iloc[:,2:]\n",
    "    neg_trainy=neg_train.iloc[:,1]\n",
    "    neg_testx=neg_test.iloc[:,2:]\n",
    "    neg_testy=neg_test.iloc[:,1]\n",
    "\n",
    "    #concat\n",
    "    testx=pd.concat([pos_testx,neg_testx])\n",
    "    testy=pd.concat([pos_testy,neg_testy])\n",
    "    trainx=pd.concat([pos_trainx,neg_trainx])\n",
    "    trainy=pd.concat([pos_trainy,neg_trainy])\n",
    "\n",
    "    # Normalize data\n",
    "    transformer = Normalizer().fit(trainx)\n",
    "    trainx=transformer.transform(trainx)\n",
    "    testx=transformer.transform(testx)\n",
    "    \n",
    "    sclf=SpectralClustering(n_clusters=2,  gamma=1.0, affinity='rbf').fit(trainx)\n",
    "    label=sclf.fit_predict(trainx)\n",
    "    \n",
    "    close_0=[]\n",
    "    close_1=[]\n",
    "    for i in enumerate(label.tolist()):\n",
    "        if i[1]==1:\n",
    "            close_1.append(i[0])\n",
    "        if i[1]==0:\n",
    "            close_0.append(i[0])\n",
    "    \n",
    "    \n",
    "    # Majority poll for true label 0-M,1-B\n",
    "    trainy=pd.DataFrame(trainy)\n",
    "    c_0=trainy.loc[close_0,:]\n",
    "    majority=c_0.groupby(1).size()\n",
    "    if majority[\"B\"]> majority[\"M\"]:\n",
    "        c0='B'\n",
    "    else:\n",
    "        c0='M'\n",
    "        \n",
    "    c_1=trainy.loc[close_1,:]\n",
    "    majority=c_1.groupby(1).size()\n",
    "    if majority[\"B\"]> majority[\"M\"]:\n",
    "        c1='B'\n",
    "    else:\n",
    "        c1='M'\n",
    "            \n",
    "    assign=pd.DataFrame(label).replace({0:c0,1:c1})      \n",
    "    trainy=trainy.replace({'M':1,'B':-1})\n",
    "    assign=assign.replace({'M':1,'B':-1})\n",
    "    \n",
    "    te_accuray.append(1-hamming_loss(trainy, assign))\n",
    "    te_precision.append(average_precision_score(trainy, assign))\n",
    "    te_recall.append(recall_score(trainy, assign, average='macro'))\n",
    "    te_fscore.append(f1_score(trainy, assign, average='macro'))\n",
    "    te_roc.append(roc_auc_score(trainy, assign))\n",
    "\n",
    "print('for train:')\n",
    "print('te_accuray :',np.mean(te_accuray))\n",
    "print('te_precision :',np.mean(te_precision))\n",
    "print('te_recall :',np.mean(te_recall))\n",
    "print('te_roc :',np.mean(te_roc))\n",
    "print('te_fscore :',np.mean(te_fscore))\n",
    "        \n",
    "    "
   ]
  },
  {
   "cell_type": "code",
   "execution_count": 49,
   "metadata": {},
   "outputs": [
    {
     "name": "stdout",
     "output_type": "stream",
     "text": [
      "for test:\n",
      "te_accuray : 0.9304347826086957\n",
      "te_precision : 0.8529603415346588\n",
      "te_recall : 0.9303940568475456\n",
      "te_roc : 0.9303940568475455\n",
      "te_fscore : 0.9263764404609478\n"
     ]
    }
   ],
   "source": [
    "te_accuray=[]\n",
    "te_precision=[]\n",
    "te_recall=[]\n",
    "te_roc=[]\n",
    "te_fscore=[]\n",
    "\n",
    "for i in range(30):\n",
    "    pos_train,pos_test=train_test_split(pos,test_size=0.2,random_state=42)\n",
    "    pos_trainx=pos_train.iloc[:,2:]\n",
    "    pos_trainy=pos_train.iloc[:,1]\n",
    "    pos_testx=pos_test.iloc[:,2:]\n",
    "    pos_testy=pos_test.iloc[:,1]\n",
    "\n",
    "    neg_train,neg_test=train_test_split(neg,test_size=0.2,random_state=42)\n",
    "    neg_trainx=neg_train.iloc[:,2:]\n",
    "    neg_trainy=neg_train.iloc[:,1]\n",
    "    neg_testx=neg_test.iloc[:,2:]\n",
    "    neg_testy=neg_test.iloc[:,1]\n",
    "\n",
    "    #concat\n",
    "    testx=pd.concat([pos_testx,neg_testx])\n",
    "    testy=pd.concat([pos_testy,neg_testy])\n",
    "    trainx=pd.concat([pos_trainx,neg_trainx])\n",
    "    trainy=pd.concat([pos_trainy,neg_trainy])\n",
    "\n",
    "    # Normalize data\n",
    "    transformer = Normalizer().fit(trainx)\n",
    "    trainx=transformer.transform(trainx)\n",
    "    testx=transformer.transform(testx)\n",
    "    \n",
    "    sclf=SpectralClustering(n_clusters=2,  gamma=1.0, affinity='rbf').fit(trainx)\n",
    "    label=sclf.fit_predict(testx)\n",
    "    \n",
    "    # find closest 30 data points to each cluster center.\n",
    "    close_0=[]\n",
    "    close_1=[]\n",
    "    for i in enumerate(label.tolist()):\n",
    "        if i[1]==1:\n",
    "            close_1.append(i[0])\n",
    "        if i[1]==0:\n",
    "            close_0.append(i[0])\n",
    "    \n",
    "    \n",
    "    # Majority poll for true label 0-M,1-B\n",
    "    trainy=pd.DataFrame(testy)\n",
    "    c_0=trainy.loc[close_0,:]\n",
    "    majority=c_0.groupby(1).size()\n",
    "    if majority[\"B\"]> majority[\"M\"]:\n",
    "        c0='B'\n",
    "    else:\n",
    "        c0='M'\n",
    "        \n",
    "    c_1=trainy.loc[close_1,:]\n",
    "    majority=c_1.groupby(1).size()\n",
    "    if majority[\"B\"]> majority[\"M\"]:\n",
    "        c1='B'\n",
    "    else:\n",
    "        c1='M'\n",
    "            \n",
    "    assign=pd.DataFrame(label).replace({0:c0,1:c1})      \n",
    "    trainy=trainy.replace({'M':1,'B':-1})\n",
    "    assign=assign.replace({'M':1,'B':-1})\n",
    "    \n",
    "    te_accuray.append(1-hamming_loss(trainy, assign))\n",
    "    te_precision.append(average_precision_score(trainy, assign))\n",
    "    te_recall.append(recall_score(trainy, assign, average='macro'))\n",
    "    te_fscore.append(f1_score(trainy, assign, average='macro'))\n",
    "    te_roc.append(roc_auc_score(trainy, assign))\n",
    "\n",
    "print('for test:')\n",
    "print('te_accuray :',np.mean(te_accuray))\n",
    "print('te_precision :',np.mean(te_precision))\n",
    "print('te_recall :',np.mean(te_recall))\n",
    "print('te_roc :',np.mean(te_roc))\n",
    "print('te_fscore :',np.mean(te_fscore))\n",
    "        \n",
    "    "
   ]
  }
 ],
 "metadata": {
  "hide_input": false,
  "kernelspec": {
   "display_name": "Python 3",
   "language": "python",
   "name": "python3"
  },
  "language_info": {
   "codemirror_mode": {
    "name": "ipython",
    "version": 3
   },
   "file_extension": ".py",
   "mimetype": "text/x-python",
   "name": "python",
   "nbconvert_exporter": "python",
   "pygments_lexer": "ipython3",
   "version": "3.6.5"
  },
  "toc": {
   "base_numbering": 1,
   "nav_menu": {},
   "number_sections": false,
   "sideBar": true,
   "skip_h1_title": false,
   "title_cell": "Table of Contents",
   "title_sidebar": "Contents",
   "toc_cell": false,
   "toc_position": {},
   "toc_section_display": true,
   "toc_window_display": false
  }
 },
 "nbformat": 4,
 "nbformat_minor": 2
}
