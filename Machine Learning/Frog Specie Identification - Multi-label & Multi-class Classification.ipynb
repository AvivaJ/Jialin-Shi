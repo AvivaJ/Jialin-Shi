{
 "cells": [
  {
   "cell_type": "markdown",
   "metadata": {},
   "source": [
    "## Jialin Shi  --  Frog Species Identification"
   ]
  },
  {
   "cell_type": "markdown",
   "metadata": {},
   "source": [
    "### Multi-class and Multi-Label Classification\n",
    "###### Method 1:\n",
    "Train a SVM(and L1-penalized SVM) for each of the labels, using Gaussian kernels and one versus all classifiers.         \n",
    "Determine the weight of the SVM penalty and the width of the Gaussian Kernel using 10 fold cross validation.       \n",
    "Use SMOTE to remedy class imbalance.\n",
    "\n",
    "###### Method 2:\n",
    "Implement K-means clustering to cluster data.    \n",
    "Choose best k based on highest Silhouettes.    \n",
    "In each cluster, determine the majority class for each label.    \n",
    "Calculate hamming score and exact match.   "
   ]
  },
  {
   "cell_type": "code",
   "execution_count": 1,
   "metadata": {},
   "outputs": [],
   "source": [
    "import pandas as pd\n",
    "import numpy as np\n",
    "import matplotlib.pyplot as plt\n",
    "import seaborn as sns\n",
    "from sklearn.svm import SVC\n",
    "from sklearn.svm import LinearSVC\n",
    "\n",
    "from sklearn.model_selection import train_test_split  # split data for training and testing\n",
    "from sklearn.preprocessing import StandardScaler      # standardScaler,uniformed\n",
    "from sklearn.metrics import confusion_matrix                         \n",
    "from sklearn.metrics import accuracy_score  \n",
    "from sklearn.model_selection import GridSearchCV\n",
    "from sklearn.metrics import classification_report\n",
    "from sklearn.cluster import KMeans\n",
    "from sklearn import metrics\n",
    "from sklearn.metrics import silhouette_samples, silhouette_score\n",
    "import matplotlib.pyplot as plt\n",
    "import matplotlib.cm as cm\n",
    "from sklearn.metrics import calinski_harabaz_score\n",
    "from sklearn.metrics import hamming_loss\n",
    "import warnings\n",
    "warnings.filterwarnings('ignore')\n"
   ]
  },
  {
   "cell_type": "markdown",
   "metadata": {},
   "source": [
    "#### (a)"
   ]
  },
  {
   "cell_type": "code",
   "execution_count": 2,
   "metadata": {},
   "outputs": [],
   "source": [
    "# (a)load data \n",
    "df = pd.read_csv('Frogs_MFCCs.csv',header=0)\n",
    "\n",
    "#split data into train and test\n",
    "train,test=train_test_split(df,test_size=0.3,random_state=42)\n",
    "\n",
    "#mark for x and y.\n",
    "train_x=train.iloc[:,0:-4]\n",
    "test_x=test.iloc[:,0:-4]\n",
    "\n",
    "train_family=train.iloc[:,-4]\n",
    "test_family=test.iloc[:,-4]\n",
    "\n",
    "train_genus=train.iloc[:,-3]\n",
    "test_genus=test.iloc[:,-3]\n",
    "\n",
    "train_species=train.iloc[:,-2]\n",
    "test_species=test.iloc[:,-2]\n"
   ]
  },
  {
   "cell_type": "markdown",
   "metadata": {},
   "source": [
    "#### Research exact match and hamming loss methods for evaluating multi- label classification."
   ]
  },
  {
   "cell_type": "markdown",
   "metadata": {},
   "source": [
    "Multi-label classification methods needs different measurements\n",
    "than used in traditional single-label classification. \n",
    "\n",
    "Accuracy score/ Exact match metric: this function calculates subset accuracy meaning the predicted set of labels should exactly match with the true set of labels.\n",
    "\n",
    "Hamming Loss: the fraction of the wrong labels to the total number of labels."
   ]
  },
  {
   "cell_type": "markdown",
   "metadata": {},
   "source": [
    "#### SVC"
   ]
  },
  {
   "cell_type": "code",
   "execution_count": 3,
   "metadata": {
    "scrolled": true
   },
   "outputs": [
    {
     "name": "stdout",
     "output_type": "stream",
     "text": [
      "Best parameters set for clf1:\n",
      "{'C': 100, 'decision_function_shape': 'ovr', 'gamma': 1.0, 'kernel': 'rbf'}\n",
      "Best parameters set for clf2:\n",
      "{'C': 100, 'decision_function_shape': 'ovr', 'gamma': 1.0, 'kernel': 'rbf'}\n",
      "Best parameters set for clf3:\n",
      "{'C': 10, 'decision_function_shape': 'ovr', 'gamma': 1.0, 'kernel': 'rbf'}\n"
     ]
    }
   ],
   "source": [
    "from sklearn.svm import SVC\n",
    "from sklearn.model_selection import GridSearchCV\n",
    "from sklearn.metrics import classification_report\n",
    "\n",
    "# Set the parameters by cross-validation\n",
    "tuned_parameters = [{'kernel': ['rbf'], 'decision_function_shape':['ovr'],\n",
    "                     'gamma': [1e1,1e0,1e-1,1e-2,1e-3,1e-4],\n",
    "                     'C': [1, 10, 100, 1000,10000,100000]}]\n",
    "\n",
    "clf1 = GridSearchCV(SVC(), tuned_parameters, cv=10)\n",
    "clf1.fit(train_x, train_family)\n",
    "print(\"Best parameters set for clf1:\")\n",
    "print(clf1.best_params_)\n",
    "\n",
    "clf2 = GridSearchCV(SVC(), tuned_parameters, cv=10)\n",
    "clf2.fit(train_x, train_genus)\n",
    "print(\"Best parameters set for clf2:\")\n",
    "print(clf2.best_params_)\n",
    "\n",
    "clf3 = GridSearchCV(SVC(), tuned_parameters, cv=10)\n",
    "clf3.fit(train_x, train_species)\n",
    "print(\"Best parameters set for clf3:\")\n",
    "print(clf3.best_params_)\n"
   ]
  },
  {
   "cell_type": "code",
   "execution_count": 4,
   "metadata": {},
   "outputs": [
    {
     "name": "stdout",
     "output_type": "stream",
     "text": [
      "0.006484483557202408\n",
      "0.007874015748031496\n",
      "0.010653080129689671\n",
      "0.25104214914312184\n"
     ]
    }
   ],
   "source": [
    "# use best params to build classifier\n",
    "# family classifier\n",
    "clf1 =SVC(C=100,decision_function_shape='ovr',gamma=1,kernel='rbf')\n",
    "clf1.fit(train_x, train_family)\n",
    "pred=clf1.predict(test_x)\n",
    "print(hamming_loss(test_family, pred))\n",
    "pred3=pd.DataFrame(pred)\n",
    "\n",
    "# genus classifier\n",
    "clf2 =SVC(C=100,decision_function_shape='ovr',gamma=1,kernel='rbf')\n",
    "clf2.fit(train_x, train_genus)\n",
    "pred=clf2.predict(test_x)\n",
    "print(hamming_loss(test_genus, pred))\n",
    "pred=pd.DataFrame(pred)\n",
    "pred3=pd.concat([pred3,pred],axis=1)\n",
    "\n",
    "# species classifier\n",
    "clf3 =SVC(C=10,decision_function_shape='ovr',gamma=1,kernel='rbf')\n",
    "clf3.fit(train_x, train_species)\n",
    "pred=clf3.predict(test_x)\n",
    "print(hamming_loss(test_species, pred))\n",
    "pred=pd.DataFrame(pred)\n",
    "pred3=pd.concat([pred3,pred],axis=1)\n",
    "\n",
    "# exact match\n",
    "true_label=df.iloc[:,-4:-1]\n",
    "same=0\n",
    "for i in range(len(pred3)):\n",
    "    a=pred3.iloc[i,:].values\n",
    "    b=true_label.iloc[i,:].values\n",
    "    if a[0]+a[1]+a[2]==b[0]+b[1]+b[2]:\n",
    "        same=same+1\n",
    "print(same/len(pred3))        "
   ]
  },
  {
   "cell_type": "markdown",
   "metadata": {},
   "source": [
    "#### SVC model Hamming Loss for test:   \n",
    "family:0.006484483557202408    \n",
    "genuse:0.007874015748031496    \n",
    "species:0.010653080129689671\n",
    "\n",
    "Exact match=0.25"
   ]
  },
  {
   "cell_type": "markdown",
   "metadata": {},
   "source": [
    "#### L1-penalized SVM"
   ]
  },
  {
   "cell_type": "code",
   "execution_count": 5,
   "metadata": {},
   "outputs": [
    {
     "name": "stdout",
     "output_type": "stream",
     "text": [
      "Best parameters set for clf1:\n",
      "{'C': 100, 'tol': 0.0001}\n",
      "Best parameters set for clf2:\n",
      "{'C': 10000, 'tol': 0.01}\n",
      "Best parameters set for clf3:\n",
      "{'C': 100, 'tol': 0.01}\n"
     ]
    }
   ],
   "source": [
    "from sklearn.svm import LinearSVC\n",
    "\n",
    "# Set the parameters by cross-validation\n",
    "tuned_parameters = [{'tol': [1e1,1e0,1e-1,1e-2,1e-3,1e-4],\n",
    "                     'C': [1, 10, 100, 1000,10000,100000]}]\n",
    "\n",
    "#build model\n",
    "LSVC=LinearSVC(penalty='l1',dual=False)\n",
    "\n",
    "clf1 = GridSearchCV(LSVC, tuned_parameters, cv=10)\n",
    "clf1.fit(train_x, train_family)\n",
    "print(\"Best parameters set for clf1:\")\n",
    "print(clf1.best_params_)\n",
    "\n",
    "clf2 = GridSearchCV(LSVC, tuned_parameters, cv=10)\n",
    "clf2.fit(train_x, train_genus)\n",
    "print(\"Best parameters set for clf2:\")\n",
    "print(clf2.best_params_)\n",
    "\n",
    "clf3 = GridSearchCV(LSVC, tuned_parameters, cv=10)\n",
    "clf3.fit(train_x, train_species)\n",
    "print(\"Best parameters set for clf3:\")\n",
    "print(clf3.best_params_)"
   ]
  },
  {
   "cell_type": "markdown",
   "metadata": {},
   "source": [
    "Best parameters set for clf1:\n",
    "{'C': 100, 'tol': 0.0001}\n",
    "\n",
    "Best parameters set for clf2:\n",
    "{'C': 100, 'tol': 0.001}\n",
    "\n",
    "Best parameters set for clf3:\n",
    "{'C': 10, 'tol': 0.001}"
   ]
  },
  {
   "cell_type": "code",
   "execution_count": 6,
   "metadata": {},
   "outputs": [
    {
     "name": "stdout",
     "output_type": "stream",
     "text": [
      "0.07364520611394164\n",
      "0.05974988420565076\n",
      "0.04029643353404354\n",
      "0.24965261695229274\n"
     ]
    }
   ],
   "source": [
    "# family classifier\n",
    "clf1 =LinearSVC(penalty='l1',dual=False,C=100,tol=0.0001)\n",
    "clf1.fit(train_x, train_family)\n",
    "pred=clf1.predict(test_x)\n",
    "print(hamming_loss(test_family, pred))\n",
    "predL3=pd.DataFrame(pred)\n",
    "\n",
    "# genus classifier\n",
    "clf2 =LinearSVC(penalty='l1',dual=False,C=100,tol=0.001)\n",
    "clf2.fit(train_x, train_genus)\n",
    "pred=clf2.predict(test_x)\n",
    "print(hamming_loss(test_genus, pred))\n",
    "pred=pd.DataFrame(pred)\n",
    "predL3=pd.concat([predL3,pred],axis=1)\n",
    "\n",
    "# species classifier\n",
    "clf3 =LinearSVC(penalty='l1',dual=False,C=10,tol=0.001)\n",
    "clf3.fit(train_x, train_species)\n",
    "pred=clf3.predict(test_x)\n",
    "print(hamming_loss(test_species, pred))\n",
    "pred=pd.DataFrame(pred)\n",
    "predL3=pd.concat([predL3,pred],axis=1)\n",
    "\n",
    "# exact match\n",
    "true_label=df.iloc[:,-4:-1]\n",
    "same=0\n",
    "for i in range(len(predL3)):\n",
    "    a=predL3.iloc[i,:].values\n",
    "    b=true_label.iloc[i,:].values\n",
    "    if a[0]+a[1]+a[2]==b[0]+b[1]+b[2]:\n",
    "        same=same+1\n",
    "print(same/len(predL3))"
   ]
  },
  {
   "cell_type": "markdown",
   "metadata": {},
   "source": [
    "#### LinearSVC model Hamming Loss for test:   \n",
    "family:0.07364520611394164    \n",
    "genuse:0.059286706808707734    \n",
    "species:0.03890690134321445  \n",
    "\n",
    "Exact match: 0.249"
   ]
  },
  {
   "cell_type": "markdown",
   "metadata": {},
   "source": [
    "#### SMOTE"
   ]
  },
  {
   "cell_type": "markdown",
   "metadata": {},
   "source": [
    "###### family_sp"
   ]
  },
  {
   "cell_type": "code",
   "execution_count": 7,
   "metadata": {},
   "outputs": [
    {
     "name": "stdout",
     "output_type": "stream",
     "text": [
      "Best parameters set for sp1:\n",
      "{'C': 10, 'tol': 0.0001}\n"
     ]
    }
   ],
   "source": [
    "from imblearn.over_sampling import SMOTE\n",
    "sm = SMOTE(random_state=42)\n",
    "X_res, y_res = sm.fit_resample(train_x, train_family)\n",
    "#build model\n",
    "LSVC=LinearSVC(penalty='l1',dual=False)\n",
    "sp1 = GridSearchCV(LSVC, tuned_parameters, cv=10)\n",
    "sp1.fit(X_res, y_res)\n",
    "print(\"Best parameters set for sp1:\")\n",
    "print(sp1.best_params_)"
   ]
  },
  {
   "cell_type": "markdown",
   "metadata": {},
   "source": [
    "Best parameters set for sp1: {'C': 100000, 'tol': 0.001}"
   ]
  },
  {
   "cell_type": "code",
   "execution_count": 8,
   "metadata": {},
   "outputs": [
    {
     "name": "stdout",
     "output_type": "stream",
     "text": [
      "new sp hamming loss: 0.09078276980083372\n"
     ]
    }
   ],
   "source": [
    "# new sp family classifier\n",
    "sp1 =LinearSVC(penalty='l1',dual=False,C=100000,tol=0.001)\n",
    "sp1.fit(X_res, y_res)\n",
    "pred=sp1.predict(test_x)\n",
    "print(\"new sp hamming loss:\",hamming_loss(test_family, pred))\n",
    "predL3=pd.DataFrame(pred)"
   ]
  },
  {
   "cell_type": "markdown",
   "metadata": {},
   "source": [
    "###### genus-sp"
   ]
  },
  {
   "cell_type": "code",
   "execution_count": 9,
   "metadata": {},
   "outputs": [
    {
     "name": "stdout",
     "output_type": "stream",
     "text": [
      "Best parameters set for sp2:\n",
      "{'C': 1000, 'tol': 0.001}\n"
     ]
    }
   ],
   "source": [
    "sm = SMOTE(random_state=42)\n",
    "X_genus, y_genus = sm.fit_resample(train_x, train_genus)\n",
    "#build model\n",
    "LSVC=LinearSVC(penalty='l1',dual=False)\n",
    "sp2 = GridSearchCV(LSVC, tuned_parameters, cv=10)\n",
    "sp2.fit(X_genus, y_genus)\n",
    "print(\"Best parameters set for sp2:\")\n",
    "print(sp2.best_params_)"
   ]
  },
  {
   "cell_type": "markdown",
   "metadata": {},
   "source": [
    "Best parameters set for sp2: {'C': 1000, 'tol': 0.001}"
   ]
  },
  {
   "cell_type": "code",
   "execution_count": 10,
   "metadata": {},
   "outputs": [
    {
     "name": "stdout",
     "output_type": "stream",
     "text": [
      "new sp hamming loss: 0.0935618341824919\n"
     ]
    }
   ],
   "source": [
    "# new sp genus classifier\n",
    "sp2 =LinearSVC(penalty='l1',dual=False,C=1000,tol=0.001)\n",
    "sp2.fit(X_genus, y_genus)\n",
    "pred=sp2.predict(test_x)\n",
    "print(\"new sp hamming loss:\",hamming_loss(test_genus, pred))\n",
    "predL3=pd.DataFrame(pred)"
   ]
  },
  {
   "cell_type": "markdown",
   "metadata": {},
   "source": [
    "###### species-sp"
   ]
  },
  {
   "cell_type": "code",
   "execution_count": 11,
   "metadata": {},
   "outputs": [
    {
     "name": "stdout",
     "output_type": "stream",
     "text": [
      "Best parameters set for sp3:\n",
      "{'C': 100, 'tol': 0.001}\n"
     ]
    }
   ],
   "source": [
    "sm = SMOTE(random_state=42)\n",
    "X_species, y_species = sm.fit_resample(train_x, train_species)\n",
    "#build model\n",
    "LSVC=LinearSVC(penalty='l1',dual=False)\n",
    "sp3 = GridSearchCV(LSVC, tuned_parameters, cv=10)\n",
    "sp3.fit(X_species, y_species)\n",
    "print(\"Best parameters set for sp3:\")\n",
    "print(sp3.best_params_)"
   ]
  },
  {
   "cell_type": "markdown",
   "metadata": {},
   "source": [
    "Best parameters set for sp3: {'C': 1000, 'tol': 0.001}"
   ]
  },
  {
   "cell_type": "code",
   "execution_count": 12,
   "metadata": {},
   "outputs": [
    {
     "name": "stdout",
     "output_type": "stream",
     "text": [
      "new sp3 hamming loss: 0.03890690134321445\n"
     ]
    }
   ],
   "source": [
    "# new sp species classifier\n",
    "sp3 =LinearSVC(penalty='l1',dual=False,C=1000,tol=0.001)\n",
    "sp3.fit(X_species, y_species)\n",
    "pred=sp3.predict(test_x)\n",
    "print(\"new sp3 hamming loss:\",hamming_loss(test_species, pred))\n",
    "predL3=pd.DataFrame(pred)"
   ]
  },
  {
   "cell_type": "markdown",
   "metadata": {},
   "source": [
    "#### After resampling (downsample to same size to solve imbalance)\n",
    "new best parameters for linearSVC\n",
    "\n",
    "Best parameters set for sp1: {'C': 100000, 'tol': 0.001}    \n",
    "Best parameters set for sp2: {'C': 1000, 'tol': 0.001}     \n",
    "Best parameters set for sp3: {'C': 1000, 'tol': 0.001}\n",
    "\n",
    "#### Conclusion:\n",
    "\n",
    "To solve the imbalance problem I used SMoTE to make each class with equal size. However, it has the risk that increasing too many support vectors which leads to a narrower margin. Therefore more variance in test set(increase hamming loss)  \n",
    "\n",
    "If support vectors are slightly increased, then the model may perform better for better bias and reasonable variance.\n",
    "\n"
   ]
  },
  {
   "cell_type": "markdown",
   "metadata": {},
   "source": [
    "#### (2) Clustering"
   ]
  },
  {
   "cell_type": "code",
   "execution_count": 13,
   "metadata": {},
   "outputs": [
    {
     "name": "stdout",
     "output_type": "stream",
     "text": [
      "4 0.3839129000392388\n"
     ]
    },
    {
     "data": {
      "image/png": "[encoded data removed]",
      "text/plain": [
       "<Figure size 432x288 with 1 Axes>"
      ]
     },
     "metadata": {},
     "output_type": "display_data"
    }
   ],
   "source": [
    "from sklearn.cluster import KMeans\n",
    "from sklearn import metrics\n",
    "from sklearn.metrics import silhouette_samples, silhouette_score\n",
    "import matplotlib.pyplot as plt\n",
    "import matplotlib.cm as cm\n",
    "from sklearn.metrics import calinski_harabaz_score\n",
    "\n",
    "# split x and y\n",
    "df = pd.read_csv('Frogs_MFCCs.csv',header=0)\n",
    "X=df.iloc[:,0:-4]\n",
    "Y_family=df.iloc[:,-4]\n",
    "Y_genus=df.iloc[:,-3]\n",
    "Y_species=df.iloc[:,-2]\n",
    "\n",
    "\n",
    "Sum_of_squared_distances = []\n",
    "K = range(2,50)\n",
    "scoremax=0\n",
    "bestk=0\n",
    "for k in K:\n",
    "    km = KMeans(n_clusters=k)\n",
    "    km = km.fit(X)\n",
    "    labels = km.labels_\n",
    "    Sum_of_squared_distances.append(km.inertia_)\n",
    "    score=silhouette_score(X, labels, metric='euclidean',random_state=1)\n",
    "    if score>scoremax:\n",
    "        scoremax=score\n",
    "        bestk=k\n",
    "print(bestk,scoremax)                            \n",
    "plt.plot(K, Sum_of_squared_distances, 'bx-')\n",
    "plt.xlabel('k')\n",
    "plt.ylabel('Sum_of_squared_distances')\n",
    "plt.title('Elbow Method For Optimal k')\n",
    "plt.show()\n"
   ]
  },
  {
   "cell_type": "markdown",
   "metadata": {},
   "source": [
    "#### Best k = 4, with the highest score of 0.37886255335886554"
   ]
  },
  {
   "cell_type": "markdown",
   "metadata": {},
   "source": [
    "#### Find majority class"
   ]
  },
  {
   "cell_type": "code",
   "execution_count": 14,
   "metadata": {},
   "outputs": [],
   "source": [
    "km = KMeans(n_clusters=4,random_state=1)\n",
    "km = km.fit(X)\n",
    "label=km.labels_\n",
    "df_family=df.iloc[:,-4]\n",
    "df_genus=df.iloc[:,-3]\n",
    "df_species=df.iloc[:,-2]"
   ]
  },
  {
   "cell_type": "code",
   "execution_count": 15,
   "metadata": {},
   "outputs": [
    {
     "data": {
      "text/html": [
       "<div>\n",
       "<style scoped>\n",
       "    .dataframe tbody tr th:only-of-type {\n",
       "        vertical-align: middle;\n",
       "    }\n",
       "\n",
       "    .dataframe tbody tr th {\n",
       "        vertical-align: top;\n",
       "    }\n",
       "\n",
       "    .dataframe thead th {\n",
       "        text-align: right;\n",
       "    }\n",
       "</style>\n",
       "<table border=\"1\" class=\"dataframe\">\n",
       "  <thead>\n",
       "    <tr style=\"text-align: right;\">\n",
       "      <th></th>\n",
       "      <th></th>\n",
       "      <th>Count</th>\n",
       "    </tr>\n",
       "    <tr>\n",
       "      <th>Class</th>\n",
       "      <th>Name</th>\n",
       "      <th></th>\n",
       "    </tr>\n",
       "  </thead>\n",
       "  <tbody>\n",
       "    <tr>\n",
       "      <th rowspan=\"3\" valign=\"top\">0</th>\n",
       "      <th>Bufonidae</th>\n",
       "      <td>2</td>\n",
       "    </tr>\n",
       "    <tr>\n",
       "      <th>Hylidae</th>\n",
       "      <td>590</td>\n",
       "    </tr>\n",
       "    <tr>\n",
       "      <th>Leptodactylidae</th>\n",
       "      <td>22</td>\n",
       "    </tr>\n",
       "    <tr>\n",
       "      <th rowspan=\"3\" valign=\"top\">1</th>\n",
       "      <th>Dendrobatidae</th>\n",
       "      <td>500</td>\n",
       "    </tr>\n",
       "    <tr>\n",
       "      <th>Hylidae</th>\n",
       "      <td>229</td>\n",
       "    </tr>\n",
       "    <tr>\n",
       "      <th>Leptodactylidae</th>\n",
       "      <td>302</td>\n",
       "    </tr>\n",
       "    <tr>\n",
       "      <th rowspan=\"2\" valign=\"top\">2</th>\n",
       "      <th>Hylidae</th>\n",
       "      <td>101</td>\n",
       "    </tr>\n",
       "    <tr>\n",
       "      <th>Leptodactylidae</th>\n",
       "      <td>3467</td>\n",
       "    </tr>\n",
       "    <tr>\n",
       "      <th rowspan=\"4\" valign=\"top\">3</th>\n",
       "      <th>Bufonidae</th>\n",
       "      <td>66</td>\n",
       "    </tr>\n",
       "    <tr>\n",
       "      <th>Dendrobatidae</th>\n",
       "      <td>42</td>\n",
       "    </tr>\n",
       "    <tr>\n",
       "      <th>Hylidae</th>\n",
       "      <td>1245</td>\n",
       "    </tr>\n",
       "    <tr>\n",
       "      <th>Leptodactylidae</th>\n",
       "      <td>629</td>\n",
       "    </tr>\n",
       "  </tbody>\n",
       "</table>\n",
       "</div>"
      ],
      "text/plain": [
       "                       Count\n",
       "Class Name                  \n",
       "0     Bufonidae            2\n",
       "      Hylidae            590\n",
       "      Leptodactylidae     22\n",
       "1     Dendrobatidae      500\n",
       "      Hylidae            229\n",
       "      Leptodactylidae    302\n",
       "2     Hylidae            101\n",
       "      Leptodactylidae   3467\n",
       "3     Bufonidae           66\n",
       "      Dendrobatidae       42\n",
       "      Hylidae           1245\n",
       "      Leptodactylidae    629"
      ]
     },
     "execution_count": 15,
     "metadata": {},
     "output_type": "execute_result"
    }
   ],
   "source": [
    "# for y_family\n",
    "df_new=pd.DataFrame([df_family.values,label,np.ones(len(label))],index=['Name','Class','Count']).T\n",
    "majority=df_new.groupby(['Class','Name']).count()\n",
    "majority"
   ]
  },
  {
   "cell_type": "code",
   "execution_count": 16,
   "metadata": {},
   "outputs": [
    {
     "name": "stdout",
     "output_type": "stream",
     "text": [
      "Hylidae\n",
      "Dendrobatidae\n",
      "Leptodactylidae\n",
      "Hylidae\n"
     ]
    }
   ],
   "source": [
    "a=majority.reset_index()\n",
    "for i in np.unique(a['Class']):\n",
    "    idm=a[a['Class']==i]['Count'].idxmax()\n",
    "    Name=a['Name'].iloc[idm]\n",
    "    df_new.loc[df_new['Class']==i,'Name']=Name\n",
    "    print(Name)\n",
    "pred_label=pd.DataFrame(df_new.iloc[:,0])"
   ]
  },
  {
   "cell_type": "markdown",
   "metadata": {},
   "source": [
    "For Family:\n",
    "\n",
    "'Class'=0,'Hylidae'    \n",
    "'Class'=1,'Dendrobatidae'    \n",
    "'Class'=2,'Leptodactylidae'   \n",
    "'Class'=3,'Hylidae'   "
   ]
  },
  {
   "cell_type": "code",
   "execution_count": 17,
   "metadata": {},
   "outputs": [
    {
     "data": {
      "text/html": [
       "<div>\n",
       "<style scoped>\n",
       "    .dataframe tbody tr th:only-of-type {\n",
       "        vertical-align: middle;\n",
       "    }\n",
       "\n",
       "    .dataframe tbody tr th {\n",
       "        vertical-align: top;\n",
       "    }\n",
       "\n",
       "    .dataframe thead th {\n",
       "        text-align: right;\n",
       "    }\n",
       "</style>\n",
       "<table border=\"1\" class=\"dataframe\">\n",
       "  <thead>\n",
       "    <tr style=\"text-align: right;\">\n",
       "      <th></th>\n",
       "      <th></th>\n",
       "      <th>Count</th>\n",
       "    </tr>\n",
       "    <tr>\n",
       "      <th>Class</th>\n",
       "      <th>Name</th>\n",
       "      <th></th>\n",
       "    </tr>\n",
       "  </thead>\n",
       "  <tbody>\n",
       "    <tr>\n",
       "      <th rowspan=\"6\" valign=\"top\">0</th>\n",
       "      <th>Adenomera</th>\n",
       "      <td>12</td>\n",
       "    </tr>\n",
       "    <tr>\n",
       "      <th>Hypsiboas</th>\n",
       "      <td>542</td>\n",
       "    </tr>\n",
       "    <tr>\n",
       "      <th>Leptodactylus</th>\n",
       "      <td>10</td>\n",
       "    </tr>\n",
       "    <tr>\n",
       "      <th>Osteocephalus</th>\n",
       "      <td>38</td>\n",
       "    </tr>\n",
       "    <tr>\n",
       "      <th>Rhinella</th>\n",
       "      <td>2</td>\n",
       "    </tr>\n",
       "    <tr>\n",
       "      <th>Scinax</th>\n",
       "      <td>10</td>\n",
       "    </tr>\n",
       "    <tr>\n",
       "      <th rowspan=\"6\" valign=\"top\">1</th>\n",
       "      <th>Adenomera</th>\n",
       "      <td>296</td>\n",
       "    </tr>\n",
       "    <tr>\n",
       "      <th>Ameerega</th>\n",
       "      <td>500</td>\n",
       "    </tr>\n",
       "    <tr>\n",
       "      <th>Dendropsophus</th>\n",
       "      <td>189</td>\n",
       "    </tr>\n",
       "    <tr>\n",
       "      <th>Hypsiboas</th>\n",
       "      <td>1</td>\n",
       "    </tr>\n",
       "    <tr>\n",
       "      <th>Leptodactylus</th>\n",
       "      <td>6</td>\n",
       "    </tr>\n",
       "    <tr>\n",
       "      <th>Scinax</th>\n",
       "      <td>39</td>\n",
       "    </tr>\n",
       "    <tr>\n",
       "      <th rowspan=\"5\" valign=\"top\">2</th>\n",
       "      <th>Adenomera</th>\n",
       "      <td>3466</td>\n",
       "    </tr>\n",
       "    <tr>\n",
       "      <th>Dendropsophus</th>\n",
       "      <td>86</td>\n",
       "    </tr>\n",
       "    <tr>\n",
       "      <th>Hypsiboas</th>\n",
       "      <td>12</td>\n",
       "    </tr>\n",
       "    <tr>\n",
       "      <th>Leptodactylus</th>\n",
       "      <td>1</td>\n",
       "    </tr>\n",
       "    <tr>\n",
       "      <th>Scinax</th>\n",
       "      <td>3</td>\n",
       "    </tr>\n",
       "    <tr>\n",
       "      <th rowspan=\"8\" valign=\"top\">3</th>\n",
       "      <th>Adenomera</th>\n",
       "      <td>376</td>\n",
       "    </tr>\n",
       "    <tr>\n",
       "      <th>Ameerega</th>\n",
       "      <td>42</td>\n",
       "    </tr>\n",
       "    <tr>\n",
       "      <th>Dendropsophus</th>\n",
       "      <td>35</td>\n",
       "    </tr>\n",
       "    <tr>\n",
       "      <th>Hypsiboas</th>\n",
       "      <td>1038</td>\n",
       "    </tr>\n",
       "    <tr>\n",
       "      <th>Leptodactylus</th>\n",
       "      <td>253</td>\n",
       "    </tr>\n",
       "    <tr>\n",
       "      <th>Osteocephalus</th>\n",
       "      <td>76</td>\n",
       "    </tr>\n",
       "    <tr>\n",
       "      <th>Rhinella</th>\n",
       "      <td>66</td>\n",
       "    </tr>\n",
       "    <tr>\n",
       "      <th>Scinax</th>\n",
       "      <td>96</td>\n",
       "    </tr>\n",
       "  </tbody>\n",
       "</table>\n",
       "</div>"
      ],
      "text/plain": [
       "                     Count\n",
       "Class Name                \n",
       "0     Adenomera         12\n",
       "      Hypsiboas        542\n",
       "      Leptodactylus     10\n",
       "      Osteocephalus     38\n",
       "      Rhinella           2\n",
       "      Scinax            10\n",
       "1     Adenomera        296\n",
       "      Ameerega         500\n",
       "      Dendropsophus    189\n",
       "      Hypsiboas          1\n",
       "      Leptodactylus      6\n",
       "      Scinax            39\n",
       "2     Adenomera       3466\n",
       "      Dendropsophus     86\n",
       "      Hypsiboas         12\n",
       "      Leptodactylus      1\n",
       "      Scinax             3\n",
       "3     Adenomera        376\n",
       "      Ameerega          42\n",
       "      Dendropsophus     35\n",
       "      Hypsiboas       1038\n",
       "      Leptodactylus    253\n",
       "      Osteocephalus     76\n",
       "      Rhinella          66\n",
       "      Scinax            96"
      ]
     },
     "execution_count": 17,
     "metadata": {},
     "output_type": "execute_result"
    }
   ],
   "source": [
    "# for y_genuse\n",
    "df_new=pd.DataFrame([df_genus.values,label,np.ones(len(label))],index=['Name','Class','Count']).T\n",
    "majority2=df_new.groupby(['Class','Name']).count()\n",
    "majority2"
   ]
  },
  {
   "cell_type": "code",
   "execution_count": 18,
   "metadata": {},
   "outputs": [],
   "source": [
    "a=majority2.reset_index()\n",
    "for i in np.unique(a['Class']):\n",
    "    idm=a[a['Class']==i]['Count'].idxmax()\n",
    "    Name=a['Name'].iloc[idm]\n",
    "    df_new.loc[df_new['Class']==i,'Name']=Name\n",
    "#    print(Name)\n",
    "pred_label=pd.concat([pred_label,df_new.iloc[:,0]],axis=1)"
   ]
  },
  {
   "cell_type": "markdown",
   "metadata": {},
   "source": [
    "For Genus:\n",
    "    \n",
    "'Class'=0,'Hypsiboas'    \n",
    "'Class'=1,'Ameerega'    \n",
    "'Class'=2,'Adenomera'    \n",
    "'Class'=3,'Hypsiboas'"
   ]
  },
  {
   "cell_type": "code",
   "execution_count": 19,
   "metadata": {
    "scrolled": false
   },
   "outputs": [
    {
     "data": {
      "text/html": [
       "<div>\n",
       "<style scoped>\n",
       "    .dataframe tbody tr th:only-of-type {\n",
       "        vertical-align: middle;\n",
       "    }\n",
       "\n",
       "    .dataframe tbody tr th {\n",
       "        vertical-align: top;\n",
       "    }\n",
       "\n",
       "    .dataframe thead th {\n",
       "        text-align: right;\n",
       "    }\n",
       "</style>\n",
       "<table border=\"1\" class=\"dataframe\">\n",
       "  <thead>\n",
       "    <tr style=\"text-align: right;\">\n",
       "      <th></th>\n",
       "      <th></th>\n",
       "      <th>Count</th>\n",
       "    </tr>\n",
       "    <tr>\n",
       "      <th>Class</th>\n",
       "      <th>Name</th>\n",
       "      <th></th>\n",
       "    </tr>\n",
       "  </thead>\n",
       "  <tbody>\n",
       "    <tr>\n",
       "      <th rowspan=\"8\" valign=\"top\">0</th>\n",
       "      <th>AdenomeraAndre</th>\n",
       "      <td>6</td>\n",
       "    </tr>\n",
       "    <tr>\n",
       "      <th>AdenomeraHylaedactylus</th>\n",
       "      <td>6</td>\n",
       "    </tr>\n",
       "    <tr>\n",
       "      <th>HypsiboasCinerascens</th>\n",
       "      <td>452</td>\n",
       "    </tr>\n",
       "    <tr>\n",
       "      <th>HypsiboasCordobae</th>\n",
       "      <td>90</td>\n",
       "    </tr>\n",
       "    <tr>\n",
       "      <th>LeptodactylusFuscus</th>\n",
       "      <td>10</td>\n",
       "    </tr>\n",
       "    <tr>\n",
       "      <th>OsteocephalusOophagus</th>\n",
       "      <td>38</td>\n",
       "    </tr>\n",
       "    <tr>\n",
       "      <th>Rhinellagranulosa</th>\n",
       "      <td>2</td>\n",
       "    </tr>\n",
       "    <tr>\n",
       "      <th>ScinaxRuber</th>\n",
       "      <td>10</td>\n",
       "    </tr>\n",
       "    <tr>\n",
       "      <th rowspan=\"6\" valign=\"top\">1</th>\n",
       "      <th>AdenomeraAndre</th>\n",
       "      <td>296</td>\n",
       "    </tr>\n",
       "    <tr>\n",
       "      <th>Ameeregatrivittata</th>\n",
       "      <td>500</td>\n",
       "    </tr>\n",
       "    <tr>\n",
       "      <th>HylaMinuta</th>\n",
       "      <td>189</td>\n",
       "    </tr>\n",
       "    <tr>\n",
       "      <th>HypsiboasCordobae</th>\n",
       "      <td>1</td>\n",
       "    </tr>\n",
       "    <tr>\n",
       "      <th>LeptodactylusFuscus</th>\n",
       "      <td>6</td>\n",
       "    </tr>\n",
       "    <tr>\n",
       "      <th>ScinaxRuber</th>\n",
       "      <td>39</td>\n",
       "    </tr>\n",
       "    <tr>\n",
       "      <th rowspan=\"5\" valign=\"top\">2</th>\n",
       "      <th>AdenomeraHylaedactylus</th>\n",
       "      <td>3466</td>\n",
       "    </tr>\n",
       "    <tr>\n",
       "      <th>HylaMinuta</th>\n",
       "      <td>86</td>\n",
       "    </tr>\n",
       "    <tr>\n",
       "      <th>HypsiboasCordobae</th>\n",
       "      <td>12</td>\n",
       "    </tr>\n",
       "    <tr>\n",
       "      <th>LeptodactylusFuscus</th>\n",
       "      <td>1</td>\n",
       "    </tr>\n",
       "    <tr>\n",
       "      <th>ScinaxRuber</th>\n",
       "      <td>3</td>\n",
       "    </tr>\n",
       "    <tr>\n",
       "      <th rowspan=\"10\" valign=\"top\">3</th>\n",
       "      <th>AdenomeraAndre</th>\n",
       "      <td>370</td>\n",
       "    </tr>\n",
       "    <tr>\n",
       "      <th>AdenomeraHylaedactylus</th>\n",
       "      <td>6</td>\n",
       "    </tr>\n",
       "    <tr>\n",
       "      <th>Ameeregatrivittata</th>\n",
       "      <td>42</td>\n",
       "    </tr>\n",
       "    <tr>\n",
       "      <th>HylaMinuta</th>\n",
       "      <td>35</td>\n",
       "    </tr>\n",
       "    <tr>\n",
       "      <th>HypsiboasCinerascens</th>\n",
       "      <td>20</td>\n",
       "    </tr>\n",
       "    <tr>\n",
       "      <th>HypsiboasCordobae</th>\n",
       "      <td>1018</td>\n",
       "    </tr>\n",
       "    <tr>\n",
       "      <th>LeptodactylusFuscus</th>\n",
       "      <td>253</td>\n",
       "    </tr>\n",
       "    <tr>\n",
       "      <th>OsteocephalusOophagus</th>\n",
       "      <td>76</td>\n",
       "    </tr>\n",
       "    <tr>\n",
       "      <th>Rhinellagranulosa</th>\n",
       "      <td>66</td>\n",
       "    </tr>\n",
       "    <tr>\n",
       "      <th>ScinaxRuber</th>\n",
       "      <td>96</td>\n",
       "    </tr>\n",
       "  </tbody>\n",
       "</table>\n",
       "</div>"
      ],
      "text/plain": [
       "                              Count\n",
       "Class Name                         \n",
       "0     AdenomeraAndre              6\n",
       "      AdenomeraHylaedactylus      6\n",
       "      HypsiboasCinerascens      452\n",
       "      HypsiboasCordobae          90\n",
       "      LeptodactylusFuscus        10\n",
       "      OsteocephalusOophagus      38\n",
       "      Rhinellagranulosa           2\n",
       "      ScinaxRuber                10\n",
       "1     AdenomeraAndre            296\n",
       "      Ameeregatrivittata        500\n",
       "      HylaMinuta                189\n",
       "      HypsiboasCordobae           1\n",
       "      LeptodactylusFuscus         6\n",
       "      ScinaxRuber                39\n",
       "2     AdenomeraHylaedactylus   3466\n",
       "      HylaMinuta                 86\n",
       "      HypsiboasCordobae          12\n",
       "      LeptodactylusFuscus         1\n",
       "      ScinaxRuber                 3\n",
       "3     AdenomeraAndre            370\n",
       "      AdenomeraHylaedactylus      6\n",
       "      Ameeregatrivittata         42\n",
       "      HylaMinuta                 35\n",
       "      HypsiboasCinerascens       20\n",
       "      HypsiboasCordobae        1018\n",
       "      LeptodactylusFuscus       253\n",
       "      OsteocephalusOophagus      76\n",
       "      Rhinellagranulosa          66\n",
       "      ScinaxRuber                96"
      ]
     },
     "execution_count": 19,
     "metadata": {},
     "output_type": "execute_result"
    }
   ],
   "source": [
    "# for y_species\n",
    "df_new=pd.DataFrame([df_species.values,label,np.ones(len(label))],index=['Name','Class','Count']).T\n",
    "majority3=df_new.groupby(['Class','Name']).count()\n",
    "majority3"
   ]
  },
  {
   "cell_type": "code",
   "execution_count": 20,
   "metadata": {},
   "outputs": [
    {
     "name": "stdout",
     "output_type": "stream",
     "text": [
      "HypsiboasCinerascens\n",
      "Ameeregatrivittata\n",
      "AdenomeraHylaedactylus\n",
      "HypsiboasCordobae\n"
     ]
    }
   ],
   "source": [
    "a=majority3.reset_index()\n",
    "for i in np.unique(a['Class']):\n",
    "    idm=a[a['Class']==i]['Count'].idxmax()\n",
    "    Name=a['Name'].iloc[idm]\n",
    "    df_new.loc[df_new['Class']==i,'Name']=Name\n",
    "    print(Name)\n",
    "pred_label=pd.concat([pred_label,df_new.iloc[:,0]],axis=1)"
   ]
  },
  {
   "cell_type": "markdown",
   "metadata": {},
   "source": [
    "#### Calculate hamming loss"
   ]
  },
  {
   "cell_type": "code",
   "execution_count": 21,
   "metadata": {
    "scrolled": true
   },
   "outputs": [],
   "source": [
    "# prepare true_label and predict_label\n",
    "true_label=df.iloc[:,-4:-1]\n",
    "pred_label.columns=['Family','Genus','Species']"
   ]
  },
  {
   "cell_type": "code",
   "execution_count": 22,
   "metadata": {},
   "outputs": [
    {
     "data": {
      "text/plain": [
       "0.2224229789205467"
      ]
     },
     "execution_count": 22,
     "metadata": {},
     "output_type": "execute_result"
    }
   ],
   "source": [
    "# calculate hamming loss\n",
    "y_pred=pred_label.values.ravel().tolist()\n",
    "y_true=true_label.values.ravel().tolist()\n",
    "from sklearn.metrics import hamming_loss\n",
    "hamming_loss(y_true, y_pred)"
   ]
  },
  {
   "cell_type": "code",
   "execution_count": 23,
   "metadata": {},
   "outputs": [
    {
     "data": {
      "text/plain": [
       "0.7775770210794534"
      ]
     },
     "execution_count": 23,
     "metadata": {},
     "output_type": "execute_result"
    }
   ],
   "source": [
    "# hamming score /accuracy score\n",
    "from sklearn.metrics import accuracy_score\n",
    "accuracy_score(y_true, y_pred)"
   ]
  },
  {
   "cell_type": "code",
   "execution_count": 24,
   "metadata": {},
   "outputs": [
    {
     "name": "stdout",
     "output_type": "stream",
     "text": [
      "1600.3333333333333\n"
     ]
    }
   ],
   "source": [
    "# hamming distance\n",
    "dis=0\n",
    "result = zip(y_pred, y_true)\n",
    "for i in result:\n",
    "    if i[0]!=i[1]:\n",
    "        dis=dis+1\n",
    "print(dis/3)    "
   ]
  },
  {
   "cell_type": "markdown",
   "metadata": {},
   "source": [
    "#### EVALUATE\n",
    "Hamming loss:0.2224229789205467    \n",
    "Hamming Score:0.7775770210794534    \n",
    "AVG Hamming Distance: 4801/3=1600.33 "
   ]
  },
  {
   "cell_type": "markdown",
   "metadata": {},
   "source": [
    "#### monte carlo"
   ]
  },
  {
   "cell_type": "code",
   "execution_count": 25,
   "metadata": {},
   "outputs": [
    {
     "name": "stdout",
     "output_type": "stream",
     "text": [
      "0 4\n",
      "AVG hamming distance: 1600.3333333333333\n",
      "1 4\n",
      "AVG hamming distance: 1600.3333333333333\n",
      "2 4\n",
      "AVG hamming distance: 1600.3333333333333\n",
      "3 4\n",
      "AVG hamming distance: 1599.3333333333333\n",
      "4 4\n",
      "AVG hamming distance: 1600.3333333333333\n",
      "5 4\n",
      "AVG hamming distance: 1600.3333333333333\n",
      "6 4\n",
      "AVG hamming distance: 1600.3333333333333\n",
      "7 4\n",
      "AVG hamming distance: 1600.6666666666667\n",
      "8 4\n",
      "AVG hamming distance: 1600.3333333333333\n",
      "9 4\n",
      "AVG hamming distance: 1600.3333333333333\n",
      "10 4\n",
      "AVG hamming distance: 1600.3333333333333\n",
      "11 4\n",
      "AVG hamming distance: 1600.3333333333333\n",
      "12 4\n",
      "AVG hamming distance: 1600.3333333333333\n",
      "13 4\n",
      "AVG hamming distance: 1600.3333333333333\n",
      "14 4\n",
      "AVG hamming distance: 1600.3333333333333\n",
      "15 4\n",
      "AVG hamming distance: 1764.6666666666667\n",
      "16 4\n",
      "AVG hamming distance: 1600.3333333333333\n",
      "17 4\n",
      "AVG hamming distance: 1600.3333333333333\n",
      "18 4\n",
      "AVG hamming distance: 1600.3333333333333\n",
      "19 4\n",
      "AVG hamming distance: 1600.3333333333333\n",
      "20 4\n",
      "AVG hamming distance: 1764.6666666666667\n",
      "21 4\n",
      "AVG hamming distance: 1596.6666666666667\n",
      "22 4\n",
      "AVG hamming distance: 1600.3333333333333\n",
      "23 4\n",
      "AVG hamming distance: 1600.3333333333333\n",
      "24 4\n",
      "AVG hamming distance: 1600.3333333333333\n",
      "25 4\n",
      "AVG hamming distance: 1600.3333333333333\n",
      "26 4\n",
      "AVG hamming distance: 1600.3333333333333\n",
      "27 4\n",
      "AVG hamming distance: 1600.3333333333333\n",
      "28 4\n",
      "AVG hamming distance: 1600.3333333333333\n",
      "29 4\n",
      "AVG hamming distance: 1600.3333333333333\n",
      "30 4\n",
      "AVG hamming distance: 1600.3333333333333\n",
      "31 4\n",
      "AVG hamming distance: 1600.3333333333333\n",
      "32 4\n",
      "AVG hamming distance: 1600.3333333333333\n",
      "33 4\n",
      "AVG hamming distance: 1600.3333333333333\n",
      "34 4\n",
      "AVG hamming distance: 1600.3333333333333\n",
      "35 4\n",
      "AVG hamming distance: 1600.3333333333333\n",
      "36 4\n",
      "AVG hamming distance: 1600.3333333333333\n",
      "37 4\n",
      "AVG hamming distance: 1679.0\n",
      "38 4\n",
      "AVG hamming distance: 1599.3333333333333\n",
      "39 4\n",
      "AVG hamming distance: 1600.3333333333333\n",
      "40 4\n",
      "AVG hamming distance: 1600.3333333333333\n",
      "41 4\n",
      "AVG hamming distance: 1600.3333333333333\n",
      "42 4\n",
      "AVG hamming distance: 1600.3333333333333\n",
      "43 4\n",
      "AVG hamming distance: 1600.3333333333333\n",
      "44 4\n",
      "AVG hamming distance: 1600.3333333333333\n",
      "45 4\n",
      "AVG hamming distance: 1600.3333333333333\n",
      "46 4\n",
      "AVG hamming distance: 1600.3333333333333\n",
      "47 4\n",
      "AVG hamming distance: 1600.6666666666667\n",
      "48 4\n",
      "AVG hamming distance: 1684.0\n",
      "49 4\n",
      "AVG hamming distance: 1599.3333333333333\n"
     ]
    }
   ],
   "source": [
    "# split x and y\n",
    "df = pd.read_csv('Frogs_MFCCs.csv',header=0)\n",
    "X=df.iloc[:,0:-4]\n",
    "df_family=df.iloc[:,-4]\n",
    "df_genus=df.iloc[:,-3]\n",
    "df_species=df.iloc[:,-2]\n",
    "dist=[]\n",
    " \n",
    "for i in range(50):\n",
    "    K = range(2,50)\n",
    "    scoremax=0\n",
    "    bestk=0\n",
    "    for k in K:\n",
    "        km = KMeans(n_clusters=k)\n",
    "        km = km.fit(X)\n",
    "        labels = km.labels_\n",
    "        score=silhouette_score(X, labels, metric='euclidean',random_state=1)\n",
    "        if score>scoremax:\n",
    "            scoremax=score\n",
    "            bestk=k\n",
    "    print(i,bestk)\n",
    "    km = KMeans(n_clusters=bestk)\n",
    "    km = km.fit(X)\n",
    "    label=km.labels_\n",
    "\n",
    "    # for y_family\n",
    "    df_new=pd.DataFrame([df_family.values,label,np.ones(len(label))],index=['Name','Class','Count']).T\n",
    "    majority=df_new.groupby(['Class','Name']).count()\n",
    "    a=majority.reset_index()\n",
    "    for i in np.unique(a['Class']):\n",
    "        idm=a[a['Class']==i]['Count'].idxmax()\n",
    "        Name=a['Name'].iloc[idm]\n",
    "        df_new.loc[df_new['Class']==i,'Name']=Name\n",
    "    pred_label=pd.DataFrame(df_new.iloc[:,0])\n",
    "    \n",
    "    # for y_genuse\n",
    "    df_new=pd.DataFrame([df_genus.values,label,np.ones(len(label))],index=['Name','Class','Count']).T\n",
    "    majority2=df_new.groupby(['Class','Name']).count()\n",
    "    a=majority2.reset_index()\n",
    "    for i in np.unique(a['Class']):\n",
    "        idm=a[a['Class']==i]['Count'].idxmax()\n",
    "        Name=a['Name'].iloc[idm]\n",
    "        df_new.loc[df_new['Class']==i,'Name']=Name\n",
    "    pred_label=pd.concat([pred_label,df_new.iloc[:,0]],axis=1)\n",
    "    \n",
    "    # for y_species\n",
    "    df_new=pd.DataFrame([df_species.values,label,np.ones(len(label))],index=['Name','Class','Count']).T\n",
    "    majority3=df_new.groupby(['Class','Name']).count()\n",
    "    a=majority3.reset_index()\n",
    "    for i in np.unique(a['Class']):\n",
    "        idm=a[a['Class']==i]['Count'].idxmax()\n",
    "        Name=a['Name'].iloc[idm]\n",
    "        df_new.loc[df_new['Class']==i,'Name']=Name\n",
    "    pred_label=pd.concat([pred_label,df_new.iloc[:,0]],axis=1)\n",
    "    \n",
    "    # prepare true_label and predict_label\n",
    "    true_label=df.iloc[:,-4:-1]\n",
    "    pred_label.columns=['Family','Genus','Species']\n",
    "    y_pred=pred_label.values.ravel().tolist()\n",
    "    y_true=true_label.values.ravel().tolist()\n",
    "    \n",
    "    # hamming distance\n",
    "    dis=0\n",
    "    result = zip(y_pred, y_true)\n",
    "    for i in result:\n",
    "        if i[0]!=i[1]:\n",
    "            dis=dis+1\n",
    "    dis=dis/3\n",
    "    print(\"AVG hamming distance:\",dis)\n",
    "    dist.append(dis)  \n",
    "      "
   ]
  },
  {
   "cell_type": "code",
   "execution_count": 26,
   "metadata": {},
   "outputs": [
    {
     "data": {
      "text/plain": [
       "1610.033333333333"
      ]
     },
     "execution_count": 26,
     "metadata": {},
     "output_type": "execute_result"
    }
   ],
   "source": [
    "np.mean(dist)"
   ]
  },
  {
   "cell_type": "code",
   "execution_count": 27,
   "metadata": {},
   "outputs": [
    {
     "data": {
      "text/plain": [
       "35.358623024974044"
      ]
     },
     "execution_count": 27,
     "metadata": {},
     "output_type": "execute_result"
    }
   ],
   "source": [
    "np.std(dist)"
   ]
  },
  {
   "cell_type": "markdown",
   "metadata": {},
   "source": [
    "Monte Carlo(50 times)\n",
    "mean: 1618.16\n",
    "std:47.18"
   ]
  },
  {
   "cell_type": "code",
   "execution_count": null,
   "metadata": {},
   "outputs": [],
   "source": []
  }
 ],
 "metadata": {
  "hide_input": false,
  "kernelspec": {
   "display_name": "Python 3",
   "language": "python",
   "name": "python3"
  },
  "language_info": {
   "codemirror_mode": {
    "name": "ipython",
    "version": 3
   },
   "file_extension": ".py",
   "mimetype": "text/x-python",
   "name": "python",
   "nbconvert_exporter": "python",
   "pygments_lexer": "ipython3",
   "version": "3.6.5"
  },
  "toc": {
   "base_numbering": 1,
   "nav_menu": {},
   "number_sections": false,
   "sideBar": true,
   "skip_h1_title": false,
   "title_cell": "Table of Contents",
   "title_sidebar": "Contents",
   "toc_cell": false,
   "toc_position": {},
   "toc_section_display": true,
   "toc_window_display": false
  }
 },
 "nbformat": 4,
 "nbformat_minor": 2
}
