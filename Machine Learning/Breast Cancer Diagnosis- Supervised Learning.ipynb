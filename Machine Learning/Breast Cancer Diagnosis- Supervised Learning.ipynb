{
 "cells": [
  {
   "cell_type": "markdown",
   "metadata": {},
   "source": [
    "## Jialin Shi  --  Breast Cancer Diagnosis"
   ]
  },
  {
   "cell_type": "markdown",
   "metadata": {},
   "source": [
    "### Supervised Learning:\n",
    "###### Method:\n",
    "Normalize data.\n",
    "Train an L1-penalized SVM to classify the data.    \n",
    "Use 5 fold cv to choose the penalty parameter.    \n",
    "Report  accuracy, precision, recall, F-score, and AUC, for test sets."
   ]
  },
  {
   "cell_type": "markdown",
   "metadata": {},
   "source": [
    "###### Monte Carlo Simulation     \n",
    "        (test_accuray : 0.965   \n",
    "         test_precision : 0.932    \n",
    "         test_recall : 0.960    \n",
    "         test_auc : 0.960    \n",
    "         test_fscore : 0.963)    \n"
   ]
  },
  {
   "cell_type": "code",
   "execution_count": 1,
   "metadata": {},
   "outputs": [],
   "source": [
    "import pandas as pd\n",
    "import numpy as np\n",
    "import matplotlib.pyplot as plt\n",
    "import seaborn as sns\n",
    "from sklearn.svm import SVC\n",
    "from sklearn.svm import LinearSVC\n",
    "\n",
    "from sklearn.model_selection import train_test_split  \n",
    "from sklearn.preprocessing import StandardScaler      \n",
    "from sklearn.metrics import confusion_matrix                         \n",
    "from sklearn.metrics import accuracy_score  \n",
    "from sklearn.model_selection import GridSearchCV\n",
    "from sklearn.metrics import classification_report\n",
    "from sklearn.cluster import KMeans\n",
    "from sklearn import metrics\n",
    "from sklearn.metrics import silhouette_samples, silhouette_score\n",
    "import matplotlib.pyplot as plt\n",
    "import matplotlib.cm as cm\n",
    "from sklearn.metrics import calinski_harabaz_score\n",
    "from sklearn.metrics import hamming_loss\n",
    "from sklearn.preprocessing import Normalizer\n",
    "import warnings\n",
    "warnings.filterwarnings('ignore')\n",
    "from sklearn.cluster import SpectralClustering"
   ]
  },
  {
   "cell_type": "markdown",
   "metadata": {},
   "source": [
    "#### Load breast cancer data"
   ]
  },
  {
   "cell_type": "code",
   "execution_count": 2,
   "metadata": {
    "scrolled": true
   },
   "outputs": [
    {
     "data": {
      "text/html": [
       "<div>\n",
       "<style scoped>\n",
       "    .dataframe tbody tr th:only-of-type {\n",
       "        vertical-align: middle;\n",
       "    }\n",
       "\n",
       "    .dataframe tbody tr th {\n",
       "        vertical-align: top;\n",
       "    }\n",
       "\n",
       "    .dataframe thead th {\n",
       "        text-align: right;\n",
       "    }\n",
       "</style>\n",
       "<table border=\"1\" class=\"dataframe\">\n",
       "  <thead>\n",
       "    <tr style=\"text-align: right;\">\n",
       "      <th></th>\n",
       "      <th>0</th>\n",
       "      <th>1</th>\n",
       "      <th>2</th>\n",
       "      <th>3</th>\n",
       "      <th>4</th>\n",
       "      <th>5</th>\n",
       "      <th>6</th>\n",
       "      <th>7</th>\n",
       "      <th>8</th>\n",
       "      <th>9</th>\n",
       "      <th>...</th>\n",
       "      <th>22</th>\n",
       "      <th>23</th>\n",
       "      <th>24</th>\n",
       "      <th>25</th>\n",
       "      <th>26</th>\n",
       "      <th>27</th>\n",
       "      <th>28</th>\n",
       "      <th>29</th>\n",
       "      <th>30</th>\n",
       "      <th>31</th>\n",
       "    </tr>\n",
       "  </thead>\n",
       "  <tbody>\n",
       "    <tr>\n",
       "      <th>0</th>\n",
       "      <td>842302</td>\n",
       "      <td>M</td>\n",
       "      <td>17.99</td>\n",
       "      <td>10.38</td>\n",
       "      <td>122.80</td>\n",
       "      <td>1001.0</td>\n",
       "      <td>0.11840</td>\n",
       "      <td>0.27760</td>\n",
       "      <td>0.3001</td>\n",
       "      <td>0.14710</td>\n",
       "      <td>...</td>\n",
       "      <td>25.38</td>\n",
       "      <td>17.33</td>\n",
       "      <td>184.60</td>\n",
       "      <td>2019.0</td>\n",
       "      <td>0.1622</td>\n",
       "      <td>0.6656</td>\n",
       "      <td>0.7119</td>\n",
       "      <td>0.2654</td>\n",
       "      <td>0.4601</td>\n",
       "      <td>0.11890</td>\n",
       "    </tr>\n",
       "    <tr>\n",
       "      <th>1</th>\n",
       "      <td>842517</td>\n",
       "      <td>M</td>\n",
       "      <td>20.57</td>\n",
       "      <td>17.77</td>\n",
       "      <td>132.90</td>\n",
       "      <td>1326.0</td>\n",
       "      <td>0.08474</td>\n",
       "      <td>0.07864</td>\n",
       "      <td>0.0869</td>\n",
       "      <td>0.07017</td>\n",
       "      <td>...</td>\n",
       "      <td>24.99</td>\n",
       "      <td>23.41</td>\n",
       "      <td>158.80</td>\n",
       "      <td>1956.0</td>\n",
       "      <td>0.1238</td>\n",
       "      <td>0.1866</td>\n",
       "      <td>0.2416</td>\n",
       "      <td>0.1860</td>\n",
       "      <td>0.2750</td>\n",
       "      <td>0.08902</td>\n",
       "    </tr>\n",
       "    <tr>\n",
       "      <th>2</th>\n",
       "      <td>84300903</td>\n",
       "      <td>M</td>\n",
       "      <td>19.69</td>\n",
       "      <td>21.25</td>\n",
       "      <td>130.00</td>\n",
       "      <td>1203.0</td>\n",
       "      <td>0.10960</td>\n",
       "      <td>0.15990</td>\n",
       "      <td>0.1974</td>\n",
       "      <td>0.12790</td>\n",
       "      <td>...</td>\n",
       "      <td>23.57</td>\n",
       "      <td>25.53</td>\n",
       "      <td>152.50</td>\n",
       "      <td>1709.0</td>\n",
       "      <td>0.1444</td>\n",
       "      <td>0.4245</td>\n",
       "      <td>0.4504</td>\n",
       "      <td>0.2430</td>\n",
       "      <td>0.3613</td>\n",
       "      <td>0.08758</td>\n",
       "    </tr>\n",
       "    <tr>\n",
       "      <th>3</th>\n",
       "      <td>84348301</td>\n",
       "      <td>M</td>\n",
       "      <td>11.42</td>\n",
       "      <td>20.38</td>\n",
       "      <td>77.58</td>\n",
       "      <td>386.1</td>\n",
       "      <td>0.14250</td>\n",
       "      <td>0.28390</td>\n",
       "      <td>0.2414</td>\n",
       "      <td>0.10520</td>\n",
       "      <td>...</td>\n",
       "      <td>14.91</td>\n",
       "      <td>26.50</td>\n",
       "      <td>98.87</td>\n",
       "      <td>567.7</td>\n",
       "      <td>0.2098</td>\n",
       "      <td>0.8663</td>\n",
       "      <td>0.6869</td>\n",
       "      <td>0.2575</td>\n",
       "      <td>0.6638</td>\n",
       "      <td>0.17300</td>\n",
       "    </tr>\n",
       "    <tr>\n",
       "      <th>4</th>\n",
       "      <td>84358402</td>\n",
       "      <td>M</td>\n",
       "      <td>20.29</td>\n",
       "      <td>14.34</td>\n",
       "      <td>135.10</td>\n",
       "      <td>1297.0</td>\n",
       "      <td>0.10030</td>\n",
       "      <td>0.13280</td>\n",
       "      <td>0.1980</td>\n",
       "      <td>0.10430</td>\n",
       "      <td>...</td>\n",
       "      <td>22.54</td>\n",
       "      <td>16.67</td>\n",
       "      <td>152.20</td>\n",
       "      <td>1575.0</td>\n",
       "      <td>0.1374</td>\n",
       "      <td>0.2050</td>\n",
       "      <td>0.4000</td>\n",
       "      <td>0.1625</td>\n",
       "      <td>0.2364</td>\n",
       "      <td>0.07678</td>\n",
       "    </tr>\n",
       "  </tbody>\n",
       "</table>\n",
       "<p>5 rows × 32 columns</p>\n",
       "</div>"
      ],
      "text/plain": [
       "         0  1      2      3       4       5        6        7       8   \\\n",
       "0    842302  M  17.99  10.38  122.80  1001.0  0.11840  0.27760  0.3001   \n",
       "1    842517  M  20.57  17.77  132.90  1326.0  0.08474  0.07864  0.0869   \n",
       "2  84300903  M  19.69  21.25  130.00  1203.0  0.10960  0.15990  0.1974   \n",
       "3  84348301  M  11.42  20.38   77.58   386.1  0.14250  0.28390  0.2414   \n",
       "4  84358402  M  20.29  14.34  135.10  1297.0  0.10030  0.13280  0.1980   \n",
       "\n",
       "        9    ...        22     23      24      25      26      27      28  \\\n",
       "0  0.14710   ...     25.38  17.33  184.60  2019.0  0.1622  0.6656  0.7119   \n",
       "1  0.07017   ...     24.99  23.41  158.80  1956.0  0.1238  0.1866  0.2416   \n",
       "2  0.12790   ...     23.57  25.53  152.50  1709.0  0.1444  0.4245  0.4504   \n",
       "3  0.10520   ...     14.91  26.50   98.87   567.7  0.2098  0.8663  0.6869   \n",
       "4  0.10430   ...     22.54  16.67  152.20  1575.0  0.1374  0.2050  0.4000   \n",
       "\n",
       "       29      30       31  \n",
       "0  0.2654  0.4601  0.11890  \n",
       "1  0.1860  0.2750  0.08902  \n",
       "2  0.2430  0.3613  0.08758  \n",
       "3  0.2575  0.6638  0.17300  \n",
       "4  0.1625  0.2364  0.07678  \n",
       "\n",
       "[5 rows x 32 columns]"
      ]
     },
     "execution_count": 2,
     "metadata": {},
     "output_type": "execute_result"
    }
   ],
   "source": [
    "# Benign=B-neg, Malignant=M-pos\n",
    "df= pd.read_csv('wdbc.data.csv',header=None)\n",
    "df.head()"
   ]
  },
  {
   "cell_type": "markdown",
   "metadata": {},
   "source": [
    "#### Use first 20% of the positive and the negative classes as the test"
   ]
  },
  {
   "cell_type": "code",
   "execution_count": 4,
   "metadata": {},
   "outputs": [
    {
     "name": "stdout",
     "output_type": "stream",
     "text": [
      "42 71\n"
     ]
    }
   ],
   "source": [
    "# split positive and negative\n",
    "pos=df[df[1]=='M']\n",
    "neg=df[df[1]=='B']\n",
    "num1=int(len(pos)*0.2)\n",
    "num2=int(len(neg)*0.2)\n",
    "print(num1,num2)"
   ]
  },
  {
   "cell_type": "code",
   "execution_count": 5,
   "metadata": {},
   "outputs": [],
   "source": [
    "# prepare test\n",
    "pos_testx= pos.iloc[0:42,2:]\n",
    "pos_testy=pos.iloc[0:42,1]\n",
    "neg_testx= neg.iloc[0:71,2:]\n",
    "neg_testy=neg.iloc[0:71,1]\n",
    "# prepare train\n",
    "pos_trainx= pos.iloc[42:,2:]\n",
    "pos_trainy=pos.iloc[42:,1]\n",
    "neg_trainx= neg.iloc[71:,2:]\n",
    "neg_trainy=neg.iloc[71:,1]"
   ]
  },
  {
   "cell_type": "code",
   "execution_count": 6,
   "metadata": {},
   "outputs": [],
   "source": [
    "#concat\n",
    "testx=pd.concat([pos_testx,neg_testx])\n",
    "testy=pd.concat([pos_testy,neg_testy])\n",
    "trainx=pd.concat([pos_trainx,neg_trainx])\n",
    "trainy=pd.concat([pos_trainy,neg_trainy])\n",
    "\n",
    "# Normalize data\n",
    "transformer = Normalizer().fit(trainx)\n",
    "trainx=transformer.transform(trainx)\n",
    "testx=transformer.transform(testx)"
   ]
  },
  {
   "cell_type": "code",
   "execution_count": 7,
   "metadata": {},
   "outputs": [
    {
     "name": "stdout",
     "output_type": "stream",
     "text": [
      "Best parameters set for clf:\n",
      "{'C': 10000, 'tol': 0.001}\n"
     ]
    }
   ],
   "source": [
    "# Set the parameters by cross-validation\n",
    "tuned_parameters = [{'tol': [1e1,1e0,1e-1,1e-2,1e-3,1e-4],\n",
    "                     'C': [1, 10, 100, 1000,10000,100000]}]\n",
    "\n",
    "#build model with cv and pick best parameter\n",
    "LSVC=LinearSVC(penalty='l1',dual=False)\n",
    "\n",
    "clf = GridSearchCV(LSVC, tuned_parameters, cv=5)\n",
    "clf.fit(trainx, trainy)\n",
    "print(\"Best parameters set for clf:\")\n",
    "print(clf.best_params_)\n",
    "h=clf.best_params_\n",
    "bestC=h['C']\n",
    "tol0=h['tol']"
   ]
  },
  {
   "cell_type": "code",
   "execution_count": 8,
   "metadata": {},
   "outputs": [
    {
     "name": "stdout",
     "output_type": "stream",
     "text": [
      "test-accuray : 0.9557522123893806\n",
      "train-accuray : 0.9890350877192983\n"
     ]
    }
   ],
   "source": [
    "# fit classifier\n",
    "clf =LinearSVC(penalty='l1',dual=False,C=bestC,tol=tol0)\n",
    "clf.fit(trainx, trainy)\n",
    "pred=clf.predict(testx)\n",
    "predt=clf.predict(trainx)\n",
    "print(\"test-accuray :\",1-hamming_loss(testy, pred))\n",
    "print(\"train-accuray :\",1-hamming_loss(trainy, predt))\n"
   ]
  },
  {
   "cell_type": "code",
   "execution_count": 9,
   "metadata": {},
   "outputs": [
    {
     "name": "stdout",
     "output_type": "stream",
     "text": [
      "for test:\n"
     ]
    },
    {
     "data": {
      "text/plain": [
       "array([[69,  2],\n",
       "       [ 3, 39]])"
      ]
     },
     "execution_count": 9,
     "metadata": {},
     "output_type": "execute_result"
    }
   ],
   "source": [
    "# for test confusion matrix\n",
    "print(\"for test:\")\n",
    "confusion_matrix(testy, pred)"
   ]
  },
  {
   "cell_type": "code",
   "execution_count": 10,
   "metadata": {},
   "outputs": [
    {
     "name": "stdout",
     "output_type": "stream",
     "text": [
      "for train:\n"
     ]
    },
    {
     "data": {
      "text/plain": [
       "array([[285,   1],\n",
       "       [  4, 166]])"
      ]
     },
     "execution_count": 10,
     "metadata": {},
     "output_type": "execute_result"
    }
   ],
   "source": [
    "# for train confusion matrix\n",
    "pred0=clf.predict(trainx)\n",
    "print(\"for train:\")\n",
    "confusion_matrix(trainy, pred0)"
   ]
  },
  {
   "cell_type": "code",
   "execution_count": 11,
   "metadata": {},
   "outputs": [],
   "source": [
    "# make label binary\n",
    "testy2=testy.replace({'M':1,'B':-1})\n",
    "pred=pd.DataFrame(pred)\n",
    "pred2=pred.replace({'M':1,'B':-1})\n",
    "\n",
    "trainy2=trainy.replace({'M':1,'B':-1})\n",
    "pred0=pd.DataFrame(pred0)\n",
    "pred3=pred0.replace({'M':1,'B':-1})"
   ]
  },
  {
   "cell_type": "code",
   "execution_count": 12,
   "metadata": {},
   "outputs": [
    {
     "name": "stdout",
     "output_type": "stream",
     "text": [
      "test-precision: 0.9098239338904135\n",
      "train-precision: 0.9793953887889855\n"
     ]
    }
   ],
   "source": [
    "from sklearn.metrics import average_precision_score\n",
    "average_precision = average_precision_score(testy2, pred2)\n",
    "average_precision0 = average_precision_score(trainy2, pred3)\n",
    "print('test-precision:', average_precision)\n",
    "print('train-precision:', average_precision0)"
   ]
  },
  {
   "cell_type": "code",
   "execution_count": 13,
   "metadata": {},
   "outputs": [
    {
     "name": "stdout",
     "output_type": "stream",
     "text": [
      "test recall:  0.9502012072434608\n",
      "train recall: 0.9864870423693952\n"
     ]
    }
   ],
   "source": [
    "from sklearn.metrics import recall_score\n",
    "print('test recall: ', recall_score(testy2, pred2, average='macro'))\n",
    "print('train recall:',recall_score(trainy2, pred3, average='macro'))"
   ]
  },
  {
   "cell_type": "code",
   "execution_count": 14,
   "metadata": {},
   "outputs": [
    {
     "name": "stdout",
     "output_type": "stream",
     "text": [
      "test f score:  0.9523970005897716\n",
      "train f score:  0.9882337762869307\n"
     ]
    }
   ],
   "source": [
    "from sklearn.metrics import f1_score\n",
    "print('test f score: ', f1_score(testy2, pred2, average='macro'))\n",
    "print('train f score: ', f1_score(trainy2, pred3, average='macro'))"
   ]
  },
  {
   "cell_type": "code",
   "execution_count": 15,
   "metadata": {},
   "outputs": [
    {
     "name": "stdout",
     "output_type": "stream",
     "text": [
      "\n",
      "for test auc:\n"
     ]
    },
    {
     "data": {
      "image/png": "[encoded data removed]",
      "text/plain": [
       "<Figure size 576x432 with 1 Axes>"
      ]
     },
     "metadata": {},
     "output_type": "display_data"
    }
   ],
   "source": [
    "from sklearn.metrics import roc_curve\n",
    "fpr, tpr, thresholds = roc_curve(testy2, pred2)\n",
    "\n",
    "def plot_roc_curve(fpr, tpr, label=None):\n",
    "    plt.plot(fpr, tpr, linewidth=2, label=label)\n",
    "    plt.plot([0, 1], [0, 1], 'k--')\n",
    "    plt.axis([0, 1, 0, 1])\n",
    "    plt.xlabel('False Positive Rate', fontsize=16)\n",
    "    plt.ylabel('True Positive Rate', fontsize=16)\n",
    "print('\\nfor test auc:')\n",
    "plt.figure(figsize=(8, 6))\n",
    "plot_roc_curve(fpr, tpr)\n",
    "plt.show()"
   ]
  },
  {
   "cell_type": "code",
   "execution_count": 16,
   "metadata": {},
   "outputs": [
    {
     "name": "stdout",
     "output_type": "stream",
     "text": [
      "test auc:\n"
     ]
    },
    {
     "data": {
      "text/plain": [
       "0.9502012072434608"
      ]
     },
     "execution_count": 16,
     "metadata": {},
     "output_type": "execute_result"
    }
   ],
   "source": [
    "# Area under curve\n",
    "from sklearn.metrics import roc_auc_score\n",
    "print('test auc:')\n",
    "roc_auc_score(testy2, pred2)"
   ]
  },
  {
   "cell_type": "code",
   "execution_count": 17,
   "metadata": {},
   "outputs": [
    {
     "name": "stdout",
     "output_type": "stream",
     "text": [
      "\n",
      " for train auc:\n"
     ]
    },
    {
     "data": {
      "image/png": "[encoded data removed]",
      "text/plain": [
       "<Figure size 576x432 with 1 Axes>"
      ]
     },
     "metadata": {},
     "output_type": "display_data"
    }
   ],
   "source": [
    "fpr, tpr, thresholds = roc_curve(trainy2, pred3)\n",
    "\n",
    "def plot_roc_curve(fpr, tpr, label=None):\n",
    "    plt.plot(fpr, tpr, linewidth=2, label=label)\n",
    "    plt.plot([0, 1], [0, 1], 'k--')\n",
    "    plt.axis([0, 1, 0, 1])\n",
    "    plt.xlabel('False Positive Rate', fontsize=16)\n",
    "    plt.ylabel('True Positive Rate', fontsize=16)\n",
    "print('\\n for train auc:')\n",
    "plt.figure(figsize=(8, 6))\n",
    "plot_roc_curve(fpr, tpr)\n",
    "plt.show()"
   ]
  },
  {
   "cell_type": "code",
   "execution_count": 18,
   "metadata": {},
   "outputs": [
    {
     "name": "stdout",
     "output_type": "stream",
     "text": [
      "train auc:\n"
     ]
    },
    {
     "data": {
      "text/plain": [
       "0.9864870423693953"
      ]
     },
     "execution_count": 18,
     "metadata": {},
     "output_type": "execute_result"
    }
   ],
   "source": [
    "# Area under curve\n",
    "from sklearn.metrics import roc_auc_score\n",
    "print('train auc:')\n",
    "roc_auc_score(trainy2, pred3)"
   ]
  },
  {
   "cell_type": "markdown",
   "metadata": {},
   "source": [
    "### monte carlo for supervised learning"
   ]
  },
  {
   "cell_type": "code",
   "execution_count": 19,
   "metadata": {},
   "outputs": [
    {
     "name": "stdout",
     "output_type": "stream",
     "text": [
      "0\n",
      "1\n",
      "2\n",
      "3\n",
      "4\n",
      "5\n",
      "6\n",
      "7\n",
      "8\n",
      "9\n",
      "10\n",
      "11\n",
      "12\n",
      "13\n",
      "14\n",
      "15\n",
      "16\n",
      "17\n",
      "18\n",
      "19\n",
      "20\n",
      "21\n",
      "22\n",
      "23\n",
      "24\n",
      "25\n",
      "26\n",
      "27\n",
      "28\n",
      "29\n"
     ]
    }
   ],
   "source": [
    "df= pd.read_csv('wdbc.data.csv',header=None)\n",
    "pos=df[df[1]=='M']\n",
    "neg=df[df[1]=='B']\n",
    "te_accuray=[]\n",
    "tr_accuray=[]\n",
    "te_precision=[]\n",
    "tr_precision=[]\n",
    "te_recall=[]\n",
    "tr_recall=[]\n",
    "te_roc=[]\n",
    "tr_roc=[]\n",
    "te_fscore=[]\n",
    "tr_fscore=[]\n",
    "\n",
    "tuned_parameters = [{'tol': [1e1,1e0,1e-1,1e-2,1e-3,1e-4],\n",
    "                 'C': [1, 10, 100, 1000,10000,100000]}]\n",
    "\n",
    "for m in range(30):\n",
    "    print(m)\n",
    "    #split data into train and test\n",
    "    pos_train,pos_test=train_test_split(pos,test_size=0.2)\n",
    "    pos_trainx=pos_train.iloc[:,2:]\n",
    "    pos_trainy=pos_train.iloc[:,1]\n",
    "    pos_testx=pos_test.iloc[:,2:]\n",
    "    pos_testy=pos_test.iloc[:,1]\n",
    "    \n",
    "    neg_train,neg_test=train_test_split(neg,test_size=0.2)\n",
    "    neg_trainx=neg_train.iloc[:,2:]\n",
    "    neg_trainy=neg_train.iloc[:,1]\n",
    "    neg_testx=neg_test.iloc[:,2:]\n",
    "    neg_testy=neg_test.iloc[:,1]\n",
    "\n",
    "    #concat\n",
    "    testx=pd.concat([pos_testx,neg_testx])\n",
    "    testy=pd.concat([pos_testy,neg_testy])\n",
    "    trainx=pd.concat([pos_trainx,neg_trainx])\n",
    "    trainy=pd.concat([pos_trainy,neg_trainy])\n",
    "    \n",
    "    # Normalize data\n",
    "    transformer = Normalizer().fit(trainx)\n",
    "    trainx=transformer.transform(trainx)\n",
    "    testx=transformer.transform(testx)\n",
    "    \n",
    "    #build model\n",
    "    LSVC=LinearSVC(penalty='l1',dual=False)\n",
    "    clf = GridSearchCV(LSVC, tuned_parameters, cv=5)\n",
    "    clf.fit(trainx, trainy)\n",
    "    h=clf.best_params_\n",
    "    bestC=h['C']\n",
    "    tol0=h['tol']\n",
    "\n",
    "    clf =LinearSVC(penalty='l1',dual=False,C=bestC,tol=tol0)\n",
    "    clf.fit(trainx, trainy)\n",
    "    pred=clf.predict(testx)\n",
    "    predt=clf.predict(trainx)\n",
    "    \n",
    "    #accuracy\n",
    "    test_accuray=1-hamming_loss(testy, pred)\n",
    "    train_accuray=1-hamming_loss(trainy, predt)\n",
    "    te_accuray.append(test_accuray)\n",
    "    tr_accuray.append(train_accuray)\n",
    "\n",
    "    # make it binary\n",
    "    testy2=testy.replace({'M':1,'B':-1})\n",
    "    pred=pd.DataFrame(pred)\n",
    "    pred2=pred.replace({'M':1,'B':-1})\n",
    "\n",
    "    trainy2=trainy.replace({'M':1,'B':-1})\n",
    "    pred0=pd.DataFrame(predt)\n",
    "    pred3=pred0.replace({'M':1,'B':-1})\n",
    "    \n",
    "    #precision\n",
    "    average_precision = average_precision_score(testy2, pred2)\n",
    "    average_precision0 = average_precision_score(trainy2, pred3)\n",
    "    test_precision=average_precision\n",
    "    train_precision=average_precision0\n",
    "    te_precision.append(test_precision)\n",
    "    tr_precision.append(train_precision)\n",
    "    \n",
    "    # recall\n",
    "    test_recall=recall_score(testy2, pred2, average='macro')\n",
    "    train_recall=recall_score(trainy2, pred3, average='macro')\n",
    "    te_recall.append(test_recall)\n",
    "    tr_recall.append(train_recall)\n",
    "    \n",
    "    # f score\n",
    "    test_fscore=f1_score(testy2, pred2, average='macro')\n",
    "    train_fscore=f1_score(trainy2, pred3, average='macro')\n",
    "    te_fscore.append(test_fscore)\n",
    "    tr_fscore.append(train_fscore)\n",
    "    \n",
    "    # auc\n",
    "    a=roc_auc_score(trainy2, pred3)\n",
    "    tr_roc.append(a)\n",
    "    b=roc_auc_score(testy2, pred2)\n",
    "    te_roc.append(b)\n",
    "      "
   ]
  },
  {
   "cell_type": "code",
   "execution_count": 20,
   "metadata": {},
   "outputs": [
    {
     "name": "stdout",
     "output_type": "stream",
     "text": [
      "te_accuray : 0.965217391304348\n",
      "tr_accuray : 0.9828928046989722\n",
      "tr_precision : 0.9678837062679582\n",
      "te_precision : 0.9317782080727336\n",
      "te_recall : 0.9597329888027563\n",
      "tr_recall : 0.9788681269248072\n",
      "te_roc : 0.9597329888027563\n",
      "tr_roc : 0.9788681269248072\n",
      "te_fscore : 0.9625838257373707\n",
      "tr_fscore : 0.9815825245083631\n"
     ]
    }
   ],
   "source": [
    "print('te_accuray :',np.mean(te_accuray))\n",
    "print('tr_accuray :',np.mean(tr_accuray))\n",
    "print('tr_precision :',np.mean(tr_precision))\n",
    "print('te_precision :',np.mean(te_precision))\n",
    "print('te_recall :',np.mean(te_recall))\n",
    "print('tr_recall :',np.mean(tr_recall))\n",
    "print('te_roc :',np.mean(te_roc))\n",
    "print('tr_roc :',np.mean(tr_roc))\n",
    "print('te_fscore :',np.mean(te_fscore))\n",
    "print('tr_fscore :',np.mean(tr_fscore))"
   ]
  },
  {
   "cell_type": "code",
   "execution_count": null,
   "metadata": {},
   "outputs": [],
   "source": []
  }
 ],
 "metadata": {
  "hide_input": false,
  "kernelspec": {
   "display_name": "Python 3",
   "language": "python",
   "name": "python3"
  },
  "language_info": {
   "codemirror_mode": {
    "name": "ipython",
    "version": 3
   },
   "file_extension": ".py",
   "mimetype": "text/x-python",
   "name": "python",
   "nbconvert_exporter": "python",
   "pygments_lexer": "ipython3",
   "version": "3.6.5"
  },
  "toc": {
   "base_numbering": 1,
   "nav_menu": {},
   "number_sections": false,
   "sideBar": true,
   "skip_h1_title": false,
   "title_cell": "Table of Contents",
   "title_sidebar": "Contents",
   "toc_cell": false,
   "toc_position": {},
   "toc_section_display": true,
   "toc_window_display": false
  }
 },
 "nbformat": 4,
 "nbformat_minor": 2
}
