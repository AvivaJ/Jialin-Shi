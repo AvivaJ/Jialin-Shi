{
 "cells": [
  {
   "cell_type": "code",
   "execution_count": 1,
   "metadata": {},
   "outputs": [],
   "source": [
    "import re"
   ]
  },
  {
   "cell_type": "markdown",
   "metadata": {},
   "source": [
    "# re.match() 从头匹配"
   ]
  },
  {
   "cell_type": "markdown",
   "metadata": {},
   "source": [
    "## 单个字节匹配"
   ]
  },
  {
   "cell_type": "markdown",
   "metadata": {},
   "source": [
    "### 匹配某个字符串"
   ]
  },
  {
   "cell_type": "code",
   "execution_count": 5,
   "metadata": {},
   "outputs": [
    {
     "data": {
      "text/plain": [
       "'he'"
      ]
     },
     "execution_count": 5,
     "metadata": {},
     "output_type": "execute_result"
    }
   ],
   "source": [
    "text='hello'\n",
    "ret=re.match('he',text)       ## .match从头匹配，如果一开始不匹配就匹配不出来   \n",
    "ret.group()                   #  打印匹配到的字符串"
   ]
  },
  {
   "cell_type": "markdown",
   "metadata": {},
   "source": [
    "### '.' 匹配一个任意字符  "
   ]
  },
  {
   "cell_type": "code",
   "execution_count": 8,
   "metadata": {},
   "outputs": [
    {
     "data": {
      "text/plain": [
       "'ahe'"
      ]
     },
     "execution_count": 8,
     "metadata": {},
     "output_type": "execute_result"
    }
   ],
   "source": [
    "text='ahello'\n",
    "ret=re.match('.he',text)       ## 匹配一个任意字符，但是不能匹配到换行\n",
    "ret.group()    "
   ]
  },
  {
   "cell_type": "markdown",
   "metadata": {},
   "source": [
    "### \\d 匹配一个任意的数字"
   ]
  },
  {
   "cell_type": "code",
   "execution_count": 13,
   "metadata": {},
   "outputs": [
    {
     "data": {
      "text/plain": [
       "'9'"
      ]
     },
     "execution_count": 13,
     "metadata": {},
     "output_type": "execute_result"
    }
   ],
   "source": [
    "text='99ahello'\n",
    "ret=re.match('\\d',text)       ## 匹配一个任意数字\n",
    "ret.group() "
   ]
  },
  {
   "cell_type": "markdown",
   "metadata": {},
   "source": [
    "### \\D 匹配任意的非数字"
   ]
  },
  {
   "cell_type": "code",
   "execution_count": 15,
   "metadata": {},
   "outputs": [
    {
     "data": {
      "text/plain": [
       "'h'"
      ]
     },
     "execution_count": 15,
     "metadata": {},
     "output_type": "execute_result"
    }
   ],
   "source": [
    "text='hello'\n",
    "ret=re.match('\\D',text)       ## 匹配一个任意非数字\n",
    "ret.group() "
   ]
  },
  {
   "cell_type": "markdown",
   "metadata": {},
   "source": [
    "### \\s 匹配空白符，例如\\n,\\t,\\r"
   ]
  },
  {
   "cell_type": "markdown",
   "metadata": {},
   "source": [
    "### \\w 匹配 a-z A-Z. 0-9和下划线。 \\W和\\w互为补集"
   ]
  },
  {
   "cell_type": "code",
   "execution_count": 16,
   "metadata": {},
   "outputs": [
    {
     "data": {
      "text/plain": [
       "'h'"
      ]
     },
     "execution_count": 16,
     "metadata": {},
     "output_type": "execute_result"
    }
   ],
   "source": [
    "text='hello'\n",
    "ret=re.match('\\w',text)       \n",
    "ret.group() "
   ]
  },
  {
   "cell_type": "raw",
   "metadata": {},
   "source": [
    "笔记：\n",
    "        \\w:[0-9a-zA-Z_]\n",
    "        \\W:[^0-9a-zA-Z_]    # ^代表非，negation"
   ]
  },
  {
   "cell_type": "markdown",
   "metadata": {},
   "source": [
    "### [ ]组合的方式，只要满足中括号中的字符，就可以匹配,1个"
   ]
  },
  {
   "cell_type": "code",
   "execution_count": 25,
   "metadata": {},
   "outputs": [
    {
     "data": {
      "text/plain": [
       "'0731*8888sjl'"
      ]
     },
     "execution_count": 25,
     "metadata": {},
     "output_type": "execute_result"
    }
   ],
   "source": [
    "text='0731*8888sjl'\n",
    "ret=re.match('[\\d\\*]*\\w*',text)    # \\转意 +匹配1个或多个，*可以匹配0或多个， '[\\d\\*]+\\w+'   \n",
    "ret.group() "
   ]
  },
  {
   "cell_type": "markdown",
   "metadata": {},
   "source": [
    "## 多个匹配"
   ]
  },
  {
   "cell_type": "markdown",
   "metadata": {},
   "source": [
    "### 匹配0个1个或多个"
   ]
  },
  {
   "cell_type": "code",
   "execution_count": null,
   "metadata": {},
   "outputs": [],
   "source": [
    "笔记\n",
    "        ‘+’ 匹配1个或多个，‘*’ 可以匹配0或多个， '[\\d\\*]+\\w+'   \n",
    "        ‘?’ 匹配一个或0个"
   ]
  },
  {
   "cell_type": "markdown",
   "metadata": {},
   "source": [
    "### {m}匹配m个字符"
   ]
  },
  {
   "cell_type": "code",
   "execution_count": 26,
   "metadata": {},
   "outputs": [
    {
     "data": {
      "text/plain": [
       "'hello'"
      ]
     },
     "execution_count": 26,
     "metadata": {},
     "output_type": "execute_result"
    }
   ],
   "source": [
    "text='hello'\n",
    "ret=re.match('\\w{5}',text)       \n",
    "ret.group() "
   ]
  },
  {
   "cell_type": "markdown",
   "metadata": {},
   "source": [
    "### {m,n}匹配m到n个字符"
   ]
  },
  {
   "cell_type": "code",
   "execution_count": 28,
   "metadata": {},
   "outputs": [
    {
     "data": {
      "text/plain": [
       "'hel'"
      ]
     },
     "execution_count": 28,
     "metadata": {},
     "output_type": "execute_result"
    }
   ],
   "source": [
    "text='hello'\n",
    "ret=re.match('\\w{2,3}',text)       \n",
    "ret.group() "
   ]
  },
  {
   "cell_type": "markdown",
   "metadata": {},
   "source": [
    "## 小案例"
   ]
  },
  {
   "cell_type": "code",
   "execution_count": 29,
   "metadata": {},
   "outputs": [
    {
     "data": {
      "text/plain": [
       "'13816994157'"
      ]
     },
     "execution_count": 29,
     "metadata": {},
     "output_type": "execute_result"
    }
   ],
   "source": [
    "# 验证手机号码：手机号码的规则是以1开头，第二位可以是34587，后9位随意\n",
    "text='13816994157'\n",
    "ret=re.match('1[34587]\\d{9}',text)       \n",
    "ret.group() "
   ]
  },
  {
   "cell_type": "code",
   "execution_count": 32,
   "metadata": {},
   "outputs": [
    {
     "data": {
      "text/plain": [
       "'julyzyh@gmail.com'"
      ]
     },
     "execution_count": 32,
     "metadata": {},
     "output_type": "execute_result"
    }
   ],
   "source": [
    "# 验证邮箱：邮箱的规则是邮箱名称使用数字，字母，下划线组成的，然后是@符号，最后就是域名\n",
    "text='julyzyh@gmail.com'\n",
    "ret=re.match('\\w+@\\w+\\.com',text)\n",
    "ret.group()"
   ]
  },
  {
   "cell_type": "code",
   "execution_count": 42,
   "metadata": {},
   "outputs": [
    {
     "data": {
      "text/plain": [
       "'https://www.baidu.com/s?wd=%E4%B8%AD%E5%9B%BD'"
      ]
     },
     "execution_count": 42,
     "metadata": {},
     "output_type": "execute_result"
    }
   ],
   "source": [
    "# 验证url：url的规则是前面是http或者是https或者是ftp然后加一个冒号，再加一个斜杠，然后任意非空字符\n",
    "text='https://www.baidu.com/s?wd=%E4%B8%AD%E5%9B%BD'\n",
    "ret=re.match('(https|http|ftp)://[^\\s]+',text)\n",
    "ret.group()"
   ]
  },
  {
   "cell_type": "code",
   "execution_count": 44,
   "metadata": {},
   "outputs": [
    {
     "data": {
      "text/plain": [
       "'31110919930750004x'"
      ]
     },
     "execution_count": 44,
     "metadata": {},
     "output_type": "execute_result"
    }
   ],
   "source": [
    "# 验证身份证，总共18位，前17位是数字，最后可以是数字，也可以是x或者X\n",
    "text='31110919930750004x'\n",
    "ret=re.match('\\d{17}[\\dxX]',text)\n",
    "ret.group()"
   ]
  },
  {
   "cell_type": "code",
   "execution_count": 83,
   "metadata": {},
   "outputs": [
    {
     "data": {
      "text/plain": [
       "'100'"
      ]
     },
     "execution_count": 83,
     "metadata": {},
     "output_type": "execute_result"
    }
   ],
   "source": [
    "# 匹配 0-100之间的数字 \n",
    "text='100'\n",
    "ret=re.match('[1-9]\\d?$|100$',text)\n",
    "ret.group()"
   ]
  },
  {
   "cell_type": "markdown",
   "metadata": {},
   "source": [
    "## 开始结束和或语法"
   ]
  },
  {
   "cell_type": "markdown",
   "metadata": {},
   "source": [
    "### ^a：  表示以a开始"
   ]
  },
  {
   "cell_type": "code",
   "execution_count": 45,
   "metadata": {},
   "outputs": [
    {
     "data": {
      "text/plain": [
       "'h'"
      ]
     },
     "execution_count": 45,
     "metadata": {},
     "output_type": "execute_result"
    }
   ],
   "source": [
    "text='hello'\n",
    "ret=re.match('^h',text)        #但是match是从头寻找，所以不用没关系，re.search('^h',text)才有意义\n",
    "ret.group() "
   ]
  },
  {
   "cell_type": "markdown",
   "metadata": {},
   "source": [
    "### $a:表示以a结束"
   ]
  },
  {
   "cell_type": "code",
   "execution_count": 55,
   "metadata": {},
   "outputs": [
    {
     "data": {
      "text/plain": [
       "'abc@163.com'"
      ]
     },
     "execution_count": 55,
     "metadata": {},
     "output_type": "execute_result"
    }
   ],
   "source": [
    "text='abc@163.com'\n",
    "ret=re.match('[^\\s]+@163\\.com$',text)       #非空字符串需要用[ ]来包覆 \n",
    "ret.group() "
   ]
  },
  {
   "cell_type": "markdown",
   "metadata": {},
   "source": [
    "### |:匹配多个表达式或者字符串"
   ]
  },
  {
   "cell_type": "code",
   "execution_count": 57,
   "metadata": {},
   "outputs": [
    {
     "data": {
      "text/plain": [
       "'https://www.baidu.com/s?wd=%E4%B8%AD%E5%9B%BD'"
      ]
     },
     "execution_count": 57,
     "metadata": {},
     "output_type": "execute_result"
    }
   ],
   "source": [
    "text='https://www.baidu.com/s?wd=%E4%B8%AD%E5%9B%BD'\n",
    "ret=re.match('(https|http|ftp)://[^\\s]+',text)                #或逻辑需要（ ）包覆\n",
    "ret.group()"
   ]
  },
  {
   "cell_type": "markdown",
   "metadata": {},
   "source": [
    "### ?: 贪婪模式和非贪婪模式"
   ]
  },
  {
   "cell_type": "code",
   "execution_count": 61,
   "metadata": {},
   "outputs": [
    {
     "name": "stdout",
     "output_type": "stream",
     "text": [
      "1234\n",
      "1\n"
     ]
    }
   ],
   "source": [
    "# 贪婪- 全返回\n",
    "text='1234'\n",
    "ret1=re.match('\\d+',text)\n",
    "print(ret1.group())\n",
    "\n",
    "# 非贪婪贪婪- 返回第一个\n",
    "text='1234'\n",
    "ret2=re.match('\\d+?',text)\n",
    "print(ret2.group())\n"
   ]
  },
  {
   "cell_type": "code",
   "execution_count": 68,
   "metadata": {},
   "outputs": [
    {
     "name": "stdout",
     "output_type": "stream",
     "text": [
      "<h4>title<h4>\n",
      "<h4>\n"
     ]
    }
   ],
   "source": [
    "# 贪婪- 全返回\n",
    "text='<h4>title<h4>'\n",
    "ret=re.match('<.+>',text)\n",
    "print(ret.group())\n",
    "\n",
    "# 非贪婪- 返回满足条件中最短的\n",
    "text='<h4>title<h4>'\n",
    "ret=re.match('<.+?>',text)\n",
    "print(ret.group())"
   ]
  },
  {
   "cell_type": "markdown",
   "metadata": {},
   "source": [
    "## 转义字符和原生字符串"
   ]
  },
  {
   "cell_type": "code",
   "execution_count": 112,
   "metadata": {},
   "outputs": [
    {
     "data": {
      "text/plain": [
       "'$4.99'"
      ]
     },
     "execution_count": 112,
     "metadata": {},
     "output_type": "execute_result"
    }
   ],
   "source": [
    "#在正则表达式中，有些字符是有特殊意义的字符，因此想要匹配就必须用反斜杠转义\n",
    "text=\"apple price $4.99\"\n",
    "ret=re.search(\"\\$4.99$\",text)\n",
    "ret.group()"
   ]
  },
  {
   "cell_type": "code",
   "execution_count": 134,
   "metadata": {},
   "outputs": [
    {
     "data": {
      "text/plain": [
       "'\\\\c'"
      ]
     },
     "execution_count": 134,
     "metadata": {},
     "output_type": "execute_result"
    }
   ],
   "source": [
    "#在正则表达式中，\\是专门用来做转义的，因此如果想要在匹配\\，那么要用原生字符串\n",
    "text='apple \\c'\n",
    "ret=re.search(r'\\\\c',text)\n",
    "ret.group()"
   ]
  },
  {
   "cell_type": "code",
   "execution_count": null,
   "metadata": {},
   "outputs": [],
   "source": []
  },
  {
   "cell_type": "code",
   "execution_count": null,
   "metadata": {},
   "outputs": [],
   "source": []
  },
  {
   "cell_type": "code",
   "execution_count": null,
   "metadata": {},
   "outputs": [],
   "source": []
  },
  {
   "cell_type": "code",
   "execution_count": null,
   "metadata": {},
   "outputs": [],
   "source": []
  },
  {
   "cell_type": "code",
   "execution_count": null,
   "metadata": {},
   "outputs": [],
   "source": []
  },
  {
   "cell_type": "code",
   "execution_count": null,
   "metadata": {},
   "outputs": [],
   "source": []
  },
  {
   "cell_type": "code",
   "execution_count": null,
   "metadata": {},
   "outputs": [],
   "source": []
  },
  {
   "cell_type": "code",
   "execution_count": null,
   "metadata": {},
   "outputs": [],
   "source": []
  }
 ],
 "metadata": {
  "kernelspec": {
   "display_name": "Python 3",
   "language": "python",
   "name": "python3"
  },
  "language_info": {
   "codemirror_mode": {
    "name": "ipython",
    "version": 3
   },
   "file_extension": ".py",
   "mimetype": "text/x-python",
   "name": "python",
   "nbconvert_exporter": "python",
   "pygments_lexer": "ipython3",
   "version": "3.7.3"
  },
  "toc": {
   "base_numbering": 1,
   "nav_menu": {},
   "number_sections": true,
   "sideBar": true,
   "skip_h1_title": false,
   "title_cell": "Table of Contents",
   "title_sidebar": "Contents",
   "toc_cell": false,
   "toc_position": {
    "height": "calc(100% - 180px)",
    "left": "10px",
    "top": "150px",
    "width": "349.091px"
   },
   "toc_section_display": true,
   "toc_window_display": true
  }
 },
 "nbformat": 4,
 "nbformat_minor": 2
}
