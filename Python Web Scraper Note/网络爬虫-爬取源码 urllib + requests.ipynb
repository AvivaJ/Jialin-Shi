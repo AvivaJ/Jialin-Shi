{
 "cells": [
  {
   "cell_type": "code",
   "execution_count": 82,
   "metadata": {},
   "outputs": [],
   "source": [
    "from selenium import webdriver\n",
    "from datetime import datetime\n",
    "from time import sleep\n",
    "import requests \n",
    "from bs4 import BeautifulSoup\n",
    "import pandas as pd\n",
    "import numpy as np\n",
    "import warnings\n",
    "warnings.filterwarnings('ignore')\n",
    "import os\n",
    "import shutil\n",
    "import time"
   ]
  },
  {
   "cell_type": "markdown",
   "metadata": {},
   "source": [
    "# urllib库"
   ]
  },
  {
   "cell_type": "markdown",
   "metadata": {},
   "source": [
    "## 网页代码urlopen，urlretrieve"
   ]
  },
  {
   "cell_type": "markdown",
   "metadata": {},
   "source": [
    "### request.urlopen( ) 获取网页代码"
   ]
  },
  {
   "cell_type": "code",
   "execution_count": 8,
   "metadata": {},
   "outputs": [
    {
     "data": {
      "text/plain": [
       "b'<!DOCTYPE html><!--STATUS OK-->\\n'"
      ]
     },
     "execution_count": 8,
     "metadata": {},
     "output_type": "execute_result"
    }
   ],
   "source": [
    "from urllib import request\n",
    "resp=request.urlopen('http://www.baidu.com/',data=None)     #指定data，urlopen走的是post请求，默认情况下走的是get请求.\n",
    "resp.read()                    #resp是一个http.client.HTTPResponse对象 \n",
    "                               #这个返回对象有read(),readline(),readlines(),getcode()等方法。返回byte数据"
   ]
  },
  {
   "cell_type": "markdown",
   "metadata": {},
   "source": [
    "### request.urlretrieve( ) 下载网页代码"
   ]
  },
  {
   "cell_type": "code",
   "execution_count": 11,
   "metadata": {},
   "outputs": [
    {
     "data": {
      "text/plain": [
       "('baidu.html', <http.client.HTTPMessage at 0x10a8e86d8>)"
      ]
     },
     "execution_count": 11,
     "metadata": {},
     "output_type": "execute_result"
    }
   ],
   "source": [
    "from urllib import request\n",
    "request.urlretrieve('http://www.baidu.com/','baidu.html') #直接下载+储存html文件，用来下载多张图片很方便（直接获取图片url）"
   ]
  },
  {
   "cell_type": "markdown",
   "metadata": {},
   "source": [
    "### ProxyHandler处理器 IP代理"
   ]
  },
  {
   "cell_type": "code",
   "execution_count": null,
   "metadata": {},
   "outputs": [],
   "source": [
    "from urllib import request\n",
    "url='http://httpbin.org/ip'                                   #查看当前ip地址的网页\n",
    "\n",
    "#这个是没有用代理的，真实的ip\n",
    "resp = request.urlopen(url)               \n",
    "print(resp.read().decode(\"utf-8\"))\n",
    "\n",
    "#代理\n",
    "handler= request.ProxyHandler({\"http\":\"120.83.104.208:9999\"}) #创建一个代理handler，“ip地址：port端口” kuaidaili.com\n",
    "opener=request.build_opener(handler)                          #使用handler创建opener   #(不要用免费代理）\n",
    "resp=opener.open(url)                                         #使用opener发送请求 opener.open(url)\n",
    "print(resp.read().decode('utf-8'))                            #resp.read()返回byte类型，用decode('utf-8')进行解码\n"
   ]
  },
  {
   "cell_type": "raw",
   "metadata": {},
   "source": [
    "笔记：\n",
    "        1.使用urllib.request.ProxyHandler传入一个代理，这个代理是一个字典，字典的key依赖于代理服务器能够接受的类型，\n",
    "        一般是http或者https，值是ip：port\n",
    "        2.使用上一步创建的handler以及request.build_opener创建一个opener对象\n",
    "        3.使用opener调用request.open(),发起请求。"
   ]
  },
  {
   "cell_type": "markdown",
   "metadata": {},
   "source": [
    "## 带cookie请求头 人人网实践"
   ]
  },
  {
   "cell_type": "markdown",
   "metadata": {},
   "source": [
    "### 手动添加登录cookie至headers"
   ]
  },
  {
   "cell_type": "raw",
   "metadata": {},
   "source": [
    "笔记：\n",
    "        1.set-cookie存放在response headers，两种办法用cookie解决登陆访问的问题\n",
    "          第一种，使用浏览器访问，然后将cookie信息复制下来，放到headers中。使用http.cookiejar模块"
   ]
  },
  {
   "cell_type": "code",
   "execution_count": null,
   "metadata": {},
   "outputs": [],
   "source": [
    "# 人人网 - 手动加上登陆过后的cookie，很方便，但是cookie有有效期，过了就没有用了\n",
    "url='http://www.renren.com/708882071/profile'\n",
    "\n",
    "headers={\n",
    "    \"user-agent\":\"Mozilla/5.0 (Macintosh; Intel Mac OS X 10_14_6) AppleWebKit/537.36 (KHTML, like Gecko) Chrome/83.0.4103.116 Safari/537.36\"   \n",
    "    ,\"cookie\": \"anonymid=kbvfvse2upxo76; _r01_=1; taihe_bi_sdk_uid=616d1d4b10ead4549dff3231773df9b4; taihe_bi_sdk_session=68ec273f52916b734b3b37bc8bbfeaf8; ick_login=36c92b40-3ba4-4c2c-a674-de9f5a6069e7; _de=3F293AEC34FEF429196E82EB2EB7F3536DEBB8C2103DE356; first_login_flag=1; ln_uact=1977663520@qq.com; ln_hurl=http://hdn.xnimg.cn/photos/hdn121/20141129/1805/h_main_xDgE_27dd00077f3b1986.jpg; id=403872459; ver=7.0; JSESSIONID=abcjrfRcTh4KTbFte5Tlx; jebe_key=3773a40e-4bf0-4bdf-85c7-9626b238eb0a%7Ce1f2d037ce52250e7d6df2a41bcf50a2%7C1593129191091%7C1%7C1593129191180; XNESSESSIONID=53132ec6a5aa; depovince=GW; jebecookies=40a7521c-b656-4346-b2ab-74cbcdc48863|||||; p=79d647178233a5f2b50170847b39a2f79; t=860f8b3595244321efd267c682b838a59; societyguester=860f8b3595244321efd267c682b838a59; ap=403872459; xnsid=e7fb6d4a; loginfrom=null; wp_fold=0\"\n",
    "}\n",
    "\n",
    "req=request.Request(url,headers=headers) # 用request.Request(url,headers=headers)创建带请求头的url\n",
    "resp=request.urlopen(req)                # 用request.urlopen(req)发送请求\n",
    "\n",
    "#写入文件看看长什么样子\n",
    "with open('renren手动cookie.html','w',encoding='utf-8') as fp:     # write必须写入一个str的数据类型\n",
    "    fp.write(resp.read().decode('utf-8')) # resp.read()返回的是一个byte的数据类型，所以要decode解码 \n"
   ]
  },
  {
   "cell_type": "markdown",
   "metadata": {},
   "source": [
    "### ***使用cookiejar获取动态cookie ***"
   ]
  },
  {
   "cell_type": "code",
   "execution_count": 183,
   "metadata": {},
   "outputs": [],
   "source": [
    "from urllib import request,parse\n",
    "from http.cookiejar import CookieJar\n",
    "\n",
    "\n",
    "# 1. 登录，获取cookie\n",
    "def get_opener():\n",
    "    cookiejar=CookieJar()\n",
    "    handler=request.HTTPCookieProcessor(cookiejar)\n",
    "    opener=request.build_opener(handler)\n",
    "    return opener\n",
    "\n",
    "def login_renren(opener):\n",
    "    headers={\n",
    "        \"user-agent\":\"Mozilla/5.0 (Macintosh; Intel Mac OS X 10_14_6) AppleWebKit/537.36 (KHTML, like Gecko) Chrome/83.0.4103.116 Safari/537.36\"   \n",
    "        }\n",
    "    data = {\n",
    "        'email':\"1977663520@qq.com\"\n",
    "        ,'password':'62680720sjl'\n",
    "    }\n",
    "\n",
    "    login_url='http://www.renren.com/PLogin.do' #使用data登录，获取cookie\n",
    "    req=request.Request(login_url,data=parse.urlencode(data).encode('utf-8'),headers=headers)# data编码成unicode，再用utf-8编码  \n",
    "    opener.open(req)                            #只要open记录过cookie就可以了，不需要返回任何东西\n",
    "\n",
    "    \n",
    "# 2. 使用带有cookie的opener访问个人主页\n",
    "def visit_profile(opener):\n",
    "    profile_url='http://www.renren.com/708882071/profile' # 获取个人主页的时候，不要再新建一个opener，应该使用之前的opener，\n",
    "    resp=opener.open(profile_url)    # 因为之前的opener已经包含了登录需要的cookie  \n",
    "                                     \n",
    "    with open('renrenCookieJar.html','w',encoding='utf-8') as fp:\n",
    "        fp.write(resp.read().decode('utf-8'))\n",
    "\n",
    "        \n",
    "# 3. call functions\n",
    "if __name__=='__main__':\n",
    "    opener=get_opener()\n",
    "    login_renren(opener)\n",
    "    visit_profile(opener)\n",
    "    "
   ]
  },
  {
   "cell_type": "raw",
   "metadata": {},
   "source": [
    " 笔记：\n",
    "        1.登录\n",
    "        1.1使用一个cookiejar创建一个httpCookieProcess对象\n",
    "        1.3使用上一步创建的handler创建一个opener\n",
    "        1.4使用opener发送登录的请求（人人网的邮箱和密码）\n",
    "        \n",
    "\n",
    "        2.访问个人主页\n",
    "        2.1使用带有cookie的opener.open(个人主页——url)\n",
    "        \n",
    "        urllib的opener可以发送多个请求，并且共享cookie"
   ]
  },
  {
   "cell_type": "markdown",
   "metadata": {},
   "source": [
    "### 保存cookie到本地"
   ]
  },
  {
   "cell_type": "markdown",
   "metadata": {},
   "source": [
    "保存cookie到本地，可以用cookiejar的save方法，并且需要指定一个文件名"
   ]
  },
  {
   "cell_type": "code",
   "execution_count": 148,
   "metadata": {},
   "outputs": [
    {
     "name": "stdout",
     "output_type": "stream",
     "text": [
      "<Cookie _de=3F293AEC34FEF429196E82EB2EB7F3536DEBB8C2103DE356 for .renren.com/>\n",
      "<Cookie anonymid=kcckdato-333lyj for .renren.com/>\n",
      "<Cookie first_login_flag=1 for .renren.com/>\n",
      "<Cookie id=403872459 for .renren.com/>\n",
      "<Cookie ln_hurl=http://hdn.xnimg.cn/photos/hdn121/20141129/1805/h_main_xDgE_27dd00077f3b1986.jpg for .renren.com/>\n",
      "<Cookie ln_uact=1977663520@qq.com for .renren.com/>\n",
      "<Cookie loginfrom=null for .renren.com/>\n",
      "<Cookie p=878eeab7b09dbd6425608364625ec2d39 for .renren.com/>\n",
      "<Cookie societyguester=17177655614415df8b72df8474207afd9 for .renren.com/>\n",
      "<Cookie t=17177655614415df8b72df8474207afd9 for .renren.com/>\n",
      "<Cookie ver=7.0 for .renren.com/>\n",
      "<Cookie xnsid=d45c6c14 for .renren.com/>\n",
      "<Cookie t=f838128fe2ea8e35cba9d2b3ab4b261f for .renren.com/xtalk/>\n",
      "<Cookie JSESSIONID=abcM917b9xyy8dYj4MRmx for www.renren.com/>\n"
     ]
    }
   ],
   "source": [
    "from urllib import request\n",
    "from http.cookiejar import MozillaCookieJar\n",
    "\n",
    "cookiejar=MozillaCookieJar('cookie.txt') # 指定文件名\n",
    "cookiejar.load(ignore_discard=True) #可以加载调用\n",
    "handler = request.HTTPCookieProcessor(cookiejar)\n",
    "opener=request.build_opener(handler)\n",
    "\n",
    "headers={\n",
    "    \"user-agent\":\"Mozilla/5.0 (Macintosh; Intel Mac OS X 10_14_6) AppleWebKit/537.36 (KHTML, like Gecko) Chrome/83.0.4103.116 Safari/537.36\"   \n",
    "    }\n",
    "data = {\n",
    "    'email':\"1977663520@qq.com\"\n",
    "    ,'password':'62680720sjl'\n",
    "}\n",
    "\n",
    "login_url='http://www.renren.com/PLogin.do' #使用data登录，获取cookie\n",
    "req=request.Request(login_url,data=parse.urlencode(data).encode('utf-8'),headers=headers)# data编码成unicode，再用utf-8编码  \n",
    "opener.open(req) \n",
    "\n",
    "for cookie in cookiejar:\n",
    "    print(cookie)\n",
    "\n",
    "cookiejar.save(ignore_discard=True,ignore_expires=True) # 这样过期的cookie信息也会被保存起来"
   ]
  },
  {
   "cell_type": "markdown",
   "metadata": {},
   "source": [
    "## 编码解码"
   ]
  },
  {
   "cell_type": "markdown",
   "metadata": {},
   "source": [
    "### parse.urlencode( ) 编码"
   ]
  },
  {
   "cell_type": "code",
   "execution_count": 21,
   "metadata": {},
   "outputs": [
    {
     "data": {
      "text/plain": [
       "'name=%E7%88%AC%E8%99%AB%E5%9F%BA%E7%A1%80&greet=hello&age=18'"
      ]
     },
     "execution_count": 21,
     "metadata": {},
     "output_type": "execute_result"
    }
   ],
   "source": [
    "from urllib import parse\n",
    "params= {'name':'爬虫基础','greet':'hello','age':18} #进行编码,把中文用16进制编码 unicode类型\n",
    "result=parse.urlencode(params) \n",
    "result"
   ]
  },
  {
   "cell_type": "markdown",
   "metadata": {},
   "source": [
    "### parse_qs( ) 还原编码"
   ]
  },
  {
   "cell_type": "code",
   "execution_count": 22,
   "metadata": {},
   "outputs": [
    {
     "data": {
      "text/plain": [
       "{'name': ['爬虫基础'], 'greet': ['hello'], 'age': ['18']}"
      ]
     },
     "execution_count": 22,
     "metadata": {},
     "output_type": "execute_result"
    }
   ],
   "source": [
    "from urllib import parse\n",
    "parse.parse_qs(result) #16进制解码回中文"
   ]
  },
  {
   "cell_type": "markdown",
   "metadata": {},
   "source": [
    "### parse.urlparse( )分割url各个成分"
   ]
  },
  {
   "cell_type": "code",
   "execution_count": 33,
   "metadata": {},
   "outputs": [
    {
     "name": "stdout",
     "output_type": "stream",
     "text": [
      "ParseResult(scheme='https', netloc='baike.baidu.com', path='/item/%E7%8F%A0%E6%B1%9F%E4%B8%89%E8%A7%92%E6%B4%B2/621061', params='', query='', fragment='') baike.baidu.com\n"
     ]
    }
   ],
   "source": [
    "from urllib import parse, request\n",
    "url='https://baike.baidu.com/item/%E7%8F%A0%E6%B1%9F%E4%B8%89%E8%A7%92%E6%B4%B2/621061'\n",
    "result1=parse.urlparse(url)\n",
    "print(result1,result1.netloc)"
   ]
  },
  {
   "cell_type": "markdown",
   "metadata": {},
   "source": [
    "## 拉勾网实践 - request 和 selenium webdriver"
   ]
  },
  {
   "cell_type": "markdown",
   "metadata": {},
   "source": [
    "### 拉勾网实践1 - request 增加http请求头"
   ]
  },
  {
   "cell_type": "code",
   "execution_count": 187,
   "metadata": {},
   "outputs": [
    {
     "data": {
      "text/plain": [
       "'{\"status\":false,\"msg\":\"您操作太频繁,请稍后再访问\",\"clientIp\":\"162.235.252.204\",\"state\":2402}\\n'"
      ]
     },
     "execution_count": 187,
     "metadata": {},
     "output_type": "execute_result"
    }
   ],
   "source": [
    "from urllib import request,parse\n",
    "url='https://www.lagou.com/jobs/positionAjax.json?px=default&city=%E4%B8%8A%E6%B5%B7&needAddtionalResult=false'\n",
    "\n",
    "headers={             # 添加请求头 user-agent, referer\n",
    "    'user-agent': 'Mozilla/5.0 (Macintosh; Intel Mac OS X 10_14_6) AppleWebKit/537.36 (KHTML, like Gecko) Chrome/83.0.4103.116 Safari/537.36'\n",
    "    ,'referer': 'https://www.lagou.com/jobs/list_Python/p-city_3?px=default'\n",
    "    ,'cookie': 'JSESSIONID=ABAAAECABFAACEA3D60243F733ADE57004CF5045C58206D; WEBTJ-ID=07012020%2C224523-1730e0ee1c7335-04bf4c280ccb1-31627403-2073600-1730e0ee1c84a9; RECOMMEND_TIP=true; _ga=GA1.2.515260754.1593668725; user_trace_token=20200702134525-3dc907fb-cc8c-493a-90be-4acae9a1eff5; LGUID=20200702134525-630d15d9-7779-4cf3-a0d6-c6fae3fc761f; index_location_city=%E5%85%A8%E5%9B%BD; sensorsdata2015jssdkcross=%7B%22distinct_id%22%3A%221730e1055a1236-03e6e2e1cec109-31627403-2073600-1730e1055a3690%22%2C%22%24device_id%22%3A%221730e1055a1236-03e6e2e1cec109-31627403-2073600-1730e1055a3690%22%7D; _gid=GA1.2.1358182150.1594180320; PRE_UTM=; PRE_LAND=https%3A%2F%2Fwww.lagou.com%2F; Hm_lvt_4233e74dff0ae5bd0a3d81c6ccf756e6=1593668725,1594180321; LGSID=20200708115201-90705303-7ff4-4e9c-ba35-46c874dbdc21; PRE_HOST=www.google.com; PRE_SITE=https%3A%2F%2Fwww.google.com%2F; TG-TRACK-CODE=index_navigation; _gat=1; X_HTTP_TOKEN=9a495d5bd3a415de11408149514c782f8cac9fa179; Hm_lpvt_4233e74dff0ae5bd0a3d81c6ccf756e6=1594180412; LGRID=20200708115332-dfb531af-c0f3-47d8-81d6-547694353b05; SEARCH_ID=b476835face34153998b198d9875d034'\n",
    "\n",
    "}\n",
    "\n",
    "data={                # POST 方法需要携带data信息, 并且需要在请求头里表明method\n",
    "    'first':'true',   # data一般是需要编码，urlencode是unicode，最后需要编码utf-8\n",
    "    'pn':'1',\n",
    "    'kd':'Python'\n",
    "}\n",
    "req=request.Request(url,headers=headers,data=parse.urlencode(data).encode('utf-8'),method='POST') #给这个URL增加了请求头，返回req（带头的url）\n",
    "resp=request.urlopen(req) # urlopen打开这个req\n",
    "resp.read().decode('utf-8')\n"
   ]
  },
  {
   "cell_type": "markdown",
   "metadata": {},
   "source": [
    "### 拉勾网实践2 - webdriver 模拟浏览器"
   ]
  },
  {
   "cell_type": "code",
   "execution_count": 56,
   "metadata": {},
   "outputs": [],
   "source": [
    "from selenium import webdriver\n",
    "from time import sleep\n",
    "from bs4 import BeautifulSoup\n",
    "import os\n",
    "\n",
    "url='https://www.lagou.com/jobs/list_python%E7%88%AC%E8%99%AB/p-city_3?px=default&gx=%E5%85%A8%E8%81%8C&gj=&xl=%E7%A1%95%E5%A3%AB&isSchoolJob=1&district=%E9%95%BF%E5%AE%81%E5%8C%BA#filterBox'\n",
    "chromePath=os.path.join('/Users/jialinshi/Desktop', 'chromedriver')\n",
    "\n",
    "browser=webdriver.Chrome(executable_path=chromePath)   #打开模拟浏览器\n",
    "browser.maximize_window()\n",
    "\n",
    "browser.get(url)                              #模拟浏览器拿到html代码，用css selector定位信息爬取\n",
    "sleep(3)\n",
    "html=browser.page_source\n",
    "soup=BeautifulSoup(html,'html.parser')\n",
    "sleep(3)\n",
    "\n",
    "def info(category,css_selector):              #爬取表格这类高度相似的的信息可以写一个def\n",
    "    category=[]\n",
    "    for x in soup.select(css_selector):\n",
    "        category.append(x.text)\n",
    "    return category\n",
    "\n",
    "data=pd.DataFrame()\n",
    "\n",
    "# call function\n",
    "data['salary']=info('salary','.money')\n",
    "data['position']=info('position','h3')\n",
    "data['company']=info('company','.company_name a')\n",
    "data['industry']=[x.strip().split('\\n') for x in info('industry','.industry')] # 字符串去空格去换行\\n\n",
    "data['tag']=[x.strip().split('\\n') for x in info('tag','.list_item_bot .li_b_l')]\n",
    "data"
   ]
  },
  {
   "cell_type": "code",
   "execution_count": 94,
   "metadata": {},
   "outputs": [
    {
     "data": {
      "text/html": [
       "<div>\n",
       "<style scoped>\n",
       "    .dataframe tbody tr th:only-of-type {\n",
       "        vertical-align: middle;\n",
       "    }\n",
       "\n",
       "    .dataframe tbody tr th {\n",
       "        vertical-align: top;\n",
       "    }\n",
       "\n",
       "    .dataframe thead th {\n",
       "        text-align: right;\n",
       "    }\n",
       "</style>\n",
       "<table border=\"1\" class=\"dataframe\">\n",
       "  <thead>\n",
       "    <tr style=\"text-align: right;\">\n",
       "      <th></th>\n",
       "      <th>salary</th>\n",
       "      <th>position</th>\n",
       "      <th>company</th>\n",
       "      <th>industry</th>\n",
       "      <th>tag</th>\n",
       "    </tr>\n",
       "  </thead>\n",
       "  <tbody>\n",
       "    <tr>\n",
       "      <th>0</th>\n",
       "      <td>20k-40k</td>\n",
       "      <td>仿真工程师</td>\n",
       "      <td>智加科技</td>\n",
       "      <td>[人工智能 / A轮 / 50-150人]</td>\n",
       "      <td>[人工智能, 建模, 计算机视觉]</td>\n",
       "    </tr>\n",
       "    <tr>\n",
       "      <th>1</th>\n",
       "      <td>30k-50k</td>\n",
       "      <td>运动控制工程师</td>\n",
       "      <td>智加科技</td>\n",
       "      <td>[人工智能 / A轮 / 50-150人]</td>\n",
       "      <td>[人工智能, 算法]</td>\n",
       "    </tr>\n",
       "    <tr>\n",
       "      <th>2</th>\n",
       "      <td>20k-35k</td>\n",
       "      <td>机器视觉、神经网络和深度学习算法研发工程师与机器人</td>\n",
       "      <td>上海岭先机器人科技股份有限公司</td>\n",
       "      <td>[人工智能 / 未融资 / 15-50人]</td>\n",
       "      <td>[人工智能, 计算机视觉, 算法, 机器学习]</td>\n",
       "    </tr>\n",
       "    <tr>\n",
       "      <th>3</th>\n",
       "      <td>30k-60k</td>\n",
       "      <td>算法工程师</td>\n",
       "      <td>智加科技</td>\n",
       "      <td>[人工智能 / A轮 / 50-150人]</td>\n",
       "      <td>[汽车, 地图, 人工智能, 算法, 机器学习]</td>\n",
       "    </tr>\n",
       "  </tbody>\n",
       "</table>\n",
       "</div>"
      ],
      "text/plain": [
       "    salary                   position          company               industry  \\\n",
       "0  20k-40k                      仿真工程师             智加科技  [人工智能 / A轮 / 50-150人]   \n",
       "1  30k-50k                    运动控制工程师             智加科技  [人工智能 / A轮 / 50-150人]   \n",
       "2  20k-35k  机器视觉、神经网络和深度学习算法研发工程师与机器人  上海岭先机器人科技股份有限公司  [人工智能 / 未融资 / 15-50人]   \n",
       "3  30k-60k                      算法工程师             智加科技  [人工智能 / A轮 / 50-150人]   \n",
       "\n",
       "                        tag  \n",
       "0         [人工智能, 建模, 计算机视觉]  \n",
       "1                [人工智能, 算法]  \n",
       "2   [人工智能, 计算机视觉, 算法, 机器学习]  \n",
       "3  [汽车, 地图, 人工智能, 算法, 机器学习]  "
      ]
     },
     "execution_count": 94,
     "metadata": {},
     "output_type": "execute_result"
    }
   ],
   "source": [
    "data"
   ]
  },
  {
   "cell_type": "code",
   "execution_count": null,
   "metadata": {},
   "outputs": [],
   "source": []
  },
  {
   "cell_type": "markdown",
   "metadata": {},
   "source": [
    "# requests库"
   ]
  },
  {
   "cell_type": "markdown",
   "metadata": {},
   "source": [
    "## get/post 请求"
   ]
  },
  {
   "cell_type": "code",
   "execution_count": 200,
   "metadata": {},
   "outputs": [
    {
     "name": "stdout",
     "output_type": "stream",
     "text": [
      "<class 'str'>\n",
      "<class 'bytes'>\n",
      "https://www.baidu.com/\n"
     ]
    }
   ],
   "source": [
    "#get请求\n",
    "import requests\n",
    "url='https://www.baidu.com/'\n",
    "response=requests.get(url)\n",
    "\n",
    "print(type(response.text)) #返回str格式，.text方法会自动解码，猜测解码方法,可能不准确，出现乱码\n",
    "print(type(response.content))#返回byte数据类型，不解码 \n",
    "print(response.url)\n",
    "\n",
    "with open('baidu.html','w',encoding='utf-8') as fp:\n",
    "    fp.write(response.content.decode('utf-8')) #fp.write()必须传入一个str数据类型，所以content必须解码"
   ]
  },
  {
   "cell_type": "code",
   "execution_count": 201,
   "metadata": {},
   "outputs": [
    {
     "data": {
      "text/plain": [
       "{'status': False,\n",
       " 'msg': '您操作太频繁,请稍后再访问',\n",
       " 'clientIp': '162.235.252.204',\n",
       " 'state': 2402}"
      ]
     },
     "execution_count": 201,
     "metadata": {},
     "output_type": "execute_result"
    }
   ],
   "source": [
    "#post请求\n",
    "import requests\n",
    "url='https://www.lagou.com/jobs/positionAjax.json?px=default&city=%E4%B8%8A%E6%B5%B7&needAddtionalResult=false'\n",
    "\n",
    "data={\n",
    "    \"first\": \"true\"\n",
    "    ,\"pn\": \"1\"\n",
    "    ,\"kd\": \"Python\"\n",
    "}\n",
    "headers={             # 手动添加cookies\n",
    "    'user-agent': 'Mozilla/5.0 (Macintosh; Intel Mac OS X 10_14_6) AppleWebKit/537.36 (KHTML, like Gecko) Chrome/83.0.4103.116 Safari/537.36'\n",
    "    ,'referer': 'https://www.lagou.com/jobs/list_Python/p-city_3?px=default'\n",
    "    ,'cookie': 'JSESSIONID=ABAAAECABFAACEA3D60243F733ADE57004CF5045C58206D; WEBTJ-ID=07012020%2C224523-1730e0ee1c7335-04bf4c280ccb1-31627403-2073600-1730e0ee1c84a9; RECOMMEND_TIP=true; _ga=GA1.2.515260754.1593668725; user_trace_token=20200702134525-3dc907fb-cc8c-493a-90be-4acae9a1eff5; LGUID=20200702134525-630d15d9-7779-4cf3-a0d6-c6fae3fc761f; index_location_city=%E5%85%A8%E5%9B%BD; sensorsdata2015jssdkcross=%7B%22distinct_id%22%3A%221730e1055a1236-03e6e2e1cec109-31627403-2073600-1730e1055a3690%22%2C%22%24device_id%22%3A%221730e1055a1236-03e6e2e1cec109-31627403-2073600-1730e1055a3690%22%7D; _gid=GA1.2.1358182150.1594180320; PRE_UTM=; PRE_LAND=https%3A%2F%2Fwww.lagou.com%2F; Hm_lvt_4233e74dff0ae5bd0a3d81c6ccf756e6=1593668725,1594180321; LGSID=20200708115201-90705303-7ff4-4e9c-ba35-46c874dbdc21; PRE_HOST=www.google.com; PRE_SITE=https%3A%2F%2Fwww.google.com%2F; TG-TRACK-CODE=index_navigation; _gat=1; X_HTTP_TOKEN=9a495d5bd3a415de11408149514c782f8cac9fa179; Hm_lpvt_4233e74dff0ae5bd0a3d81c6ccf756e6=1594180412; LGRID=20200708115332-dfb531af-c0f3-47d8-81d6-547694353b05; SEARCH_ID=b476835face34153998b198d9875d034'\n",
    "}\n",
    "response=requests.post(url,data=data,headers=headers) # Post请求需要指定data\n",
    "response.json()"
   ]
  },
  {
   "cell_type": "markdown",
   "metadata": {},
   "source": [
    "## 代理ip处理器"
   ]
  },
  {
   "cell_type": "code",
   "execution_count": null,
   "metadata": {},
   "outputs": [],
   "source": [
    "import requests\n",
    "url='http://httpbin.org/ip'\n",
    "\n",
    "headers={             \n",
    "    'user-agent': 'Mozilla/5.0 (Macintosh; Intel Mac OS X 10_14_6) AppleWebKit/537.36 (KHTML, like Gecko) Chrome/83.0.4103.116 Safari/537.36'\n",
    "}\n",
    "\n",
    "proxy={                           #可以找免费代理\n",
    "    'http':'171.14.209.180:27829'\n",
    "}\n",
    "\n",
    "resp=requests.get(url,headers=headers,proxies=proxy)\n",
    "\n",
    "with open('xx.html','w',encoding='utf-8')as fp:\n",
    "    fp.write(resp.text)"
   ]
  },
  {
   "cell_type": "markdown",
   "metadata": {},
   "source": [
    "## cookie"
   ]
  },
  {
   "cell_type": "code",
   "execution_count": 208,
   "metadata": {},
   "outputs": [
    {
     "data": {
      "text/plain": [
       "{'_r01_': '1',\n",
       " 'depovince': 'GW',\n",
       " 'jebecookies': '5b2f08e0-d729-435c-bcb5-dd294e55b373|||||',\n",
       " 'JSESSIONID': 'abcBONYoH35N54GHV1Smx'}"
      ]
     },
     "execution_count": 208,
     "metadata": {},
     "output_type": "execute_result"
    }
   ],
   "source": [
    "import requests\n",
    "\n",
    "url='http://www.renren.com/PLogin.do'\n",
    "\n",
    "headers={\n",
    "    \"user-agent\":\"Mozilla/5.0 (Macintosh; Intel Mac OS X 10_14_6) AppleWebKit/537.36 (KHTML, like Gecko) Chrome/83.0.4103.116 Safari/537.36\"   \n",
    "    }\n",
    "data = {\n",
    "    'email':\"1977663520@qq.com\"\n",
    "    ,'password':'62680720sjl'\n",
    "    }\n",
    "\n",
    "response=requests.get(url,data=data,headers=headers)\n",
    "response.cookies.get_dict()\n"
   ]
  },
  {
   "cell_type": "markdown",
   "metadata": {},
   "source": [
    "## session （相当于request的opener）"
   ]
  },
  {
   "cell_type": "code",
   "execution_count": 203,
   "metadata": {},
   "outputs": [],
   "source": [
    "import requests\n",
    "\n",
    "login_url='http://www.renren.com/PLogin.do'\n",
    "profile_url='http://www.renren.com/708882071/profile'\n",
    "\n",
    "headers={\n",
    "    \"user-agent\":\"Mozilla/5.0 (Macintosh; Intel Mac OS X 10_14_6) AppleWebKit/537.36 (KHTML, like Gecko) Chrome/83.0.4103.116 Safari/537.36\"   \n",
    "    }\n",
    "data = {\n",
    "    'email':\"1977663520@qq.com\"\n",
    "    ,'password':'62680720sjl'\n",
    "    }\n",
    "\n",
    "#登陆\n",
    "session=requests.session()\n",
    "session.post(login_url,data=data,headers=headers)\n",
    "\n",
    "\n",
    "#访问个人主页\n",
    "response=session.get(profile_url)\n",
    "\n",
    "with open('renrenSession.html','w',encoding='utf-8') as fp:\n",
    "    fp.write(response.content.decode('utf-8'))"
   ]
  },
  {
   "cell_type": "code",
   "execution_count": null,
   "metadata": {},
   "outputs": [],
   "source": [
    "笔记：\n",
    "        1. request中的opener可以发送多个请求，请求之间可以共享opener\n",
    "        2. requests中可以使用session对象来共享cookie\n",
    "        3. 用session.post()方法登陆，然后用同一个session去get新的url"
   ]
  },
  {
   "cell_type": "code",
   "execution_count": null,
   "metadata": {},
   "outputs": [],
   "source": []
  }
 ],
 "metadata": {
  "kernelspec": {
   "display_name": "Python 3",
   "language": "python",
   "name": "python3"
  },
  "language_info": {
   "codemirror_mode": {
    "name": "ipython",
    "version": 3
   },
   "file_extension": ".py",
   "mimetype": "text/x-python",
   "name": "python",
   "nbconvert_exporter": "python",
   "pygments_lexer": "ipython3",
   "version": "3.7.3"
  },
  "toc": {
   "base_numbering": 1,
   "nav_menu": {},
   "number_sections": true,
   "sideBar": true,
   "skip_h1_title": false,
   "title_cell": "Table of Contents",
   "title_sidebar": "Contents",
   "toc_cell": false,
   "toc_position": {
    "height": "calc(100% - 180px)",
    "left": "10px",
    "top": "150px",
    "width": "349.091px"
   },
   "toc_section_display": true,
   "toc_window_display": true
  }
 },
 "nbformat": 4,
 "nbformat_minor": 2
}
