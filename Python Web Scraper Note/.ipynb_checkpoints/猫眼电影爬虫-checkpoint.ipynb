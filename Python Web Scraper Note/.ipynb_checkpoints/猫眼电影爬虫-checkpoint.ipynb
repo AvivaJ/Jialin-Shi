{
 "cells": [
  {
   "cell_type": "code",
   "execution_count": 8,
   "metadata": {},
   "outputs": [
    {
     "name": "stdout",
     "output_type": "stream",
     "text": [
      "8.\n",
      "9.\n",
      "7.\n",
      "6.\n",
      "5.\n",
      "2\n",
      "3\n",
      "4\n",
      "1\n",
      "0\n",
      "5\n",
      "8\n",
      "7\n",
      "6\n",
      "9\n",
      "地球最后的夜晚\n",
      "狗十三\n",
      "毒液：致命守护者\n",
      "龙猫\n",
      "海王\n",
      "四个春天\n",
      "“大”人物\n",
      "白蛇：缘起\n",
      "无名之辈\n",
      "断片之险途夺宝\n",
      "来电狂响\n",
      "武林怪兽\n",
      "奎迪：英雄再起\n",
      "天气预爆\n",
      "蜘蛛侠：平行宇宙\n",
      "印度合伙人\n",
      "叶问外传：张天志\n",
      "网络谜踪\n",
      "云南虫谷\n",
      "命运之夜——天之杯：恶兆之花\n",
      "龟兔大作战\n",
      "印度暴徒\n",
      "绿毛怪格林奇\n",
      "大黄蜂\n",
      "中国合伙人2\n",
      "生活万岁\n",
      "你好，之华\n",
      "大路朝天\n",
      "照相师\n",
      "摘金奇缘\n"
     ]
    }
   ],
   "source": [
    "import requests\n",
    "from bs4 import BeautifulSoup\n",
    "url = 'https://maoyan.com/films'\n",
    "html=requests.get(url)\n",
    "soup=BeautifulSoup(html.text,'html.parser')\n",
    "film=soup.select('.integer , .fraction , .movie-item-title a')\n",
    "for link in film:\n",
    "    print(link.text)"
   ]
  },
  {
   "cell_type": "code",
   "execution_count": null,
   "metadata": {},
   "outputs": [],
   "source": []
  }
 ],
 "metadata": {
  "kernelspec": {
   "display_name": "Python 3",
   "language": "python",
   "name": "python3"
  },
  "language_info": {
   "codemirror_mode": {
    "name": "ipython",
    "version": 3
   },
   "file_extension": ".py",
   "mimetype": "text/x-python",
   "name": "python",
   "nbconvert_exporter": "python",
   "pygments_lexer": "ipython3",
   "version": "3.6.5"
  }
 },
 "nbformat": 4,
 "nbformat_minor": 2
}
