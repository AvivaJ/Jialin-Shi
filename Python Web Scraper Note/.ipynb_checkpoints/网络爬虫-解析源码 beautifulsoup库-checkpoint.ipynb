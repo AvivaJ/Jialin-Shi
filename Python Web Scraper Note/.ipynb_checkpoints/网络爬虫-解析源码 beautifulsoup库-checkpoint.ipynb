{
 "cells": [
  {
   "cell_type": "code",
   "execution_count": 69,
   "metadata": {},
   "outputs": [],
   "source": [
    "from bs4 import BeautifulSoup\n",
    "from lxml import etree\n"
   ]
  },
  {
   "cell_type": "markdown",
   "metadata": {},
   "source": [
    "## open html code 用lxml.etree来parse读取"
   ]
  },
  {
   "cell_type": "code",
   "execution_count": 13,
   "metadata": {},
   "outputs": [],
   "source": [
    "parser=etree.HTMLParser(encoding='utf-8')               #定义parser\n",
    "html=etree.parse('tencent.html',parser=parser)\n",
    "html=etree.tostring(html,encoding='utf-8').decode('utf-8')"
   ]
  },
  {
   "cell_type": "code",
   "execution_count": 14,
   "metadata": {},
   "outputs": [
    {
     "data": {
      "text/plain": [
       "str"
      ]
     },
     "execution_count": 14,
     "metadata": {},
     "output_type": "execute_result"
    }
   ],
   "source": [
    "type(html)"
   ]
  },
  {
   "cell_type": "markdown",
   "metadata": {},
   "source": [
    "## BeautifulSoup 解析库- find_all( ) "
   ]
  },
  {
   "cell_type": "code",
   "execution_count": 19,
   "metadata": {},
   "outputs": [],
   "source": [
    "soup=BeautifulSoup(html,'lxml')  #html需要是str格式。定义parser用lxml"
   ]
  },
  {
   "cell_type": "code",
   "execution_count": 20,
   "metadata": {},
   "outputs": [
    {
     "data": {
      "text/plain": [
       "<!DOCTYPE html PUBLIC \"-//W3C//DTD HTML 4.0 Transitional//EN\" \"http://www.w3.org/TR/REC-html40/loose.dtd\">\n",
       "<html><body><div class=\"recruit-wrap recruit-margin\" data-v-288d7ecc=\"\"><!-- --> <div class=\"recruit-list\" data-v-288d7ecc=\"\"><a class=\"recruit-list-link\" data-v-288d7ecc=\"\"><h4 class=\"recruit-title\" data-v-288d7ecc=\"\">19332-SaaS产品开发工程师(腾讯云全资子公司)</h4> <p class=\"recruit-tips\" data-v-288d7ecc=\"\"><span data-v-288d7ecc=\"\">CSIG</span> |\n",
       "                  <span data-v-288d7ecc=\"\">西安,中国</span> |\n",
       "                  <span data-v-288d7ecc=\"\">技术</span> |\n",
       "                  <span data-v-288d7ecc=\"\">腾讯云</span> |\n",
       "                   <span data-v-288d7ecc=\"\">2020年07月08日</span></p> <p class=\"recruit-text\" data-v-288d7ecc=\"\">负责ToB SaaS业务的系统架构设计、Web代码及后台服务程序研发； \n",
       "负责运营支持系统的建设和研发工作，确保相关系统稳定可靠运行； \n",
       "参与系统的需求分析、评审、运营及业务运维。</p></a> <div class=\"recruit-share\" data-v-114c7c2f=\"\" data-v-288d7ecc=\"\"><div class=\"recruit-content\" data-v-114c7c2f=\"\"><span class=\"share\" data-v-114c7c2f=\"\"></span> <span class=\"share-text\" data-v-114c7c2f=\"\">分享</span> <div class=\"share-list\" data-v-114c7c2f=\"\" id=\"share-detail\"><div class=\"share-title\" data-v-114c7c2f=\"\">分享</div> <div class=\"close-btn\" data-v-114c7c2f=\"\"></div> <div class=\"qr-code\" data-v-114c7c2f=\"\" id=\"1280876751001493504\" style=\"display: none;\"></div> <ul class=\"share-gound\" data-v-114c7c2f=\"\"><li class=\"share-item\" data-v-114c7c2f=\"\"><a class=\"share-icon qq\" data-v-114c7c2f=\"\" href=\"\" target=\"_blank\"></a></li> <li class=\"share-item\" data-v-114c7c2f=\"\"><a class=\"share-icon wechat\" data-v-114c7c2f=\"\" href=\"javascript:;\"></a></li> <li class=\"share-item\" data-v-114c7c2f=\"\"><a class=\"share-icon micro-blog\" data-v-114c7c2f=\"\" href=\"\" target=\"_blank\"></a></li> <li class=\"share-item\" data-v-114c7c2f=\"\"><a class=\"share-icon in\" data-v-114c7c2f=\"\" href=\"\" target=\"_blank\"></a></li> <li class=\"share-item\" data-v-114c7c2f=\"\"><a class=\"share-icon facebook\" data-v-114c7c2f=\"\" href=\"\" target=\"_blank\"></a></li> <li class=\"share-item\" data-v-114c7c2f=\"\"><a class=\"share-icon twitter\" data-v-114c7c2f=\"\" href=\"\" target=\"_blank\"></a></li></ul> <div class=\"link-wrapper\" data-v-114c7c2f=\"\"><div class=\"link-text\" data-v-114c7c2f=\"\">岗位链接</div> <div class=\"link-ground\" data-v-114c7c2f=\"\"><input class=\"link input-text\" data-v-114c7c2f=\"\" id=\"\" readonly=\"readonly\"/> <div class=\"copy\" data-v-114c7c2f=\"\">复制链接</div></div></div></div></div></div> <div class=\"recruit-collection\" data-v-288d7ecc=\"\"><span class=\"icon-collection\" data-v-288d7ecc=\"\"></span> <span class=\"collection-text\" data-v-288d7ecc=\"\">收藏</span></div></div><div class=\"recruit-list\" data-v-288d7ecc=\"\"><a class=\"recruit-list-link\" data-v-288d7ecc=\"\"><h4 class=\"recruit-title\" data-v-288d7ecc=\"\">14703-看点快报Android开发工程师</h4> <p class=\"recruit-tips\" data-v-288d7ecc=\"\"><span data-v-288d7ecc=\"\">PCG</span> |\n",
       "                  <span data-v-288d7ecc=\"\">深圳,中国</span> |\n",
       "                  <span data-v-288d7ecc=\"\">技术</span> |\n",
       "                  <span data-v-288d7ecc=\"\">QQ看点</span> |\n",
       "                   <span data-v-288d7ecc=\"\">2020年07月08日</span></p> <p class=\"recruit-text\" data-v-288d7ecc=\"\">负责看点快报Android平台软件设计与开发工作； \n",
       "负责产品相关技术攻坚及性能优化</p></a> <div class=\"recruit-share\" data-v-114c7c2f=\"\" data-v-288d7ecc=\"\"><div class=\"recruit-content\" data-v-114c7c2f=\"\"><span class=\"share\" data-v-114c7c2f=\"\"></span> <span class=\"share-text\" data-v-114c7c2f=\"\">分享</span> <div class=\"share-list\" data-v-114c7c2f=\"\" id=\"share-detail\"><div class=\"share-title\" data-v-114c7c2f=\"\">分享</div> <div class=\"close-btn\" data-v-114c7c2f=\"\"></div> <div class=\"qr-code\" data-v-114c7c2f=\"\" id=\"1280872448106962944\" style=\"display: none;\"></div> <ul class=\"share-gound\" data-v-114c7c2f=\"\"><li class=\"share-item\" data-v-114c7c2f=\"\"><a class=\"share-icon qq\" data-v-114c7c2f=\"\" href=\"\" target=\"_blank\"></a></li> <li class=\"share-item\" data-v-114c7c2f=\"\"><a class=\"share-icon wechat\" data-v-114c7c2f=\"\" href=\"javascript:;\"></a></li> <li class=\"share-item\" data-v-114c7c2f=\"\"><a class=\"share-icon micro-blog\" data-v-114c7c2f=\"\" href=\"\" target=\"_blank\"></a></li> <li class=\"share-item\" data-v-114c7c2f=\"\"><a class=\"share-icon in\" data-v-114c7c2f=\"\" href=\"\" target=\"_blank\"></a></li> <li class=\"share-item\" data-v-114c7c2f=\"\"><a class=\"share-icon facebook\" data-v-114c7c2f=\"\" href=\"\" target=\"_blank\"></a></li> <li class=\"share-item\" data-v-114c7c2f=\"\"><a class=\"share-icon twitter\" data-v-114c7c2f=\"\" href=\"\" target=\"_blank\"></a></li></ul> <div class=\"link-wrapper\" data-v-114c7c2f=\"\"><div class=\"link-text\" data-v-114c7c2f=\"\">岗位链接</div> <div class=\"link-ground\" data-v-114c7c2f=\"\"><input class=\"link input-text\" data-v-114c7c2f=\"\" id=\"\" readonly=\"readonly\"/> <div class=\"copy\" data-v-114c7c2f=\"\">复制链接</div></div></div></div></div></div> <div class=\"recruit-collection\" data-v-288d7ecc=\"\"><span class=\"icon-collection\" data-v-288d7ecc=\"\"></span> <span class=\"collection-text\" data-v-288d7ecc=\"\">收藏</span></div></div><div class=\"recruit-list\" data-v-288d7ecc=\"\"><a class=\"recruit-list-link\" data-v-288d7ecc=\"\"><h4 class=\"recruit-title\" data-v-288d7ecc=\"\">22989-存储Web前端开发</h4> <p class=\"recruit-tips\" data-v-288d7ecc=\"\"><span data-v-288d7ecc=\"\">CSIG</span> |\n",
       "                  <span data-v-288d7ecc=\"\">深圳,中国</span> |\n",
       "                  <span data-v-288d7ecc=\"\">技术</span> |\n",
       "                  <span data-v-288d7ecc=\"\">腾讯云</span> |\n",
       "                   <span data-v-288d7ecc=\"\">2020年07月08日</span></p> <p class=\"recruit-text\" data-v-288d7ecc=\"\">1. 负责腾讯云存储产品中心前端工作，包括COS、CI、CHDFS、CSG等产品控制台开发和产品特性\n",
       "2. 负责存储内部运营运维一体化的平台架构设计和开发（运营分析、运维管控、监控告警）\n",
       "3. 负责前端架构建设和公共组件开发，以及新技术的落地实践</p></a> <div class=\"recruit-share\" data-v-114c7c2f=\"\" data-v-288d7ecc=\"\"><div class=\"recruit-content\" data-v-114c7c2f=\"\"><span class=\"share\" data-v-114c7c2f=\"\"></span> <span class=\"share-text\" data-v-114c7c2f=\"\">分享</span> <div class=\"share-list\" data-v-114c7c2f=\"\" id=\"share-detail\"><div class=\"share-title\" data-v-114c7c2f=\"\">分享</div> <div class=\"close-btn\" data-v-114c7c2f=\"\"></div> <div class=\"qr-code\" data-v-114c7c2f=\"\" id=\"1280871359466971136\" style=\"display: none;\"></div> <ul class=\"share-gound\" data-v-114c7c2f=\"\"><li class=\"share-item\" data-v-114c7c2f=\"\"><a class=\"share-icon qq\" data-v-114c7c2f=\"\" href=\"\" target=\"_blank\"></a></li> <li class=\"share-item\" data-v-114c7c2f=\"\"><a class=\"share-icon wechat\" data-v-114c7c2f=\"\" href=\"javascript:;\"></a></li> <li class=\"share-item\" data-v-114c7c2f=\"\"><a class=\"share-icon micro-blog\" data-v-114c7c2f=\"\" href=\"\" target=\"_blank\"></a></li> <li class=\"share-item\" data-v-114c7c2f=\"\"><a class=\"share-icon in\" data-v-114c7c2f=\"\" href=\"\" target=\"_blank\"></a></li> <li class=\"share-item\" data-v-114c7c2f=\"\"><a class=\"share-icon facebook\" data-v-114c7c2f=\"\" href=\"\" target=\"_blank\"></a></li> <li class=\"share-item\" data-v-114c7c2f=\"\"><a class=\"share-icon twitter\" data-v-114c7c2f=\"\" href=\"\" target=\"_blank\"></a></li></ul> <div class=\"link-wrapper\" data-v-114c7c2f=\"\"><div class=\"link-text\" data-v-114c7c2f=\"\">岗位链接</div> <div class=\"link-ground\" data-v-114c7c2f=\"\"><input class=\"link input-text\" data-v-114c7c2f=\"\" id=\"\" readonly=\"readonly\"/> <div class=\"copy\" data-v-114c7c2f=\"\">复制链接</div></div></div></div></div></div> <div class=\"recruit-collection\" data-v-288d7ecc=\"\"><span class=\"icon-collection\" data-v-288d7ecc=\"\"></span> <span class=\"collection-text\" data-v-288d7ecc=\"\">收藏</span></div></div><div class=\"recruit-list\" data-v-288d7ecc=\"\"><a class=\"recruit-list-link\" data-v-288d7ecc=\"\"><h4 class=\"recruit-title\" data-v-288d7ecc=\"\">22989-数据库云平台高级研发工程师（腾讯云全资子公司）（西安）</h4> <p class=\"recruit-tips\" data-v-288d7ecc=\"\"><span data-v-288d7ecc=\"\">CSIG</span> |\n",
       "                  <span data-v-288d7ecc=\"\">西安,中国</span> |\n",
       "                  <span data-v-288d7ecc=\"\">技术</span> |\n",
       "                  <!-- --> <span data-v-288d7ecc=\"\">2020年07月08日</span></p> <p class=\"recruit-text\" data-v-288d7ecc=\"\">1.负责关系型数据库周边生态产品和工具研发；\n",
       "2.负责腾讯云自研数据库oracle兼容性功能研发； \n",
       "3.对预研性数据库产品提供方案设计和支持； \n",
       "4.提升数据库国产化产品演进，推动项目落地；</p></a> <div class=\"recruit-share\" data-v-114c7c2f=\"\" data-v-288d7ecc=\"\"><div class=\"recruit-content\" data-v-114c7c2f=\"\"><span class=\"share\" data-v-114c7c2f=\"\"></span> <span class=\"share-text\" data-v-114c7c2f=\"\">分享</span> <div class=\"share-list\" data-v-114c7c2f=\"\" id=\"share-detail\"><div class=\"share-title\" data-v-114c7c2f=\"\">分享</div> <div class=\"close-btn\" data-v-114c7c2f=\"\"></div> <div class=\"qr-code\" data-v-114c7c2f=\"\" id=\"1280871237488222208\" style=\"display: none;\"></div> <ul class=\"share-gound\" data-v-114c7c2f=\"\"><li class=\"share-item\" data-v-114c7c2f=\"\"><a class=\"share-icon qq\" data-v-114c7c2f=\"\" href=\"\" target=\"_blank\"></a></li> <li class=\"share-item\" data-v-114c7c2f=\"\"><a class=\"share-icon wechat\" data-v-114c7c2f=\"\" href=\"javascript:;\"></a></li> <li class=\"share-item\" data-v-114c7c2f=\"\"><a class=\"share-icon micro-blog\" data-v-114c7c2f=\"\" href=\"\" target=\"_blank\"></a></li> <li class=\"share-item\" data-v-114c7c2f=\"\"><a class=\"share-icon in\" data-v-114c7c2f=\"\" href=\"\" target=\"_blank\"></a></li> <li class=\"share-item\" data-v-114c7c2f=\"\"><a class=\"share-icon facebook\" data-v-114c7c2f=\"\" href=\"\" target=\"_blank\"></a></li> <li class=\"share-item\" data-v-114c7c2f=\"\"><a class=\"share-icon twitter\" data-v-114c7c2f=\"\" href=\"\" target=\"_blank\"></a></li></ul> <div class=\"link-wrapper\" data-v-114c7c2f=\"\"><div class=\"link-text\" data-v-114c7c2f=\"\">岗位链接</div> <div class=\"link-ground\" data-v-114c7c2f=\"\"><input class=\"link input-text\" data-v-114c7c2f=\"\" id=\"\" readonly=\"readonly\"/> <div class=\"copy\" data-v-114c7c2f=\"\">复制链接</div></div></div></div></div></div> <div class=\"recruit-collection\" data-v-288d7ecc=\"\"><span class=\"icon-collection\" data-v-288d7ecc=\"\"></span> <span class=\"collection-text\" data-v-288d7ecc=\"\">收藏</span></div></div><div class=\"recruit-list\" data-v-288d7ecc=\"\"><a class=\"recruit-list-link\" data-v-288d7ecc=\"\"><h4 class=\"recruit-title\" data-v-288d7ecc=\"\">15575-《王者荣耀》UE4资深引擎程序（上海）</h4> <p class=\"recruit-tips\" data-v-288d7ecc=\"\"><span data-v-288d7ecc=\"\">IEG</span> |\n",
       "                  <span data-v-288d7ecc=\"\">上海,中国</span> |\n",
       "                  <span data-v-288d7ecc=\"\">技术</span> |\n",
       "                  <!-- --> <span data-v-288d7ecc=\"\">2020年07月08日</span></p> <p class=\"recruit-text\" data-v-288d7ecc=\"\">使用UE4引擎进行产品需求的技术可行性评估, 程序框架及技术方案的设计和具体实现；\n",
       "协助美术/策划建立高效的游戏内容制作规范和流程, 完善并持续优化工具链；\n",
       "针对游戏新特性对游戏引擎进行优化改造。</p></a> <div class=\"recruit-share\" data-v-114c7c2f=\"\" data-v-288d7ecc=\"\"><div class=\"recruit-content\" data-v-114c7c2f=\"\"><span class=\"share\" data-v-114c7c2f=\"\"></span> <span class=\"share-text\" data-v-114c7c2f=\"\">分享</span> <div class=\"share-list\" data-v-114c7c2f=\"\" id=\"share-detail\"><div class=\"share-title\" data-v-114c7c2f=\"\">分享</div> <div class=\"close-btn\" data-v-114c7c2f=\"\"></div> <div class=\"qr-code\" data-v-114c7c2f=\"\" id=\"1260828879640076288\" style=\"display: none;\"></div> <ul class=\"share-gound\" data-v-114c7c2f=\"\"><li class=\"share-item\" data-v-114c7c2f=\"\"><a class=\"share-icon qq\" data-v-114c7c2f=\"\" href=\"\" target=\"_blank\"></a></li> <li class=\"share-item\" data-v-114c7c2f=\"\"><a class=\"share-icon wechat\" data-v-114c7c2f=\"\" href=\"javascript:;\"></a></li> <li class=\"share-item\" data-v-114c7c2f=\"\"><a class=\"share-icon micro-blog\" data-v-114c7c2f=\"\" href=\"\" target=\"_blank\"></a></li> <li class=\"share-item\" data-v-114c7c2f=\"\"><a class=\"share-icon in\" data-v-114c7c2f=\"\" href=\"\" target=\"_blank\"></a></li> <li class=\"share-item\" data-v-114c7c2f=\"\"><a class=\"share-icon facebook\" data-v-114c7c2f=\"\" href=\"\" target=\"_blank\"></a></li> <li class=\"share-item\" data-v-114c7c2f=\"\"><a class=\"share-icon twitter\" data-v-114c7c2f=\"\" href=\"\" target=\"_blank\"></a></li></ul> <div class=\"link-wrapper\" data-v-114c7c2f=\"\"><div class=\"link-text\" data-v-114c7c2f=\"\">岗位链接</div> <div class=\"link-ground\" data-v-114c7c2f=\"\"><input class=\"link input-text\" data-v-114c7c2f=\"\" id=\"\" readonly=\"readonly\"/> <div class=\"copy\" data-v-114c7c2f=\"\">复制链接</div></div></div></div></div></div> <div class=\"recruit-collection\" data-v-288d7ecc=\"\"><span class=\"icon-collection\" data-v-288d7ecc=\"\"></span> <span class=\"collection-text\" data-v-288d7ecc=\"\">收藏</span></div></div><div class=\"recruit-list\" data-v-288d7ecc=\"\"><a class=\"recruit-list-link\" data-v-288d7ecc=\"\"><h4 class=\"recruit-title\" data-v-288d7ecc=\"\">15575-《王者荣耀》后台开发程序（上海）</h4> <p class=\"recruit-tips\" data-v-288d7ecc=\"\"><span data-v-288d7ecc=\"\">IEG</span> |\n",
       "                  <span data-v-288d7ecc=\"\">上海,中国</span> |\n",
       "                  <span data-v-288d7ecc=\"\">技术</span> |\n",
       "                  <!-- --> <span data-v-288d7ecc=\"\">2020年07月08日</span></p> <p class=\"recruit-text\" data-v-288d7ecc=\"\">根据项目需求，设计构建合理分布式服务器方案及数据库方案；\n",
       "编写服务器核心架构源码；\n",
       "对服务器端稳定性，安全性，效能等多方面质量负责。</p></a> <div class=\"recruit-share\" data-v-114c7c2f=\"\" data-v-288d7ecc=\"\"><div class=\"recruit-content\" data-v-114c7c2f=\"\"><span class=\"share\" data-v-114c7c2f=\"\"></span> <span class=\"share-text\" data-v-114c7c2f=\"\">分享</span> <div class=\"share-list\" data-v-114c7c2f=\"\" id=\"share-detail\"><div class=\"share-title\" data-v-114c7c2f=\"\">分享</div> <div class=\"close-btn\" data-v-114c7c2f=\"\"></div> <div class=\"qr-code\" data-v-114c7c2f=\"\" id=\"1260828879606521856\" style=\"display: none;\"></div> <ul class=\"share-gound\" data-v-114c7c2f=\"\"><li class=\"share-item\" data-v-114c7c2f=\"\"><a class=\"share-icon qq\" data-v-114c7c2f=\"\" href=\"\" target=\"_blank\"></a></li> <li class=\"share-item\" data-v-114c7c2f=\"\"><a class=\"share-icon wechat\" data-v-114c7c2f=\"\" href=\"javascript:;\"></a></li> <li class=\"share-item\" data-v-114c7c2f=\"\"><a class=\"share-icon micro-blog\" data-v-114c7c2f=\"\" href=\"\" target=\"_blank\"></a></li> <li class=\"share-item\" data-v-114c7c2f=\"\"><a class=\"share-icon in\" data-v-114c7c2f=\"\" href=\"\" target=\"_blank\"></a></li> <li class=\"share-item\" data-v-114c7c2f=\"\"><a class=\"share-icon facebook\" data-v-114c7c2f=\"\" href=\"\" target=\"_blank\"></a></li> <li class=\"share-item\" data-v-114c7c2f=\"\"><a class=\"share-icon twitter\" data-v-114c7c2f=\"\" href=\"\" target=\"_blank\"></a></li></ul> <div class=\"link-wrapper\" data-v-114c7c2f=\"\"><div class=\"link-text\" data-v-114c7c2f=\"\">岗位链接</div> <div class=\"link-ground\" data-v-114c7c2f=\"\"><input class=\"link input-text\" data-v-114c7c2f=\"\" id=\"\" readonly=\"readonly\"/> <div class=\"copy\" data-v-114c7c2f=\"\">复制链接</div></div></div></div></div></div> <div class=\"recruit-collection\" data-v-288d7ecc=\"\"><span class=\"icon-collection\" data-v-288d7ecc=\"\"></span> <span class=\"collection-text\" data-v-288d7ecc=\"\">收藏</span></div></div><div class=\"recruit-list\" data-v-288d7ecc=\"\"><a class=\"recruit-list-link\" data-v-288d7ecc=\"\"><h4 class=\"recruit-title\" data-v-288d7ecc=\"\">15575-《王者荣耀》UE4客户端开发工程师（上海）</h4> <p class=\"recruit-tips\" data-v-288d7ecc=\"\"><span data-v-288d7ecc=\"\">IEG</span> |\n",
       "                  <span data-v-288d7ecc=\"\">上海,中国</span> |\n",
       "                  <span data-v-288d7ecc=\"\">技术</span> |\n",
       "                  <!-- --> <span data-v-288d7ecc=\"\">2020年07月08日</span></p> <p class=\"recruit-text\" data-v-288d7ecc=\"\">负责U3D或UE4引擎客户端的开发；\n",
       "根据游戏玩法进行技术选型，对项目核心架构进行搭建与后续功能的开发，对领域前沿保持跟进，针对需求做出最优选择；\n",
       "配合技术美术编写游戏内shader，指导美术进行特效、动画、场景等性能优调。</p></a> <div class=\"recruit-share\" data-v-114c7c2f=\"\" data-v-288d7ecc=\"\"><div class=\"recruit-content\" data-v-114c7c2f=\"\"><span class=\"share\" data-v-114c7c2f=\"\"></span> <span class=\"share-text\" data-v-114c7c2f=\"\">分享</span> <div class=\"share-list\" data-v-114c7c2f=\"\" id=\"share-detail\"><div class=\"share-title\" data-v-114c7c2f=\"\">分享</div> <div class=\"close-btn\" data-v-114c7c2f=\"\"></div> <div class=\"qr-code\" data-v-114c7c2f=\"\" id=\"1260828879019319296\" style=\"display: none;\"></div> <ul class=\"share-gound\" data-v-114c7c2f=\"\"><li class=\"share-item\" data-v-114c7c2f=\"\"><a class=\"share-icon qq\" data-v-114c7c2f=\"\" href=\"\" target=\"_blank\"></a></li> <li class=\"share-item\" data-v-114c7c2f=\"\"><a class=\"share-icon wechat\" data-v-114c7c2f=\"\" href=\"javascript:;\"></a></li> <li class=\"share-item\" data-v-114c7c2f=\"\"><a class=\"share-icon micro-blog\" data-v-114c7c2f=\"\" href=\"\" target=\"_blank\"></a></li> <li class=\"share-item\" data-v-114c7c2f=\"\"><a class=\"share-icon in\" data-v-114c7c2f=\"\" href=\"\" target=\"_blank\"></a></li> <li class=\"share-item\" data-v-114c7c2f=\"\"><a class=\"share-icon facebook\" data-v-114c7c2f=\"\" href=\"\" target=\"_blank\"></a></li> <li class=\"share-item\" data-v-114c7c2f=\"\"><a class=\"share-icon twitter\" data-v-114c7c2f=\"\" href=\"\" target=\"_blank\"></a></li></ul> <div class=\"link-wrapper\" data-v-114c7c2f=\"\"><div class=\"link-text\" data-v-114c7c2f=\"\">岗位链接</div> <div class=\"link-ground\" data-v-114c7c2f=\"\"><input class=\"link input-text\" data-v-114c7c2f=\"\" id=\"\" readonly=\"readonly\"/> <div class=\"copy\" data-v-114c7c2f=\"\">复制链接</div></div></div></div></div></div> <div class=\"recruit-collection\" data-v-288d7ecc=\"\"><span class=\"icon-collection\" data-v-288d7ecc=\"\"></span> <span class=\"collection-text\" data-v-288d7ecc=\"\">收藏</span></div></div><div class=\"recruit-list\" data-v-288d7ecc=\"\"><a class=\"recruit-list-link\" data-v-288d7ecc=\"\"><h4 class=\"recruit-title\" data-v-288d7ecc=\"\">15575-《王者荣耀》UE4引擎主程序（上海）</h4> <p class=\"recruit-tips\" data-v-288d7ecc=\"\"><span data-v-288d7ecc=\"\">IEG</span> |\n",
       "                  <span data-v-288d7ecc=\"\">上海,中国</span> |\n",
       "                  <span data-v-288d7ecc=\"\">技术</span> |\n",
       "                  <span data-v-288d7ecc=\"\">腾讯游戏</span> |\n",
       "                   <span data-v-288d7ecc=\"\">2020年07月08日</span></p> <p class=\"recruit-text\" data-v-288d7ecc=\"\">负责游戏引擎、渲染核心模块的开发；\n",
       "负责引擎、渲染架构的搭建以及技术攻关；\n",
       "负责架构、搭建与管理引擎渲染开发团队\n",
       "使用UE4引擎进行产品需求的技术可行性评估, 程序框架及技术方案的设计和具体实现；\n",
       "协助美术/策划建立高效的游戏内容制作规范和流程, 完善并持续优化工具链；\n",
       "针对游戏新特性对游戏引擎进行优化改造；\n",
       "</p></a> <div class=\"recruit-share\" data-v-114c7c2f=\"\" data-v-288d7ecc=\"\"><div class=\"recruit-content\" data-v-114c7c2f=\"\"><span class=\"share\" data-v-114c7c2f=\"\"></span> <span class=\"share-text\" data-v-114c7c2f=\"\">分享</span> <div class=\"share-list\" data-v-114c7c2f=\"\" id=\"share-detail\"><div class=\"share-title\" data-v-114c7c2f=\"\">分享</div> <div class=\"close-btn\" data-v-114c7c2f=\"\"></div> <div class=\"qr-code\" data-v-114c7c2f=\"\" id=\"1126324083252793344\" style=\"display: none;\"></div> <ul class=\"share-gound\" data-v-114c7c2f=\"\"><li class=\"share-item\" data-v-114c7c2f=\"\"><a class=\"share-icon qq\" data-v-114c7c2f=\"\" href=\"\" target=\"_blank\"></a></li> <li class=\"share-item\" data-v-114c7c2f=\"\"><a class=\"share-icon wechat\" data-v-114c7c2f=\"\" href=\"javascript:;\"></a></li> <li class=\"share-item\" data-v-114c7c2f=\"\"><a class=\"share-icon micro-blog\" data-v-114c7c2f=\"\" href=\"\" target=\"_blank\"></a></li> <li class=\"share-item\" data-v-114c7c2f=\"\"><a class=\"share-icon in\" data-v-114c7c2f=\"\" href=\"\" target=\"_blank\"></a></li> <li class=\"share-item\" data-v-114c7c2f=\"\"><a class=\"share-icon facebook\" data-v-114c7c2f=\"\" href=\"\" target=\"_blank\"></a></li> <li class=\"share-item\" data-v-114c7c2f=\"\"><a class=\"share-icon twitter\" data-v-114c7c2f=\"\" href=\"\" target=\"_blank\"></a></li></ul> <div class=\"link-wrapper\" data-v-114c7c2f=\"\"><div class=\"link-text\" data-v-114c7c2f=\"\">岗位链接</div> <div class=\"link-ground\" data-v-114c7c2f=\"\"><input class=\"link input-text\" data-v-114c7c2f=\"\" id=\"\" readonly=\"readonly\"/> <div class=\"copy\" data-v-114c7c2f=\"\">复制链接</div></div></div></div></div></div> <div class=\"recruit-collection\" data-v-288d7ecc=\"\"><span class=\"icon-collection\" data-v-288d7ecc=\"\"></span> <span class=\"collection-text\" data-v-288d7ecc=\"\">收藏</span></div></div><div class=\"recruit-list\" data-v-288d7ecc=\"\"><a class=\"recruit-list-link\" data-v-288d7ecc=\"\"><h4 class=\"recruit-title\" data-v-288d7ecc=\"\">15575-王者荣耀UE4客户端开发工程师（成都）</h4> <p class=\"recruit-tips\" data-v-288d7ecc=\"\"><span data-v-288d7ecc=\"\">IEG</span> |\n",
       "                  <span data-v-288d7ecc=\"\">成都,中国</span> |\n",
       "                  <span data-v-288d7ecc=\"\">技术</span> |\n",
       "                  <!-- --> <span data-v-288d7ecc=\"\">2020年07月08日</span></p> <p class=\"recruit-text\" data-v-288d7ecc=\"\">负责U3D或UE4引擎客户端的开发；\n",
       "根据游戏玩法进行技术选型，对项目核心架构进行搭建与后续功能的开发，对领域前沿保持跟进，针对需求做出最优选择；\n",
       "配合技术美术编写游戏内shader，指导美术进行特效、动画、场景等性能优调；</p></a> <div class=\"recruit-share\" data-v-114c7c2f=\"\" data-v-288d7ecc=\"\"><div class=\"recruit-content\" data-v-114c7c2f=\"\"><span class=\"share\" data-v-114c7c2f=\"\"></span> <span class=\"share-text\" data-v-114c7c2f=\"\">分享</span> <div class=\"share-list\" data-v-114c7c2f=\"\" id=\"share-detail\"><div class=\"share-title\" data-v-114c7c2f=\"\">分享</div> <div class=\"close-btn\" data-v-114c7c2f=\"\"></div> <div class=\"qr-code\" data-v-114c7c2f=\"\" id=\"1262201915609980928\" style=\"display: none;\"></div> <ul class=\"share-gound\" data-v-114c7c2f=\"\"><li class=\"share-item\" data-v-114c7c2f=\"\"><a class=\"share-icon qq\" data-v-114c7c2f=\"\" href=\"\" target=\"_blank\"></a></li> <li class=\"share-item\" data-v-114c7c2f=\"\"><a class=\"share-icon wechat\" data-v-114c7c2f=\"\" href=\"javascript:;\"></a></li> <li class=\"share-item\" data-v-114c7c2f=\"\"><a class=\"share-icon micro-blog\" data-v-114c7c2f=\"\" href=\"\" target=\"_blank\"></a></li> <li class=\"share-item\" data-v-114c7c2f=\"\"><a class=\"share-icon in\" data-v-114c7c2f=\"\" href=\"\" target=\"_blank\"></a></li> <li class=\"share-item\" data-v-114c7c2f=\"\"><a class=\"share-icon facebook\" data-v-114c7c2f=\"\" href=\"\" target=\"_blank\"></a></li> <li class=\"share-item\" data-v-114c7c2f=\"\"><a class=\"share-icon twitter\" data-v-114c7c2f=\"\" href=\"\" target=\"_blank\"></a></li></ul> <div class=\"link-wrapper\" data-v-114c7c2f=\"\"><div class=\"link-text\" data-v-114c7c2f=\"\">岗位链接</div> <div class=\"link-ground\" data-v-114c7c2f=\"\"><input class=\"link input-text\" data-v-114c7c2f=\"\" id=\"\" readonly=\"readonly\"/> <div class=\"copy\" data-v-114c7c2f=\"\">复制链接</div></div></div></div></div></div> <div class=\"recruit-collection\" data-v-288d7ecc=\"\"><span class=\"icon-collection\" data-v-288d7ecc=\"\"></span> <span class=\"collection-text\" data-v-288d7ecc=\"\">收藏</span></div></div><div class=\"recruit-list\" data-v-288d7ecc=\"\"><a class=\"recruit-list-link\" data-v-288d7ecc=\"\"><h4 class=\"recruit-title\" data-v-288d7ecc=\"\">15575-王者荣耀高级游戏客户端开发-工具研发方向（成都）</h4> <p class=\"recruit-tips\" data-v-288d7ecc=\"\"><span data-v-288d7ecc=\"\">IEG</span> |\n",
       "                  <span data-v-288d7ecc=\"\">成都,中国</span> |\n",
       "                  <span data-v-288d7ecc=\"\">技术</span> |\n",
       "                  <!-- --> <span data-v-288d7ecc=\"\">2020年07月08日</span></p> <p class=\"recruit-text\" data-v-288d7ecc=\"\">负责设计、实现游戏开发工具；\n",
       "负责扩展游戏引擎编辑器；\n",
       "负责提升游戏开发工具的可用性；\n",
       "协助美术/策划建立高效的游戏内容制作规范和流程, 完善并持续优化工具链；\n",
       "针对游戏特性对游戏引擎进行优化改造, 指导Gameplay程序员正确高效地使用引擎、工具相关功能；</p></a> <div class=\"recruit-share\" data-v-114c7c2f=\"\" data-v-288d7ecc=\"\"><div class=\"recruit-content\" data-v-114c7c2f=\"\"><span class=\"share\" data-v-114c7c2f=\"\"></span> <span class=\"share-text\" data-v-114c7c2f=\"\">分享</span> <div class=\"share-list\" data-v-114c7c2f=\"\" id=\"share-detail\"><div class=\"share-title\" data-v-114c7c2f=\"\">分享</div> <div class=\"close-btn\" data-v-114c7c2f=\"\"></div> <div class=\"qr-code\" data-v-114c7c2f=\"\" id=\"1252065427840831488\" style=\"display: none;\"></div> <ul class=\"share-gound\" data-v-114c7c2f=\"\"><li class=\"share-item\" data-v-114c7c2f=\"\"><a class=\"share-icon qq\" data-v-114c7c2f=\"\" href=\"\" target=\"_blank\"></a></li> <li class=\"share-item\" data-v-114c7c2f=\"\"><a class=\"share-icon wechat\" data-v-114c7c2f=\"\" href=\"javascript:;\"></a></li> <li class=\"share-item\" data-v-114c7c2f=\"\"><a class=\"share-icon micro-blog\" data-v-114c7c2f=\"\" href=\"\" target=\"_blank\"></a></li> <li class=\"share-item\" data-v-114c7c2f=\"\"><a class=\"share-icon in\" data-v-114c7c2f=\"\" href=\"\" target=\"_blank\"></a></li> <li class=\"share-item\" data-v-114c7c2f=\"\"><a class=\"share-icon facebook\" data-v-114c7c2f=\"\" href=\"\" target=\"_blank\"></a></li> <li class=\"share-item\" data-v-114c7c2f=\"\"><a class=\"share-icon twitter\" data-v-114c7c2f=\"\" href=\"\" target=\"_blank\"></a></li></ul> <div class=\"link-wrapper\" data-v-114c7c2f=\"\"><div class=\"link-text\" data-v-114c7c2f=\"\">岗位链接</div> <div class=\"link-ground\" data-v-114c7c2f=\"\"><input class=\"link input-text\" data-v-114c7c2f=\"\" id=\"\" readonly=\"readonly\"/> <div class=\"copy\" data-v-114c7c2f=\"\">复制链接</div></div></div></div></div></div> <div class=\"recruit-collection\" data-v-288d7ecc=\"\"><span class=\"icon-collection\" data-v-288d7ecc=\"\"></span> <span class=\"collection-text\" data-v-288d7ecc=\"\">收藏</span></div></div></div></body></html>"
      ]
     },
     "execution_count": 20,
     "metadata": {},
     "output_type": "execute_result"
    }
   ],
   "source": [
    "soup"
   ]
  },
  {
   "cell_type": "markdown",
   "metadata": {},
   "source": [
    "### find_all方法， 传入attrs={字典}属性"
   ]
  },
  {
   "cell_type": "code",
   "execution_count": 92,
   "metadata": {},
   "outputs": [
    {
     "data": {
      "text/plain": [
       "[<a class=\"recruit-list-link\" data-v-288d7ecc=\"\"><h4 class=\"recruit-title\" data-v-288d7ecc=\"\">19332-SaaS产品开发工程师(腾讯云全资子公司)</h4> <p class=\"recruit-tips\" data-v-288d7ecc=\"\"><span data-v-288d7ecc=\"\">CSIG</span> |\n",
       "                   <span data-v-288d7ecc=\"\">西安,中国</span> |\n",
       "                   <span data-v-288d7ecc=\"\">技术</span> |\n",
       "                   <span data-v-288d7ecc=\"\">腾讯云</span> |\n",
       "                    <span data-v-288d7ecc=\"\">2020年07月08日</span></p> <p class=\"recruit-text\" data-v-288d7ecc=\"\">负责ToB SaaS业务的系统架构设计、Web代码及后台服务程序研发； \n",
       " 负责运营支持系统的建设和研发工作，确保相关系统稳定可靠运行； \n",
       " 参与系统的需求分析、评审、运营及业务运维。</p></a>,\n",
       " <a class=\"recruit-list-link\" data-v-288d7ecc=\"\"><h4 class=\"recruit-title\" data-v-288d7ecc=\"\">14703-看点快报Android开发工程师</h4> <p class=\"recruit-tips\" data-v-288d7ecc=\"\"><span data-v-288d7ecc=\"\">PCG</span> |\n",
       "                   <span data-v-288d7ecc=\"\">深圳,中国</span> |\n",
       "                   <span data-v-288d7ecc=\"\">技术</span> |\n",
       "                   <span data-v-288d7ecc=\"\">QQ看点</span> |\n",
       "                    <span data-v-288d7ecc=\"\">2020年07月08日</span></p> <p class=\"recruit-text\" data-v-288d7ecc=\"\">负责看点快报Android平台软件设计与开发工作； \n",
       " 负责产品相关技术攻坚及性能优化</p></a>]"
      ]
     },
     "execution_count": 92,
     "metadata": {},
     "output_type": "execute_result"
    }
   ],
   "source": [
    "# find_all方法,获取属性=\"data-v-288d7ecc\"的a标签,\n",
    "soup.find_all('a',attrs={\"data-v-288d7ecc\":True})[:2] #*值为空的属性形同虚设，不参与筛选，如果想要参与筛选，则把值设为True"
   ]
  },
  {
   "cell_type": "markdown",
   "metadata": {},
   "source": [
    "### 获取a标签的class属性的值"
   ]
  },
  {
   "cell_type": "code",
   "execution_count": null,
   "metadata": {},
   "outputs": [],
   "source": [
    "alist=soup.find_all('a',attrs={'data-v-288d7ecc':True})\n",
    "for a in alist:\n",
    "    print(a['class']) # 或者a.attrs['class']"
   ]
  },
  {
   "cell_type": "markdown",
   "metadata": {},
   "source": [
    "### 获取职位信息 方法一 .find_all"
   ]
  },
  {
   "cell_type": "code",
   "execution_count": 91,
   "metadata": {},
   "outputs": [
    {
     "data": {
      "text/plain": [
       "[{'title': '19332-SaaS产品开发工程师(腾讯云全资子公司)',\n",
       "  'loc': '西安,中国',\n",
       "  'category': '技术',\n",
       "  'pubtime': '2020年07月08日',\n",
       "  'desc': '负责ToB SaaS业务的系统架构设计、Web代码及后台服务程序研发； \\n负责运营支持系统的建设和研发工作，确保相关系统稳定可靠运行； \\n参与系统的需求分析、评审、运营及业务运维。'},\n",
       " {'title': '14703-看点快报Android开发工程师',\n",
       "  'loc': '深圳,中国',\n",
       "  'category': '技术',\n",
       "  'pubtime': '2020年07月08日',\n",
       "  'desc': '负责看点快报Android平台软件设计与开发工作； \\n负责产品相关技术攻坚及性能优化'},\n",
       " {'title': '22989-存储Web前端开发',\n",
       "  'loc': '深圳,中国',\n",
       "  'category': '技术',\n",
       "  'pubtime': '2020年07月08日',\n",
       "  'desc': '1. 负责腾讯云存储产品中心前端工作，包括COS、CI、CHDFS、CSG等产品控制台开发和产品特性\\n2. 负责存储内部运营运维一体化的平台架构设计和开发（运营分析、运维管控、监控告警）\\n3. 负责前端架构建设和公共组件开发，以及新技术的落地实践'}]"
      ]
     },
     "execution_count": 91,
     "metadata": {},
     "output_type": "execute_result"
    }
   ],
   "source": [
    "\n",
    "alist=soup.find_all('a',attrs={'data-v-288d7ecc':True})\n",
    "positions=[]\n",
    "for a in alist:\n",
    "    title=a.find_all('h4')[0].string                                    #[]定位了才能用.string\n",
    "    loc=a.find_all('span')[1].string \n",
    "    category=a.find_all('span')[2].string \n",
    "    pubtime=a.find_all('span')[-1].string \n",
    "    desc=a.find_all('p',attrs={\"class\":\"recruit-text\"})[0].string \n",
    "    position={\n",
    "        'title':title\n",
    "        ,'loc':loc\n",
    "        ,'category':category\n",
    "        ,'pubtime':pubtime\n",
    "        ,'desc':desc        \n",
    "    }\n",
    "    positions.append(position)\n",
    "positions[:3]\n",
    "    "
   ]
  },
  {
   "cell_type": "markdown",
   "metadata": {},
   "source": [
    "### 获取职位信息 方法二 .stripped_strings"
   ]
  },
  {
   "cell_type": "code",
   "execution_count": 102,
   "metadata": {},
   "outputs": [
    {
     "data": {
      "text/plain": [
       "[{'title': '19332-SaaS产品开发工程师(腾讯云全资子公司)',\n",
       "  'loc': '西安,中国',\n",
       "  'category': '技术',\n",
       "  'pubtime': '2020年07月08日',\n",
       "  'desc': '负责ToB SaaS业务的系统架构设计、Web代码及后台服务程序研发； \\n负责运营支持系统的建设和研发工作，确保相关系统稳定可靠运行； \\n参与系统的需求分析、评审、运营及业务运维。'},\n",
       " {'title': '14703-看点快报Android开发工程师',\n",
       "  'loc': '深圳,中国',\n",
       "  'category': '技术',\n",
       "  'pubtime': '2020年07月08日',\n",
       "  'desc': '负责看点快报Android平台软件设计与开发工作； \\n负责产品相关技术攻坚及性能优化'},\n",
       " {'title': '22989-存储Web前端开发',\n",
       "  'loc': '深圳,中国',\n",
       "  'category': '技术',\n",
       "  'pubtime': '2020年07月08日',\n",
       "  'desc': '1. 负责腾讯云存储产品中心前端工作，包括COS、CI、CHDFS、CSG等产品控制台开发和产品特性\\n2. 负责存储内部运营运维一体化的平台架构设计和开发（运营分析、运维管控、监控告警）\\n3. 负责前端架构建设和公共组件开发，以及新技术的落地实践'}]"
      ]
     },
     "execution_count": 102,
     "metadata": {},
     "output_type": "execute_result"
    }
   ],
   "source": [
    "alist=soup.find_all('a',attrs={'data-v-288d7ecc':True})\n",
    "positions=[]\n",
    "for a in alist:\n",
    "    infos=list(a.stripped_strings)          #.stripped_strings提取所有的非空白strings，返回generator，用list()\n",
    "    title=infos[0]\n",
    "    loc=infos[3]\n",
    "    category=infos[5]\n",
    "    pubtime=infos[-2]\n",
    "    desc=infos[-1]\n",
    "    \n",
    "    position={\n",
    "    'title':title\n",
    "    ,'loc':loc\n",
    "    ,'category':category\n",
    "    ,'pubtime':pubtime\n",
    "    ,'desc':desc        \n",
    "    }\n",
    "    \n",
    "    positions.append(position)\n",
    "    \n",
    "positions[:3]"
   ]
  },
  {
   "cell_type": "markdown",
   "metadata": {},
   "source": [
    "### strings和stripped_strings，string属性以及get_text()方法。"
   ]
  },
  {
   "cell_type": "raw",
   "metadata": {},
   "source": [
    "string：获取某个标签下的非标签字符串，返回来的是个字符串\n",
    "strings：获取某个标签下的子孙非标签字符串，返回来的是个生成器，用来list()列表化会简单一点\n",
    "stripped_strings：获取某个标签下的子孙非标签字符串，去掉空白和换行字符串，返回生成器\n",
    "get_text：获取某个标签下的子孙非标签字符串，不是以列表的形式返回，是以普通字符串。"
   ]
  },
  {
   "cell_type": "markdown",
   "metadata": {},
   "source": [
    "## BeautifulSoup 解析库- select(css) "
   ]
  },
  {
   "cell_type": "code",
   "execution_count": null,
   "metadata": {},
   "outputs": [],
   "source": [
    "css style\n",
    "<body>\n",
    "\n",
    "    <h2>HTML Links</h2>\n",
    "        <p>HTML links are defined with the a tag:</p>\n",
    "\n",
    "        <a href=\"https://www.w3schools.com\">This is a link</a>\n",
    "\n",
    "    <h2>HTML Images</h2>\n",
    "        <p>HTML images are defined with the img tag:</p>\n",
    "\n",
    "        <img src=\"w3schools.jpg\" alt=\"W3Schools.com\" width=\"104\" height=\"142\">\n",
    "\n",
    "    <h2>An Unordered HTML List</h2>\n",
    "\n",
    "        <ul>\n",
    "          <li>Coffee</li>\n",
    "          <li>Tea</li>\n",
    "          <li>Milk</li>\n",
    "        </ul>  \n",
    "\n",
    "    <h2>An Ordered HTML List</h2>\n",
    "\n",
    "        <ol>\n",
    "          <li>Coffee</li>\n",
    "          <li>Tea</li>\n",
    "          <li>Milk</li>\n",
    "        </ol> \n",
    "\n",
    "    <h2 title=\"I'm a header\">The title Attribute</h2>\n",
    "\n",
    "        <p title=\"I'm a tooltip\">Mouse over this paragraph, to display the title attribute as a tooltip.</p>\n",
    "\n",
    "\n",
    "\n",
    "</body>\n",
    "’‘’"
   ]
  },
  {
   "cell_type": "markdown",
   "metadata": {},
   "source": [
    "### 按照标签名查找"
   ]
  },
  {
   "cell_type": "code",
   "execution_count": 108,
   "metadata": {},
   "outputs": [
    {
     "data": {
      "text/plain": [
       "[<a class=\"recruit-list-link\" data-v-288d7ecc=\"\"><h4 class=\"recruit-title\" data-v-288d7ecc=\"\">19332-SaaS产品开发工程师(腾讯云全资子公司)</h4> <p class=\"recruit-tips\" data-v-288d7ecc=\"\"><span data-v-288d7ecc=\"\">CSIG</span> |\n",
       "                   <span data-v-288d7ecc=\"\">西安,中国</span> |\n",
       "                   <span data-v-288d7ecc=\"\">技术</span> |\n",
       "                   <span data-v-288d7ecc=\"\">腾讯云</span> |\n",
       "                    <span data-v-288d7ecc=\"\">2020年07月08日</span></p> <p class=\"recruit-text\" data-v-288d7ecc=\"\">负责ToB SaaS业务的系统架构设计、Web代码及后台服务程序研发； \n",
       " 负责运营支持系统的建设和研发工作，确保相关系统稳定可靠运行； \n",
       " 参与系统的需求分析、评审、运营及业务运维。</p></a>,\n",
       " <a class=\"share-icon qq\" data-v-114c7c2f=\"\" href=\"\" target=\"_blank\"></a>]"
      ]
     },
     "execution_count": 108,
     "metadata": {},
     "output_type": "execute_result"
    }
   ],
   "source": [
    "soup.select('a')[:2]"
   ]
  },
  {
   "cell_type": "markdown",
   "metadata": {},
   "source": [
    "### 按照类名(attrs)查找 .class"
   ]
  },
  {
   "cell_type": "code",
   "execution_count": 106,
   "metadata": {},
   "outputs": [
    {
     "data": {
      "text/plain": [
       "[<a class=\"recruit-list-link\" data-v-288d7ecc=\"\"><h4 class=\"recruit-title\" data-v-288d7ecc=\"\">19332-SaaS产品开发工程师(腾讯云全资子公司)</h4> <p class=\"recruit-tips\" data-v-288d7ecc=\"\"><span data-v-288d7ecc=\"\">CSIG</span> |\n",
       "                   <span data-v-288d7ecc=\"\">西安,中国</span> |\n",
       "                   <span data-v-288d7ecc=\"\">技术</span> |\n",
       "                   <span data-v-288d7ecc=\"\">腾讯云</span> |\n",
       "                    <span data-v-288d7ecc=\"\">2020年07月08日</span></p> <p class=\"recruit-text\" data-v-288d7ecc=\"\">负责ToB SaaS业务的系统架构设计、Web代码及后台服务程序研发； \n",
       " 负责运营支持系统的建设和研发工作，确保相关系统稳定可靠运行； \n",
       " 参与系统的需求分析、评审、运营及业务运维。</p></a>,\n",
       " <a class=\"recruit-list-link\" data-v-288d7ecc=\"\"><h4 class=\"recruit-title\" data-v-288d7ecc=\"\">14703-看点快报Android开发工程师</h4> <p class=\"recruit-tips\" data-v-288d7ecc=\"\"><span data-v-288d7ecc=\"\">PCG</span> |\n",
       "                   <span data-v-288d7ecc=\"\">深圳,中国</span> |\n",
       "                   <span data-v-288d7ecc=\"\">技术</span> |\n",
       "                   <span data-v-288d7ecc=\"\">QQ看点</span> |\n",
       "                    <span data-v-288d7ecc=\"\">2020年07月08日</span></p> <p class=\"recruit-text\" data-v-288d7ecc=\"\">负责看点快报Android平台软件设计与开发工作； \n",
       " 负责产品相关技术攻坚及性能优化</p></a>]"
      ]
     },
     "execution_count": 106,
     "metadata": {},
     "output_type": "execute_result"
    }
   ],
   "source": [
    "soup.select('.recruit-list-link')[:2] # <a class=\"recruit-list-link\">"
   ]
  },
  {
   "cell_type": "markdown",
   "metadata": {},
   "source": [
    "### 按照id查找 #id"
   ]
  },
  {
   "cell_type": "code",
   "execution_count": 116,
   "metadata": {},
   "outputs": [
    {
     "data": {
      "text/plain": [
       "[<div class=\"share-list\" data-v-114c7c2f=\"\" id=\"share-detail\"><div class=\"share-title\" data-v-114c7c2f=\"\">分享</div> <div class=\"close-btn\" data-v-114c7c2f=\"\"></div> <div class=\"qr-code\" data-v-114c7c2f=\"\" id=\"1280876751001493504\" style=\"display: none;\"></div> <ul class=\"share-gound\" data-v-114c7c2f=\"\"><li class=\"share-item\" data-v-114c7c2f=\"\"><a class=\"share-icon qq\" data-v-114c7c2f=\"\" href=\"\" target=\"_blank\"></a></li> <li class=\"share-item\" data-v-114c7c2f=\"\"><a class=\"share-icon wechat\" data-v-114c7c2f=\"\" href=\"javascript:;\"></a></li> <li class=\"share-item\" data-v-114c7c2f=\"\"><a class=\"share-icon micro-blog\" data-v-114c7c2f=\"\" href=\"\" target=\"_blank\"></a></li> <li class=\"share-item\" data-v-114c7c2f=\"\"><a class=\"share-icon in\" data-v-114c7c2f=\"\" href=\"\" target=\"_blank\"></a></li> <li class=\"share-item\" data-v-114c7c2f=\"\"><a class=\"share-icon facebook\" data-v-114c7c2f=\"\" href=\"\" target=\"_blank\"></a></li> <li class=\"share-item\" data-v-114c7c2f=\"\"><a class=\"share-icon twitter\" data-v-114c7c2f=\"\" href=\"\" target=\"_blank\"></a></li></ul> <div class=\"link-wrapper\" data-v-114c7c2f=\"\"><div class=\"link-text\" data-v-114c7c2f=\"\">岗位链接</div> <div class=\"link-ground\" data-v-114c7c2f=\"\"><input class=\"link input-text\" data-v-114c7c2f=\"\" id=\"\" readonly=\"readonly\"/> <div class=\"copy\" data-v-114c7c2f=\"\">复制链接</div></div></div></div>,\n",
       " <div class=\"share-list\" data-v-114c7c2f=\"\" id=\"share-detail\"><div class=\"share-title\" data-v-114c7c2f=\"\">分享</div> <div class=\"close-btn\" data-v-114c7c2f=\"\"></div> <div class=\"qr-code\" data-v-114c7c2f=\"\" id=\"1280872448106962944\" style=\"display: none;\"></div> <ul class=\"share-gound\" data-v-114c7c2f=\"\"><li class=\"share-item\" data-v-114c7c2f=\"\"><a class=\"share-icon qq\" data-v-114c7c2f=\"\" href=\"\" target=\"_blank\"></a></li> <li class=\"share-item\" data-v-114c7c2f=\"\"><a class=\"share-icon wechat\" data-v-114c7c2f=\"\" href=\"javascript:;\"></a></li> <li class=\"share-item\" data-v-114c7c2f=\"\"><a class=\"share-icon micro-blog\" data-v-114c7c2f=\"\" href=\"\" target=\"_blank\"></a></li> <li class=\"share-item\" data-v-114c7c2f=\"\"><a class=\"share-icon in\" data-v-114c7c2f=\"\" href=\"\" target=\"_blank\"></a></li> <li class=\"share-item\" data-v-114c7c2f=\"\"><a class=\"share-icon facebook\" data-v-114c7c2f=\"\" href=\"\" target=\"_blank\"></a></li> <li class=\"share-item\" data-v-114c7c2f=\"\"><a class=\"share-icon twitter\" data-v-114c7c2f=\"\" href=\"\" target=\"_blank\"></a></li></ul> <div class=\"link-wrapper\" data-v-114c7c2f=\"\"><div class=\"link-text\" data-v-114c7c2f=\"\">岗位链接</div> <div class=\"link-ground\" data-v-114c7c2f=\"\"><input class=\"link input-text\" data-v-114c7c2f=\"\" id=\"\" readonly=\"readonly\"/> <div class=\"copy\" data-v-114c7c2f=\"\">复制链接</div></div></div></div>,\n",
       " <div class=\"share-list\" data-v-114c7c2f=\"\" id=\"share-detail\"><div class=\"share-title\" data-v-114c7c2f=\"\">分享</div> <div class=\"close-btn\" data-v-114c7c2f=\"\"></div> <div class=\"qr-code\" data-v-114c7c2f=\"\" id=\"1280871359466971136\" style=\"display: none;\"></div> <ul class=\"share-gound\" data-v-114c7c2f=\"\"><li class=\"share-item\" data-v-114c7c2f=\"\"><a class=\"share-icon qq\" data-v-114c7c2f=\"\" href=\"\" target=\"_blank\"></a></li> <li class=\"share-item\" data-v-114c7c2f=\"\"><a class=\"share-icon wechat\" data-v-114c7c2f=\"\" href=\"javascript:;\"></a></li> <li class=\"share-item\" data-v-114c7c2f=\"\"><a class=\"share-icon micro-blog\" data-v-114c7c2f=\"\" href=\"\" target=\"_blank\"></a></li> <li class=\"share-item\" data-v-114c7c2f=\"\"><a class=\"share-icon in\" data-v-114c7c2f=\"\" href=\"\" target=\"_blank\"></a></li> <li class=\"share-item\" data-v-114c7c2f=\"\"><a class=\"share-icon facebook\" data-v-114c7c2f=\"\" href=\"\" target=\"_blank\"></a></li> <li class=\"share-item\" data-v-114c7c2f=\"\"><a class=\"share-icon twitter\" data-v-114c7c2f=\"\" href=\"\" target=\"_blank\"></a></li></ul> <div class=\"link-wrapper\" data-v-114c7c2f=\"\"><div class=\"link-text\" data-v-114c7c2f=\"\">岗位链接</div> <div class=\"link-ground\" data-v-114c7c2f=\"\"><input class=\"link input-text\" data-v-114c7c2f=\"\" id=\"\" readonly=\"readonly\"/> <div class=\"copy\" data-v-114c7c2f=\"\">复制链接</div></div></div></div>,\n",
       " <div class=\"share-list\" data-v-114c7c2f=\"\" id=\"share-detail\"><div class=\"share-title\" data-v-114c7c2f=\"\">分享</div> <div class=\"close-btn\" data-v-114c7c2f=\"\"></div> <div class=\"qr-code\" data-v-114c7c2f=\"\" id=\"1280871237488222208\" style=\"display: none;\"></div> <ul class=\"share-gound\" data-v-114c7c2f=\"\"><li class=\"share-item\" data-v-114c7c2f=\"\"><a class=\"share-icon qq\" data-v-114c7c2f=\"\" href=\"\" target=\"_blank\"></a></li> <li class=\"share-item\" data-v-114c7c2f=\"\"><a class=\"share-icon wechat\" data-v-114c7c2f=\"\" href=\"javascript:;\"></a></li> <li class=\"share-item\" data-v-114c7c2f=\"\"><a class=\"share-icon micro-blog\" data-v-114c7c2f=\"\" href=\"\" target=\"_blank\"></a></li> <li class=\"share-item\" data-v-114c7c2f=\"\"><a class=\"share-icon in\" data-v-114c7c2f=\"\" href=\"\" target=\"_blank\"></a></li> <li class=\"share-item\" data-v-114c7c2f=\"\"><a class=\"share-icon facebook\" data-v-114c7c2f=\"\" href=\"\" target=\"_blank\"></a></li> <li class=\"share-item\" data-v-114c7c2f=\"\"><a class=\"share-icon twitter\" data-v-114c7c2f=\"\" href=\"\" target=\"_blank\"></a></li></ul> <div class=\"link-wrapper\" data-v-114c7c2f=\"\"><div class=\"link-text\" data-v-114c7c2f=\"\">岗位链接</div> <div class=\"link-ground\" data-v-114c7c2f=\"\"><input class=\"link input-text\" data-v-114c7c2f=\"\" id=\"\" readonly=\"readonly\"/> <div class=\"copy\" data-v-114c7c2f=\"\">复制链接</div></div></div></div>,\n",
       " <div class=\"share-list\" data-v-114c7c2f=\"\" id=\"share-detail\"><div class=\"share-title\" data-v-114c7c2f=\"\">分享</div> <div class=\"close-btn\" data-v-114c7c2f=\"\"></div> <div class=\"qr-code\" data-v-114c7c2f=\"\" id=\"1260828879640076288\" style=\"display: none;\"></div> <ul class=\"share-gound\" data-v-114c7c2f=\"\"><li class=\"share-item\" data-v-114c7c2f=\"\"><a class=\"share-icon qq\" data-v-114c7c2f=\"\" href=\"\" target=\"_blank\"></a></li> <li class=\"share-item\" data-v-114c7c2f=\"\"><a class=\"share-icon wechat\" data-v-114c7c2f=\"\" href=\"javascript:;\"></a></li> <li class=\"share-item\" data-v-114c7c2f=\"\"><a class=\"share-icon micro-blog\" data-v-114c7c2f=\"\" href=\"\" target=\"_blank\"></a></li> <li class=\"share-item\" data-v-114c7c2f=\"\"><a class=\"share-icon in\" data-v-114c7c2f=\"\" href=\"\" target=\"_blank\"></a></li> <li class=\"share-item\" data-v-114c7c2f=\"\"><a class=\"share-icon facebook\" data-v-114c7c2f=\"\" href=\"\" target=\"_blank\"></a></li> <li class=\"share-item\" data-v-114c7c2f=\"\"><a class=\"share-icon twitter\" data-v-114c7c2f=\"\" href=\"\" target=\"_blank\"></a></li></ul> <div class=\"link-wrapper\" data-v-114c7c2f=\"\"><div class=\"link-text\" data-v-114c7c2f=\"\">岗位链接</div> <div class=\"link-ground\" data-v-114c7c2f=\"\"><input class=\"link input-text\" data-v-114c7c2f=\"\" id=\"\" readonly=\"readonly\"/> <div class=\"copy\" data-v-114c7c2f=\"\">复制链接</div></div></div></div>,\n",
       " <div class=\"share-list\" data-v-114c7c2f=\"\" id=\"share-detail\"><div class=\"share-title\" data-v-114c7c2f=\"\">分享</div> <div class=\"close-btn\" data-v-114c7c2f=\"\"></div> <div class=\"qr-code\" data-v-114c7c2f=\"\" id=\"1260828879606521856\" style=\"display: none;\"></div> <ul class=\"share-gound\" data-v-114c7c2f=\"\"><li class=\"share-item\" data-v-114c7c2f=\"\"><a class=\"share-icon qq\" data-v-114c7c2f=\"\" href=\"\" target=\"_blank\"></a></li> <li class=\"share-item\" data-v-114c7c2f=\"\"><a class=\"share-icon wechat\" data-v-114c7c2f=\"\" href=\"javascript:;\"></a></li> <li class=\"share-item\" data-v-114c7c2f=\"\"><a class=\"share-icon micro-blog\" data-v-114c7c2f=\"\" href=\"\" target=\"_blank\"></a></li> <li class=\"share-item\" data-v-114c7c2f=\"\"><a class=\"share-icon in\" data-v-114c7c2f=\"\" href=\"\" target=\"_blank\"></a></li> <li class=\"share-item\" data-v-114c7c2f=\"\"><a class=\"share-icon facebook\" data-v-114c7c2f=\"\" href=\"\" target=\"_blank\"></a></li> <li class=\"share-item\" data-v-114c7c2f=\"\"><a class=\"share-icon twitter\" data-v-114c7c2f=\"\" href=\"\" target=\"_blank\"></a></li></ul> <div class=\"link-wrapper\" data-v-114c7c2f=\"\"><div class=\"link-text\" data-v-114c7c2f=\"\">岗位链接</div> <div class=\"link-ground\" data-v-114c7c2f=\"\"><input class=\"link input-text\" data-v-114c7c2f=\"\" id=\"\" readonly=\"readonly\"/> <div class=\"copy\" data-v-114c7c2f=\"\">复制链接</div></div></div></div>,\n",
       " <div class=\"share-list\" data-v-114c7c2f=\"\" id=\"share-detail\"><div class=\"share-title\" data-v-114c7c2f=\"\">分享</div> <div class=\"close-btn\" data-v-114c7c2f=\"\"></div> <div class=\"qr-code\" data-v-114c7c2f=\"\" id=\"1260828879019319296\" style=\"display: none;\"></div> <ul class=\"share-gound\" data-v-114c7c2f=\"\"><li class=\"share-item\" data-v-114c7c2f=\"\"><a class=\"share-icon qq\" data-v-114c7c2f=\"\" href=\"\" target=\"_blank\"></a></li> <li class=\"share-item\" data-v-114c7c2f=\"\"><a class=\"share-icon wechat\" data-v-114c7c2f=\"\" href=\"javascript:;\"></a></li> <li class=\"share-item\" data-v-114c7c2f=\"\"><a class=\"share-icon micro-blog\" data-v-114c7c2f=\"\" href=\"\" target=\"_blank\"></a></li> <li class=\"share-item\" data-v-114c7c2f=\"\"><a class=\"share-icon in\" data-v-114c7c2f=\"\" href=\"\" target=\"_blank\"></a></li> <li class=\"share-item\" data-v-114c7c2f=\"\"><a class=\"share-icon facebook\" data-v-114c7c2f=\"\" href=\"\" target=\"_blank\"></a></li> <li class=\"share-item\" data-v-114c7c2f=\"\"><a class=\"share-icon twitter\" data-v-114c7c2f=\"\" href=\"\" target=\"_blank\"></a></li></ul> <div class=\"link-wrapper\" data-v-114c7c2f=\"\"><div class=\"link-text\" data-v-114c7c2f=\"\">岗位链接</div> <div class=\"link-ground\" data-v-114c7c2f=\"\"><input class=\"link input-text\" data-v-114c7c2f=\"\" id=\"\" readonly=\"readonly\"/> <div class=\"copy\" data-v-114c7c2f=\"\">复制链接</div></div></div></div>,\n",
       " <div class=\"share-list\" data-v-114c7c2f=\"\" id=\"share-detail\"><div class=\"share-title\" data-v-114c7c2f=\"\">分享</div> <div class=\"close-btn\" data-v-114c7c2f=\"\"></div> <div class=\"qr-code\" data-v-114c7c2f=\"\" id=\"1126324083252793344\" style=\"display: none;\"></div> <ul class=\"share-gound\" data-v-114c7c2f=\"\"><li class=\"share-item\" data-v-114c7c2f=\"\"><a class=\"share-icon qq\" data-v-114c7c2f=\"\" href=\"\" target=\"_blank\"></a></li> <li class=\"share-item\" data-v-114c7c2f=\"\"><a class=\"share-icon wechat\" data-v-114c7c2f=\"\" href=\"javascript:;\"></a></li> <li class=\"share-item\" data-v-114c7c2f=\"\"><a class=\"share-icon micro-blog\" data-v-114c7c2f=\"\" href=\"\" target=\"_blank\"></a></li> <li class=\"share-item\" data-v-114c7c2f=\"\"><a class=\"share-icon in\" data-v-114c7c2f=\"\" href=\"\" target=\"_blank\"></a></li> <li class=\"share-item\" data-v-114c7c2f=\"\"><a class=\"share-icon facebook\" data-v-114c7c2f=\"\" href=\"\" target=\"_blank\"></a></li> <li class=\"share-item\" data-v-114c7c2f=\"\"><a class=\"share-icon twitter\" data-v-114c7c2f=\"\" href=\"\" target=\"_blank\"></a></li></ul> <div class=\"link-wrapper\" data-v-114c7c2f=\"\"><div class=\"link-text\" data-v-114c7c2f=\"\">岗位链接</div> <div class=\"link-ground\" data-v-114c7c2f=\"\"><input class=\"link input-text\" data-v-114c7c2f=\"\" id=\"\" readonly=\"readonly\"/> <div class=\"copy\" data-v-114c7c2f=\"\">复制链接</div></div></div></div>,\n",
       " <div class=\"share-list\" data-v-114c7c2f=\"\" id=\"share-detail\"><div class=\"share-title\" data-v-114c7c2f=\"\">分享</div> <div class=\"close-btn\" data-v-114c7c2f=\"\"></div> <div class=\"qr-code\" data-v-114c7c2f=\"\" id=\"1262201915609980928\" style=\"display: none;\"></div> <ul class=\"share-gound\" data-v-114c7c2f=\"\"><li class=\"share-item\" data-v-114c7c2f=\"\"><a class=\"share-icon qq\" data-v-114c7c2f=\"\" href=\"\" target=\"_blank\"></a></li> <li class=\"share-item\" data-v-114c7c2f=\"\"><a class=\"share-icon wechat\" data-v-114c7c2f=\"\" href=\"javascript:;\"></a></li> <li class=\"share-item\" data-v-114c7c2f=\"\"><a class=\"share-icon micro-blog\" data-v-114c7c2f=\"\" href=\"\" target=\"_blank\"></a></li> <li class=\"share-item\" data-v-114c7c2f=\"\"><a class=\"share-icon in\" data-v-114c7c2f=\"\" href=\"\" target=\"_blank\"></a></li> <li class=\"share-item\" data-v-114c7c2f=\"\"><a class=\"share-icon facebook\" data-v-114c7c2f=\"\" href=\"\" target=\"_blank\"></a></li> <li class=\"share-item\" data-v-114c7c2f=\"\"><a class=\"share-icon twitter\" data-v-114c7c2f=\"\" href=\"\" target=\"_blank\"></a></li></ul> <div class=\"link-wrapper\" data-v-114c7c2f=\"\"><div class=\"link-text\" data-v-114c7c2f=\"\">岗位链接</div> <div class=\"link-ground\" data-v-114c7c2f=\"\"><input class=\"link input-text\" data-v-114c7c2f=\"\" id=\"\" readonly=\"readonly\"/> <div class=\"copy\" data-v-114c7c2f=\"\">复制链接</div></div></div></div>,\n",
       " <div class=\"share-list\" data-v-114c7c2f=\"\" id=\"share-detail\"><div class=\"share-title\" data-v-114c7c2f=\"\">分享</div> <div class=\"close-btn\" data-v-114c7c2f=\"\"></div> <div class=\"qr-code\" data-v-114c7c2f=\"\" id=\"1252065427840831488\" style=\"display: none;\"></div> <ul class=\"share-gound\" data-v-114c7c2f=\"\"><li class=\"share-item\" data-v-114c7c2f=\"\"><a class=\"share-icon qq\" data-v-114c7c2f=\"\" href=\"\" target=\"_blank\"></a></li> <li class=\"share-item\" data-v-114c7c2f=\"\"><a class=\"share-icon wechat\" data-v-114c7c2f=\"\" href=\"javascript:;\"></a></li> <li class=\"share-item\" data-v-114c7c2f=\"\"><a class=\"share-icon micro-blog\" data-v-114c7c2f=\"\" href=\"\" target=\"_blank\"></a></li> <li class=\"share-item\" data-v-114c7c2f=\"\"><a class=\"share-icon in\" data-v-114c7c2f=\"\" href=\"\" target=\"_blank\"></a></li> <li class=\"share-item\" data-v-114c7c2f=\"\"><a class=\"share-icon facebook\" data-v-114c7c2f=\"\" href=\"\" target=\"_blank\"></a></li> <li class=\"share-item\" data-v-114c7c2f=\"\"><a class=\"share-icon twitter\" data-v-114c7c2f=\"\" href=\"\" target=\"_blank\"></a></li></ul> <div class=\"link-wrapper\" data-v-114c7c2f=\"\"><div class=\"link-text\" data-v-114c7c2f=\"\">岗位链接</div> <div class=\"link-ground\" data-v-114c7c2f=\"\"><input class=\"link input-text\" data-v-114c7c2f=\"\" id=\"\" readonly=\"readonly\"/> <div class=\"copy\" data-v-114c7c2f=\"\">复制链接</div></div></div></div>]"
      ]
     },
     "execution_count": 116,
     "metadata": {},
     "output_type": "execute_result"
    }
   ],
   "source": [
    "soup.select('#share-detail') # <div class=\"share-list\""
   ]
  },
  {
   "cell_type": "markdown",
   "metadata": {},
   "source": [
    "### 按照组合查找 "
   ]
  },
  {
   "cell_type": "code",
   "execution_count": 122,
   "metadata": {},
   "outputs": [
    {
     "data": {
      "text/plain": [
       "[<p class=\"recruit-text\" data-v-288d7ecc=\"\">负责ToB SaaS业务的系统架构设计、Web代码及后台服务程序研发； \n",
       " 负责运营支持系统的建设和研发工作，确保相关系统稳定可靠运行； \n",
       " 参与系统的需求分析、评审、运营及业务运维。</p>,\n",
       " <p class=\"recruit-text\" data-v-288d7ecc=\"\">负责看点快报Android平台软件设计与开发工作； \n",
       " 负责产品相关技术攻坚及性能优化</p>,\n",
       " <p class=\"recruit-text\" data-v-288d7ecc=\"\">1. 负责腾讯云存储产品中心前端工作，包括COS、CI、CHDFS、CSG等产品控制台开发和产品特性\n",
       " 2. 负责存储内部运营运维一体化的平台架构设计和开发（运营分析、运维管控、监控告警）\n",
       " 3. 负责前端架构建设和公共组件开发，以及新技术的落地实践</p>]"
      ]
     },
     "execution_count": 122,
     "metadata": {},
     "output_type": "execute_result"
    }
   ],
   "source": [
    "soup.select('a .recruit-text')[:3]  #标签和子孙属性的组合，用空格"
   ]
  },
  {
   "cell_type": "code",
   "execution_count": 123,
   "metadata": {
    "scrolled": true
   },
   "outputs": [
    {
     "data": {
      "text/plain": [
       "[<a class=\"recruit-list-link\" data-v-288d7ecc=\"\"><h4 class=\"recruit-title\" data-v-288d7ecc=\"\">19332-SaaS产品开发工程师(腾讯云全资子公司)</h4> <p class=\"recruit-tips\" data-v-288d7ecc=\"\"><span data-v-288d7ecc=\"\">CSIG</span> |\n",
       "                   <span data-v-288d7ecc=\"\">西安,中国</span> |\n",
       "                   <span data-v-288d7ecc=\"\">技术</span> |\n",
       "                   <span data-v-288d7ecc=\"\">腾讯云</span> |\n",
       "                    <span data-v-288d7ecc=\"\">2020年07月08日</span></p> <p class=\"recruit-text\" data-v-288d7ecc=\"\">负责ToB SaaS业务的系统架构设计、Web代码及后台服务程序研发； \n",
       " 负责运营支持系统的建设和研发工作，确保相关系统稳定可靠运行； \n",
       " 参与系统的需求分析、评审、运营及业务运维。</p></a>,\n",
       " <a class=\"recruit-list-link\" data-v-288d7ecc=\"\"><h4 class=\"recruit-title\" data-v-288d7ecc=\"\">14703-看点快报Android开发工程师</h4> <p class=\"recruit-tips\" data-v-288d7ecc=\"\"><span data-v-288d7ecc=\"\">PCG</span> |\n",
       "                   <span data-v-288d7ecc=\"\">深圳,中国</span> |\n",
       "                   <span data-v-288d7ecc=\"\">技术</span> |\n",
       "                   <span data-v-288d7ecc=\"\">QQ看点</span> |\n",
       "                    <span data-v-288d7ecc=\"\">2020年07月08日</span></p> <p class=\"recruit-text\" data-v-288d7ecc=\"\">负责看点快报Android平台软件设计与开发工作； \n",
       " 负责产品相关技术攻坚及性能优化</p></a>,\n",
       " <a class=\"recruit-list-link\" data-v-288d7ecc=\"\"><h4 class=\"recruit-title\" data-v-288d7ecc=\"\">22989-存储Web前端开发</h4> <p class=\"recruit-tips\" data-v-288d7ecc=\"\"><span data-v-288d7ecc=\"\">CSIG</span> |\n",
       "                   <span data-v-288d7ecc=\"\">深圳,中国</span> |\n",
       "                   <span data-v-288d7ecc=\"\">技术</span> |\n",
       "                   <span data-v-288d7ecc=\"\">腾讯云</span> |\n",
       "                    <span data-v-288d7ecc=\"\">2020年07月08日</span></p> <p class=\"recruit-text\" data-v-288d7ecc=\"\">1. 负责腾讯云存储产品中心前端工作，包括COS、CI、CHDFS、CSG等产品控制台开发和产品特性\n",
       " 2. 负责存储内部运营运维一体化的平台架构设计和开发（运营分析、运维管控、监控告警）\n",
       " 3. 负责前端架构建设和公共组件开发，以及新技术的落地实践</p></a>]"
      ]
     },
     "execution_count": 123,
     "metadata": {},
     "output_type": "execute_result"
    }
   ],
   "source": [
    "soup.select('a.recruit-list-link')[:3]  #标签和自身的属性就不需要加空格"
   ]
  },
  {
   "cell_type": "markdown",
   "metadata": {},
   "source": [
    "### 获取内容 字符串 "
   ]
  },
  {
   "cell_type": "code",
   "execution_count": 127,
   "metadata": {},
   "outputs": [
    {
     "name": "stdout",
     "output_type": "stream",
     "text": [
      "负责ToB SaaS业务的系统架构设计、Web代码及后台服务程序研发； \n",
      "负责运营支持系统的建设和研发工作，确保相关系统稳定可靠运行； \n",
      "参与系统的需求分析、评审、运营及业务运维。 \n",
      "\n",
      "负责看点快报Android平台软件设计与开发工作； \n",
      "负责产品相关技术攻坚及性能优化 \n",
      "\n",
      "1. 负责腾讯云存储产品中心前端工作，包括COS、CI、CHDFS、CSG等产品控制台开发和产品特性\n",
      "2. 负责存储内部运营运维一体化的平台架构设计和开发（运营分析、运维管控、监控告警）\n",
      "3. 负责前端架构建设和公共组件开发，以及新技术的落地实践 \n",
      "\n"
     ]
    }
   ],
   "source": [
    "# 获取内容 .string\n",
    "infos=soup.select('a .recruit-text')[:3]\n",
    "for info in infos:\n",
    "    print(info.string,'\\n')"
   ]
  },
  {
   "cell_type": "code",
   "execution_count": 128,
   "metadata": {},
   "outputs": [
    {
     "name": "stdout",
     "output_type": "stream",
     "text": [
      "负责ToB SaaS业务的系统架构设计、Web代码及后台服务程序研发； \n",
      "负责运营支持系统的建设和研发工作，确保相关系统稳定可靠运行； \n",
      "参与系统的需求分析、评审、运营及业务运维。 \n",
      "\n",
      "负责看点快报Android平台软件设计与开发工作； \n",
      "负责产品相关技术攻坚及性能优化 \n",
      "\n",
      "1. 负责腾讯云存储产品中心前端工作，包括COS、CI、CHDFS、CSG等产品控制台开发和产品特性\n",
      "2. 负责存储内部运营运维一体化的平台架构设计和开发（运营分析、运维管控、监控告警）\n",
      "3. 负责前端架构建设和公共组件开发，以及新技术的落地实践 \n",
      "\n"
     ]
    }
   ],
   "source": [
    "# .text\n",
    "infos=soup.select('a .recruit-text')[:3]\n",
    "for info in infos:\n",
    "    print(info.text,'\\n')"
   ]
  },
  {
   "cell_type": "code",
   "execution_count": null,
   "metadata": {},
   "outputs": [],
   "source": []
  }
 ],
 "metadata": {
  "kernelspec": {
   "display_name": "Python 3",
   "language": "python",
   "name": "python3"
  },
  "language_info": {
   "codemirror_mode": {
    "name": "ipython",
    "version": 3
   },
   "file_extension": ".py",
   "mimetype": "text/x-python",
   "name": "python",
   "nbconvert_exporter": "python",
   "pygments_lexer": "ipython3",
   "version": "3.7.3"
  },
  "toc": {
   "base_numbering": 1,
   "nav_menu": {},
   "number_sections": true,
   "sideBar": true,
   "skip_h1_title": false,
   "title_cell": "Table of Contents",
   "title_sidebar": "Contents",
   "toc_cell": false,
   "toc_position": {
    "height": "calc(100% - 180px)",
    "left": "10px",
    "top": "150px",
    "width": "349.091px"
   },
   "toc_section_display": true,
   "toc_window_display": true
  }
 },
 "nbformat": 4,
 "nbformat_minor": 2
}
