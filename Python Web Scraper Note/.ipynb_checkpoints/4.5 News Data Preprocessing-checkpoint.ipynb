{
 "cells": [
  {
   "cell_type": "markdown",
   "metadata": {},
   "source": [
    "## 抓取新浪微博新闻列表"
   ]
  },
  {
   "cell_type": "code",
   "execution_count": 1,
   "metadata": {},
   "outputs": [],
   "source": [
    "import requests\n",
    "from bs4 import BeautifulSoup\n",
    "import re\n",
    "\n",
    "res = requests.get('http://news.sina.com.cn/china/')\n",
    "res.encoding = 'utf-8'\n",
    "#res.text"
   ]
  },
  {
   "cell_type": "code",
   "execution_count": 2,
   "metadata": {},
   "outputs": [],
   "source": [
    "soup = BeautifulSoup(res.text, 'html.parser')\n",
    "\n",
    "newsary = []\n",
    "for link in soup.select('.news-item'):\n",
    "    if len(link.select('h2 a')) > 0:\n",
    "        newsary.append(getArticle(link.select('h2 a')[0]['href']))"
   ]
  },
  {
   "cell_type": "markdown",
   "metadata": {},
   "source": [
    "## 建立文章抓取函数"
   ]
  },
  {
   "cell_type": "code",
   "execution_count": 3,
   "metadata": {},
   "outputs": [],
   "source": [
    "def getArticle(url):\n",
    "    res = requests.get(url)\n",
    "    res.encoding = 'utf-8'\n",
    "    \n",
    "    soup = BeautifulSoup(res.text, 'html.parser')\n",
    "    dic = {}\n",
    "    \n",
    "    dic['title'] = soup.select('#artibodyTitle')[0].text\n",
    "    dic['content'] = ' '.join(soup.select('#artibody')[0].text.split())\n",
    "    dic['source'] = soup.select('#navtimeSource')[0].text\n",
    "    dic['keyword'] = soup.select('.article-keywords')[0].text\n",
    "    return dic\n",
    "\n",
    "#getArticle('http://news.sina.com.cn/c/sd/2016-11-29/doc-ifxyawxa3005371.shtml')"
   ]
  },
  {
   "cell_type": "markdown",
   "metadata": {},
   "source": [
    "## 建立DataFrame"
   ]
  },
  {
   "cell_type": "code",
   "execution_count": 4,
   "metadata": {},
   "outputs": [
    {
     "data": {
      "text/html": [
       "<div>\n",
       "<style scoped>\n",
       "    .dataframe tbody tr th:only-of-type {\n",
       "        vertical-align: middle;\n",
       "    }\n",
       "\n",
       "    .dataframe tbody tr th {\n",
       "        vertical-align: top;\n",
       "    }\n",
       "\n",
       "    .dataframe thead th {\n",
       "        text-align: right;\n",
       "    }\n",
       "</style>\n",
       "<table border=\"1\" class=\"dataframe\">\n",
       "  <thead>\n",
       "    <tr style=\"text-align: right;\">\n",
       "      <th></th>\n",
       "    </tr>\n",
       "  </thead>\n",
       "  <tbody>\n",
       "  </tbody>\n",
       "</table>\n",
       "</div>"
      ],
      "text/plain": [
       "Empty DataFrame\n",
       "Columns: []\n",
       "Index: []"
      ]
     },
     "execution_count": 4,
     "metadata": {},
     "output_type": "execute_result"
    }
   ],
   "source": [
    "import pandas\n",
    "df = pandas.DataFrame(newsary)\n",
    "df.head(10)"
   ]
  },
  {
   "cell_type": "markdown",
   "metadata": {},
   "source": [
    "## 整理文章关键词"
   ]
  },
  {
   "cell_type": "code",
   "execution_count": 173,
   "metadata": {},
   "outputs": [
    {
     "data": {
      "text/plain": [
       "0         \\n文章关键词：\\n兰州 文明城市\\n\n",
       "1     \\n文章关键词：\\n石泰峰 人事任免 宁夏\\n\n",
       "2    \\n文章关键词：\\n外交部 蓝皮书 中日关系\\n\n",
       "Name: keyword, dtype: object"
      ]
     },
     "execution_count": 173,
     "metadata": {},
     "output_type": "execute_result"
    }
   ],
   "source": [
    "df['keyword'].head(3)"
   ]
  },
  {
   "cell_type": "code",
   "execution_count": 178,
   "metadata": {},
   "outputs": [],
   "source": [
    "#df['keyword'].map(lambda e: e.split('：')[1].split())"
   ]
  },
  {
   "cell_type": "code",
   "execution_count": 179,
   "metadata": {
    "collapsed": true
   },
   "outputs": [],
   "source": [
    "df['keyword'] = df['keyword'].map(lambda e: e.split('：')[1].split())"
   ]
  },
  {
   "cell_type": "code",
   "execution_count": 180,
   "metadata": {},
   "outputs": [
    {
     "data": {
      "text/html": [
       "<div>\n",
       "<table border=\"1\" class=\"dataframe\">\n",
       "  <thead>\n",
       "    <tr style=\"text-align: right;\">\n",
       "      <th></th>\n",
       "      <th>content</th>\n",
       "      <th>keyword</th>\n",
       "      <th>source</th>\n",
       "      <th>title</th>\n",
       "    </tr>\n",
       "  </thead>\n",
       "  <tbody>\n",
       "    <tr>\n",
       "      <th>0</th>\n",
       "      <td>原标题：兰州建“文明城市”：考核合格单位职工增发一月工资 资料图。 为了确保兰州市创建全国文...</td>\n",
       "      <td>[兰州, 文明城市]</td>\n",
       "      <td>2017年04月26日18:33\\t\\t\\n环球网\\n</td>\n",
       "      <td>兰州建文明城市:考核合格单位职工增发1月工资</td>\n",
       "    </tr>\n",
       "    <tr>\n",
       "      <th>1</th>\n",
       "      <td>原标题：宁夏自治区党委主要负责同志职务调整 新华社北京4月26日电日前，中共中央决定： 石泰...</td>\n",
       "      <td>[石泰峰, 人事任免, 宁夏]</td>\n",
       "      <td>2017年04月26日17:18\\t\\t\\n新华社\\n</td>\n",
       "      <td>石泰峰任宁夏党委书记 李建华另有任用</td>\n",
       "    </tr>\n",
       "    <tr>\n",
       "      <th>2</th>\n",
       "      <td>原标题：中国外交部：敦促日方不给中日关系造成新干扰 据报道，日本外务省25日向内阁会议提交2...</td>\n",
       "      <td>[外交部, 蓝皮书, 中日关系]</td>\n",
       "      <td>2017年04月26日17:16\\t\\t\\n央视新闻\\n</td>\n",
       "      <td>外交部回应日本外交蓝皮书有关涉华内容</td>\n",
       "    </tr>\n",
       "  </tbody>\n",
       "</table>\n",
       "</div>"
      ],
      "text/plain": [
       "                                             content           keyword  \\\n",
       "0  原标题：兰州建“文明城市”：考核合格单位职工增发一月工资 资料图。 为了确保兰州市创建全国文...        [兰州, 文明城市]   \n",
       "1  原标题：宁夏自治区党委主要负责同志职务调整 新华社北京4月26日电日前，中共中央决定： 石泰...   [石泰峰, 人事任免, 宁夏]   \n",
       "2  原标题：中国外交部：敦促日方不给中日关系造成新干扰 据报道，日本外务省25日向内阁会议提交2...  [外交部, 蓝皮书, 中日关系]   \n",
       "\n",
       "                         source                   title  \n",
       "0   2017年04月26日18:33\\t\\t\\n环球网\\n  兰州建文明城市:考核合格单位职工增发1月工资  \n",
       "1   2017年04月26日17:18\\t\\t\\n新华社\\n      石泰峰任宁夏党委书记 李建华另有任用  \n",
       "2  2017年04月26日17:16\\t\\t\\n央视新闻\\n      外交部回应日本外交蓝皮书有关涉华内容  "
      ]
     },
     "execution_count": 180,
     "metadata": {},
     "output_type": "execute_result"
    }
   ],
   "source": [
    "df.head(3)"
   ]
  },
  {
   "cell_type": "markdown",
   "metadata": {},
   "source": [
    "## 使用正规表达法抽取时间与源数据"
   ]
  },
  {
   "cell_type": "code",
   "execution_count": 181,
   "metadata": {},
   "outputs": [
    {
     "data": {
      "text/plain": [
       "0          2017年04月26日18:33\\t\\t\\n环球网\\n\n",
       "1          2017年04月26日17:18\\t\\t\\n新华社\\n\n",
       "2         2017年04月26日17:16\\t\\t\\n央视新闻\\n\n",
       "3         2017年04月26日17:10\\t\\t\\n央视新闻\\n\n",
       "4    2017年04月26日16:56\\t\\t\\n中央纪委监察部网站\\n\n",
       "Name: source, dtype: object"
      ]
     },
     "execution_count": 181,
     "metadata": {},
     "output_type": "execute_result"
    }
   ],
   "source": [
    "df['source'].head()"
   ]
  },
  {
   "cell_type": "code",
   "execution_count": 183,
   "metadata": {},
   "outputs": [
    {
     "data": {
      "text/plain": [
       "0          [2017年04月26日18:33, 环球网]\n",
       "1          [2017年04月26日17:18, 新华社]\n",
       "2         [2017年04月26日17:16, 央视新闻]\n",
       "3         [2017年04月26日17:10, 央视新闻]\n",
       "4    [2017年04月26日16:56, 中央纪委监察部网站]\n",
       "Name: source, dtype: object"
      ]
     },
     "execution_count": 183,
     "metadata": {},
     "output_type": "execute_result"
    }
   ],
   "source": [
    "df['source'].map(lambda e: e.split()).head()"
   ]
  },
  {
   "cell_type": "code",
   "execution_count": 185,
   "metadata": {},
   "outputs": [],
   "source": [
    "#df['source'].str.extract('(\\d+年\\d+月\\d+日\\d+:\\d+)\\t\\t\\n(\\w+)\\n')"
   ]
  },
  {
   "cell_type": "code",
   "execution_count": 186,
   "metadata": {},
   "outputs": [],
   "source": [
    "df[['datetime', 'from']] = df['source'].str.extract('(\\d+年\\d+月\\d+日\\d+:\\d+)\\t\\t\\n(\\w+)\\n', expand =False)"
   ]
  },
  {
   "cell_type": "code",
   "execution_count": 187,
   "metadata": {},
   "outputs": [
    {
     "data": {
      "text/html": [
       "<div>\n",
       "<table border=\"1\" class=\"dataframe\">\n",
       "  <thead>\n",
       "    <tr style=\"text-align: right;\">\n",
       "      <th></th>\n",
       "      <th>content</th>\n",
       "      <th>keyword</th>\n",
       "      <th>source</th>\n",
       "      <th>title</th>\n",
       "      <th>datetime</th>\n",
       "      <th>from</th>\n",
       "    </tr>\n",
       "  </thead>\n",
       "  <tbody>\n",
       "    <tr>\n",
       "      <th>0</th>\n",
       "      <td>原标题：兰州建“文明城市”：考核合格单位职工增发一月工资 资料图。 为了确保兰州市创建全国文...</td>\n",
       "      <td>[兰州, 文明城市]</td>\n",
       "      <td>2017年04月26日18:33\\t\\t\\n环球网\\n</td>\n",
       "      <td>兰州建文明城市:考核合格单位职工增发1月工资</td>\n",
       "      <td>2017年04月26日18:33</td>\n",
       "      <td>环球网</td>\n",
       "    </tr>\n",
       "    <tr>\n",
       "      <th>1</th>\n",
       "      <td>原标题：宁夏自治区党委主要负责同志职务调整 新华社北京4月26日电日前，中共中央决定： 石泰...</td>\n",
       "      <td>[石泰峰, 人事任免, 宁夏]</td>\n",
       "      <td>2017年04月26日17:18\\t\\t\\n新华社\\n</td>\n",
       "      <td>石泰峰任宁夏党委书记 李建华另有任用</td>\n",
       "      <td>2017年04月26日17:18</td>\n",
       "      <td>新华社</td>\n",
       "    </tr>\n",
       "    <tr>\n",
       "      <th>2</th>\n",
       "      <td>原标题：中国外交部：敦促日方不给中日关系造成新干扰 据报道，日本外务省25日向内阁会议提交2...</td>\n",
       "      <td>[外交部, 蓝皮书, 中日关系]</td>\n",
       "      <td>2017年04月26日17:16\\t\\t\\n央视新闻\\n</td>\n",
       "      <td>外交部回应日本外交蓝皮书有关涉华内容</td>\n",
       "      <td>2017年04月26日17:16</td>\n",
       "      <td>央视新闻</td>\n",
       "    </tr>\n",
       "  </tbody>\n",
       "</table>\n",
       "</div>"
      ],
      "text/plain": [
       "                                             content           keyword  \\\n",
       "0  原标题：兰州建“文明城市”：考核合格单位职工增发一月工资 资料图。 为了确保兰州市创建全国文...        [兰州, 文明城市]   \n",
       "1  原标题：宁夏自治区党委主要负责同志职务调整 新华社北京4月26日电日前，中共中央决定： 石泰...   [石泰峰, 人事任免, 宁夏]   \n",
       "2  原标题：中国外交部：敦促日方不给中日关系造成新干扰 据报道，日本外务省25日向内阁会议提交2...  [外交部, 蓝皮书, 中日关系]   \n",
       "\n",
       "                         source                   title          datetime  \\\n",
       "0   2017年04月26日18:33\\t\\t\\n环球网\\n  兰州建文明城市:考核合格单位职工增发1月工资  2017年04月26日18:33   \n",
       "1   2017年04月26日17:18\\t\\t\\n新华社\\n      石泰峰任宁夏党委书记 李建华另有任用  2017年04月26日17:18   \n",
       "2  2017年04月26日17:16\\t\\t\\n央视新闻\\n      外交部回应日本外交蓝皮书有关涉华内容  2017年04月26日17:16   \n",
       "\n",
       "   from  \n",
       "0   环球网  \n",
       "1   新华社  \n",
       "2  央视新闻  "
      ]
     },
     "execution_count": 187,
     "metadata": {},
     "output_type": "execute_result"
    }
   ],
   "source": [
    "df.head(3)"
   ]
  },
  {
   "cell_type": "code",
   "execution_count": 188,
   "metadata": {},
   "outputs": [
    {
     "name": "stdout",
     "output_type": "stream",
     "text": [
      "<class 'pandas.core.frame.DataFrame'>\n",
      "RangeIndex: 92 entries, 0 to 91\n",
      "Data columns (total 6 columns):\n",
      "content     92 non-null object\n",
      "keyword     92 non-null object\n",
      "source      92 non-null object\n",
      "title       92 non-null object\n",
      "datetime    92 non-null object\n",
      "from        92 non-null object\n",
      "dtypes: object(6)\n",
      "memory usage: 4.4+ KB\n"
     ]
    }
   ],
   "source": [
    "df.info()"
   ]
  },
  {
   "cell_type": "markdown",
   "metadata": {},
   "source": [
    "## 转换时间格式"
   ]
  },
  {
   "cell_type": "code",
   "execution_count": 189,
   "metadata": {},
   "outputs": [],
   "source": [
    "df['datetime'] = pandas.to_datetime(df['datetime'], format = '%Y年%m月%d日%H:%M')"
   ]
  },
  {
   "cell_type": "code",
   "execution_count": 195,
   "metadata": {},
   "outputs": [
    {
     "data": {
      "text/plain": [
       "0   2017-04-26 18:33:00\n",
       "1   2017-04-26 17:18:00\n",
       "2   2017-04-26 17:16:00\n",
       "3   2017-04-26 17:10:00\n",
       "4   2017-04-26 16:56:00\n",
       "Name: datetime, dtype: datetime64[ns]"
      ]
     },
     "execution_count": 195,
     "metadata": {},
     "output_type": "execute_result"
    }
   ],
   "source": [
    "df['datetime'].head()"
   ]
  },
  {
   "cell_type": "code",
   "execution_count": 196,
   "metadata": {},
   "outputs": [
    {
     "data": {
      "text/html": [
       "<div>\n",
       "<table border=\"1\" class=\"dataframe\">\n",
       "  <thead>\n",
       "    <tr style=\"text-align: right;\">\n",
       "      <th></th>\n",
       "      <th>content</th>\n",
       "      <th>keyword</th>\n",
       "      <th>source</th>\n",
       "      <th>title</th>\n",
       "      <th>datetime</th>\n",
       "      <th>from</th>\n",
       "    </tr>\n",
       "  </thead>\n",
       "  <tbody>\n",
       "    <tr>\n",
       "      <th>0</th>\n",
       "      <td>原标题：兰州建“文明城市”：考核合格单位职工增发一月工资 资料图。 为了确保兰州市创建全国文...</td>\n",
       "      <td>[兰州, 文明城市]</td>\n",
       "      <td>2017年04月26日18:33\\t\\t\\n环球网\\n</td>\n",
       "      <td>兰州建文明城市:考核合格单位职工增发1月工资</td>\n",
       "      <td>2017-04-26 18:33:00</td>\n",
       "      <td>环球网</td>\n",
       "    </tr>\n",
       "    <tr>\n",
       "      <th>1</th>\n",
       "      <td>原标题：宁夏自治区党委主要负责同志职务调整 新华社北京4月26日电日前，中共中央决定： 石泰...</td>\n",
       "      <td>[石泰峰, 人事任免, 宁夏]</td>\n",
       "      <td>2017年04月26日17:18\\t\\t\\n新华社\\n</td>\n",
       "      <td>石泰峰任宁夏党委书记 李建华另有任用</td>\n",
       "      <td>2017-04-26 17:18:00</td>\n",
       "      <td>新华社</td>\n",
       "    </tr>\n",
       "    <tr>\n",
       "      <th>2</th>\n",
       "      <td>原标题：中国外交部：敦促日方不给中日关系造成新干扰 据报道，日本外务省25日向内阁会议提交2...</td>\n",
       "      <td>[外交部, 蓝皮书, 中日关系]</td>\n",
       "      <td>2017年04月26日17:16\\t\\t\\n央视新闻\\n</td>\n",
       "      <td>外交部回应日本外交蓝皮书有关涉华内容</td>\n",
       "      <td>2017-04-26 17:16:00</td>\n",
       "      <td>央视新闻</td>\n",
       "    </tr>\n",
       "  </tbody>\n",
       "</table>\n",
       "</div>"
      ],
      "text/plain": [
       "                                             content           keyword  \\\n",
       "0  原标题：兰州建“文明城市”：考核合格单位职工增发一月工资 资料图。 为了确保兰州市创建全国文...        [兰州, 文明城市]   \n",
       "1  原标题：宁夏自治区党委主要负责同志职务调整 新华社北京4月26日电日前，中共中央决定： 石泰...   [石泰峰, 人事任免, 宁夏]   \n",
       "2  原标题：中国外交部：敦促日方不给中日关系造成新干扰 据报道，日本外务省25日向内阁会议提交2...  [外交部, 蓝皮书, 中日关系]   \n",
       "\n",
       "                         source                   title            datetime  \\\n",
       "0   2017年04月26日18:33\\t\\t\\n环球网\\n  兰州建文明城市:考核合格单位职工增发1月工资 2017-04-26 18:33:00   \n",
       "1   2017年04月26日17:18\\t\\t\\n新华社\\n      石泰峰任宁夏党委书记 李建华另有任用 2017-04-26 17:18:00   \n",
       "2  2017年04月26日17:16\\t\\t\\n央视新闻\\n      外交部回应日本外交蓝皮书有关涉华内容 2017-04-26 17:16:00   \n",
       "\n",
       "   from  \n",
       "0   环球网  \n",
       "1   新华社  \n",
       "2  央视新闻  "
      ]
     },
     "execution_count": 196,
     "metadata": {},
     "output_type": "execute_result"
    }
   ],
   "source": [
    "df.head(3)"
   ]
  },
  {
   "cell_type": "markdown",
   "metadata": {},
   "source": [
    "## 刪除Source"
   ]
  },
  {
   "cell_type": "code",
   "execution_count": 197,
   "metadata": {
    "collapsed": true
   },
   "outputs": [],
   "source": [
    "del df['source']"
   ]
  },
  {
   "cell_type": "code",
   "execution_count": 198,
   "metadata": {},
   "outputs": [
    {
     "data": {
      "text/html": [
       "<div>\n",
       "<table border=\"1\" class=\"dataframe\">\n",
       "  <thead>\n",
       "    <tr style=\"text-align: right;\">\n",
       "      <th></th>\n",
       "      <th>content</th>\n",
       "      <th>keyword</th>\n",
       "      <th>title</th>\n",
       "      <th>datetime</th>\n",
       "      <th>from</th>\n",
       "    </tr>\n",
       "  </thead>\n",
       "  <tbody>\n",
       "    <tr>\n",
       "      <th>0</th>\n",
       "      <td>原标题：兰州建“文明城市”：考核合格单位职工增发一月工资 资料图。 为了确保兰州市创建全国文...</td>\n",
       "      <td>[兰州, 文明城市]</td>\n",
       "      <td>兰州建文明城市:考核合格单位职工增发1月工资</td>\n",
       "      <td>2017-04-26 18:33:00</td>\n",
       "      <td>环球网</td>\n",
       "    </tr>\n",
       "    <tr>\n",
       "      <th>1</th>\n",
       "      <td>原标题：宁夏自治区党委主要负责同志职务调整 新华社北京4月26日电日前，中共中央决定： 石泰...</td>\n",
       "      <td>[石泰峰, 人事任免, 宁夏]</td>\n",
       "      <td>石泰峰任宁夏党委书记 李建华另有任用</td>\n",
       "      <td>2017-04-26 17:18:00</td>\n",
       "      <td>新华社</td>\n",
       "    </tr>\n",
       "    <tr>\n",
       "      <th>2</th>\n",
       "      <td>原标题：中国外交部：敦促日方不给中日关系造成新干扰 据报道，日本外务省25日向内阁会议提交2...</td>\n",
       "      <td>[外交部, 蓝皮书, 中日关系]</td>\n",
       "      <td>外交部回应日本外交蓝皮书有关涉华内容</td>\n",
       "      <td>2017-04-26 17:16:00</td>\n",
       "      <td>央视新闻</td>\n",
       "    </tr>\n",
       "  </tbody>\n",
       "</table>\n",
       "</div>"
      ],
      "text/plain": [
       "                                             content           keyword  \\\n",
       "0  原标题：兰州建“文明城市”：考核合格单位职工增发一月工资 资料图。 为了确保兰州市创建全国文...        [兰州, 文明城市]   \n",
       "1  原标题：宁夏自治区党委主要负责同志职务调整 新华社北京4月26日电日前，中共中央决定： 石泰...   [石泰峰, 人事任免, 宁夏]   \n",
       "2  原标题：中国外交部：敦促日方不给中日关系造成新干扰 据报道，日本外务省25日向内阁会议提交2...  [外交部, 蓝皮书, 中日关系]   \n",
       "\n",
       "                    title            datetime  from  \n",
       "0  兰州建文明城市:考核合格单位职工增发1月工资 2017-04-26 18:33:00   环球网  \n",
       "1      石泰峰任宁夏党委书记 李建华另有任用 2017-04-26 17:18:00   新华社  \n",
       "2      外交部回应日本外交蓝皮书有关涉华内容 2017-04-26 17:16:00  央视新闻  "
      ]
     },
     "execution_count": 198,
     "metadata": {},
     "output_type": "execute_result"
    }
   ],
   "source": [
    "df.head(3)"
   ]
  },
  {
   "cell_type": "code",
   "execution_count": 200,
   "metadata": {},
   "outputs": [],
   "source": [
    "df = df[['from','title', 'content', 'keyword', 'datetime']]"
   ]
  },
  {
   "cell_type": "markdown",
   "metadata": {},
   "source": [
    "## 将整理好的数据储存回Excel"
   ]
  },
  {
   "cell_type": "code",
   "execution_count": 202,
   "metadata": {},
   "outputs": [],
   "source": [
    "df.to_excel('news.xlsx')"
   ]
  }
 ],
 "metadata": {
  "kernelspec": {
   "display_name": "Python 3",
   "language": "python",
   "name": "python3"
  },
  "language_info": {
   "codemirror_mode": {
    "name": "ipython",
    "version": 3
   },
   "file_extension": ".py",
   "mimetype": "text/x-python",
   "name": "python",
   "nbconvert_exporter": "python",
   "pygments_lexer": "ipython3",
   "version": "3.6.5"
  }
 },
 "nbformat": 4,
 "nbformat_minor": 2
}
