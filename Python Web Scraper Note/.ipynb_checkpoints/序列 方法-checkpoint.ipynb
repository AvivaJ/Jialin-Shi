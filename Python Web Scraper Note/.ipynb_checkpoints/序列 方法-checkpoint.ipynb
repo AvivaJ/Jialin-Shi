{
 "cells": [
  {
   "cell_type": "markdown",
   "metadata": {},
   "source": [
    "#### list(  )方法把一个且仅一个可迭代对象转换为列表 list[  ]"
   ]
  },
  {
   "cell_type": "code",
   "execution_count": 13,
   "metadata": {},
   "outputs": [
    {
     "data": {
      "text/plain": [
       "['A', 'v', 'i', 'v', 'a']"
      ]
     },
     "execution_count": 13,
     "metadata": {},
     "output_type": "execute_result"
    }
   ],
   "source": [
    "list('Aviva') #将字符串的每一个字符迭代存放到列表中"
   ]
  },
  {
   "cell_type": "code",
   "execution_count": 18,
   "metadata": {},
   "outputs": [
    {
     "data": {
      "text/plain": [
       "[1, 2, 3, 4, 5, 6]"
      ]
     },
     "execution_count": 18,
     "metadata": {},
     "output_type": "execute_result"
    }
   ],
   "source": [
    "list({1,2,3,4,5,6})"
   ]
  },
  {
   "cell_type": "markdown",
   "metadata": {},
   "source": [
    "#### tuple(  )方法把一个且仅一个可迭代对象转换为列表 tuple(  )"
   ]
  },
  {
   "cell_type": "markdown",
   "metadata": {},
   "source": [
    "#### sorted( )生成新排序的一个列表"
   ]
  },
  {
   "cell_type": "code",
   "execution_count": 22,
   "metadata": {},
   "outputs": [
    {
     "name": "stdout",
     "output_type": "stream",
     "text": [
      "[1, 2, 4, 5]\n",
      "[2, 4, 1, 5]\n"
     ]
    }
   ],
   "source": [
    "list1=[2,4,1,5]\n",
    "print (sorted(list1))\n",
    "print(list1)"
   ]
  },
  {
   "cell_type": "markdown",
   "metadata": {},
   "source": [
    "#### reversed( )生成新倒序的对象"
   ]
  },
  {
   "cell_type": "code",
   "execution_count": 27,
   "metadata": {},
   "outputs": [
    {
     "name": "stdout",
     "output_type": "stream",
     "text": [
      "5,1,4,2,"
     ]
    }
   ],
   "source": [
    "list1=[2,4,1,5]\n",
    "reversed(list1)\n",
    "for each in reversed(list1):\n",
    "    print (each,end = ',')"
   ]
  },
  {
   "cell_type": "markdown",
   "metadata": {},
   "source": [
    "#### enumerate( )方法生成索引号和对应元素"
   ]
  },
  {
   "cell_type": "code",
   "execution_count": 28,
   "metadata": {},
   "outputs": [
    {
     "name": "stdout",
     "output_type": "stream",
     "text": [
      "(0, 'A')\n",
      "(1, 'v')\n",
      "(2, 'i')\n",
      "(3, 'v')\n",
      "(4, 'a')\n"
     ]
    }
   ],
   "source": [
    "str1='Aviva'\n",
    "for each in enumerate(str1):\n",
    "    print(each)"
   ]
  },
  {
   "cell_type": "markdown",
   "metadata": {},
   "source": [
    "#### zip(可迭代,可迭代)方法用于返回各个可迭代参数共同组成的元祖"
   ]
  },
  {
   "cell_type": "code",
   "execution_count": 30,
   "metadata": {},
   "outputs": [
    {
     "name": "stdout",
     "output_type": "stream",
     "text": [
      "(1, 'A', 'X')\n",
      "(3, 'v', 't')\n",
      "(5, 'i', 'o')\n",
      "(7, 'v', 'n')\n",
      "(9, 'a', 'y')\n"
     ]
    }
   ],
   "source": [
    "list2=[1,3,5,7,9]\n",
    "str2='Aviva'\n",
    "tuple = 'Xtony'\n",
    "zip(list2,str2,tuple)\n",
    "for each in zip(list2,str2,tuple):\n",
    "    print (each)"
   ]
  },
  {
   "cell_type": "code",
   "execution_count": null,
   "metadata": {},
   "outputs": [],
   "source": []
  }
 ],
 "metadata": {
  "kernelspec": {
   "display_name": "Python 3",
   "language": "python",
   "name": "python3"
  },
  "language_info": {
   "codemirror_mode": {
    "name": "ipython",
    "version": 3
   },
   "file_extension": ".py",
   "mimetype": "text/x-python",
   "name": "python",
   "nbconvert_exporter": "python",
   "pygments_lexer": "ipython3",
   "version": "3.6.5"
  }
 },
 "nbformat": 4,
 "nbformat_minor": 2
}
