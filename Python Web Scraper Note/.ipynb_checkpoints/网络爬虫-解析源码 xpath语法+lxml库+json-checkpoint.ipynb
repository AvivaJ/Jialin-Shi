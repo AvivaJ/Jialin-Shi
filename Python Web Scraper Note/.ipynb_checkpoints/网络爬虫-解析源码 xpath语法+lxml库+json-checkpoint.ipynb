{
 "cells": [
  {
   "cell_type": "markdown",
   "metadata": {},
   "source": [
    "# XPath语法"
   ]
  },
  {
   "cell_type": "raw",
   "metadata": {},
   "source": [
    "1.选取节点\n",
    "\n",
    "    nodename： 选取此节点的所有子节点。         示例：bookstore   【选取bookstore下所有的子节点】\n",
    "    / ：如果是在最前面，代表从根节点选取。        示例：/bookstore  【选取根元素下所有的bookstore节点，直接子元素】\n",
    "    //：从全局节点中选择节点，随便在哪个位置。     示例：//book      【从全局节点中找到所有的book节点，所有子孙元素】\n",
    "    @：选取某个节点的属性。                     示例：//book[@price] 【选择所有有price属性的book】\n",
    "\n",
    "\n",
    "2.谓语（用来查找某个特定的节点）\n",
    "\n",
    "    示例：\n",
    "    /bookstore/book[1]           【选取bookstore下的第一个book元素】【xpath不是从0开始的】\n",
    "    /bookstore/book[last()]      【选取bookstore下的最后一个book元素】\n",
    "    bookstore/book[position()<3] 【选取bookstore下前面两个子元素】\n",
    "    //book[@price]               【选取拥有price属性的book元素】\n",
    "    //book[@price=10]            【选取所有属性price等于10的book元素】\n",
    "    //div[contains(@class,\"fl\")] 【当拥有多个属性时，模糊匹配，寻找拥有fl这个class属性的div】\n",
    "    ./td/text()                  【选取所有文本】\n",
    "\n",
    "3.通配符\n",
    "    \n",
    "    *：匹配任意节点。                         示例：/bookstore/* 【选取bookstore下的所有子元素】 \n",
    "    @*：匹配节点中的任何属性。                  示例：//book[@*]   【选取所有带有属性的book元素】\n",
    "\n"
   ]
  },
  {
   "cell_type": "markdown",
   "metadata": {},
   "source": [
    "# lxml.etree 库"
   ]
  },
  {
   "cell_type": "markdown",
   "metadata": {},
   "source": [
    "## 解析得到可分析的html代码"
   ]
  },
  {
   "cell_type": "markdown",
   "metadata": {},
   "source": [
    "### html 字符串解析"
   ]
  },
  {
   "cell_type": "code",
   "execution_count": 11,
   "metadata": {},
   "outputs": [],
   "source": [
    "from lxml import etree\n",
    "text='''\n",
    "<html>\n",
    "<body>\n",
    "\n",
    "<h2>HTML Links</h2>\n",
    "    <p>HTML links are defined with the a tag:</p>\n",
    "\n",
    "    <a href=\"https://www.w3schools.com\">This is a link</a>\n",
    "\n",
    "<h2>HTML Images</h2>\n",
    "    <p>HTML images are defined with the img tag:</p>\n",
    "\n",
    "    <img src=\"w3schools.jpg\" alt=\"W3Schools.com\" width=\"104\" height=\"142\">\n",
    "\n",
    "<h2>HTML Buttons</h2>\n",
    "    <p>HTML buttons are defined with the button tag:</p>\n",
    "\n",
    "    <button>点我</button>\n",
    "\n",
    "<h2>An Unordered HTML List</h2>\n",
    "\n",
    "    <ul>\n",
    "      <li>Coffee</li>\n",
    "      <li>Tea</li>\n",
    "      <li>Milk</li>\n",
    "    </ul>  \n",
    "\n",
    "<h2>An Ordered HTML List</h2>\n",
    "\n",
    "    <ol>\n",
    "      <li>Coffee</li>\n",
    "      <li>Tea</li>\n",
    "      <li>Milk</li>\n",
    "    </ol> \n",
    "\n",
    "<h2 title=\"I'm a header\">The title Attribute</h2>\n",
    "\n",
    "    <p title=\"I'm a tooltip\">Mouse over this paragraph, to display the title attribute as a tooltip.</p>\n",
    "\n",
    "</body>\n",
    "</html>\n",
    "'''\n",
    "with open ('sample.html','w',encoding='utf-8') as fp:\n",
    "    fp.write(text)"
   ]
  },
  {
   "cell_type": "code",
   "execution_count": 20,
   "metadata": {},
   "outputs": [
    {
     "data": {
      "text/plain": [
       "'<html>\\n<body>\\n\\n<h2>HTML Links</h2>\\n    <p>HTML links are defined with the a tag:</p>\\n\\n    <a href=\"https://www.w3schools.com\">This is a link</a>\\n\\n<h2>HTML Images</h2>\\n    <p>HTML images are defined with the img tag:</p>\\n\\n    <img src=\"w3schools.jpg\" alt=\"W3Schools.com\" width=\"104\" height=\"142\"/>\\n\\n<h2>HTML Buttons</h2>\\n    <p>HTML buttons are defined with the button tag:</p>\\n\\n    <button>点我</button>\\n\\n<h2>An Unordered HTML List</h2>\\n\\n    <ul>\\n      <li>Coffee</li>\\n      <li>Tea</li>\\n      <li>Milk</li>\\n    </ul>  \\n\\n<h2>An Ordered HTML List</h2>\\n\\n    <ol>\\n      <li>Coffee</li>\\n      <li>Tea</li>\\n      <li>Milk</li>\\n    </ol> \\n\\n<h2 title=\"I\\'m a header\">The title Attribute</h2>\\n\\n    <p title=\"I\\'m a tooltip\">Mouse over this paragraph, to display the title attribute as a tooltip.</p>\\n\\n</body>\\n</html>'"
      ]
     },
     "execution_count": 20,
     "metadata": {},
     "output_type": "execute_result"
    }
   ],
   "source": [
    "# html 字符串解析\n",
    "def parse_text(text):\n",
    "    htmlElement=etree.HTML(text) #这是一个element对象\n",
    "    return etree.tostring(htmlElement,encoding='utf-8').decode('utf-8') #转换成html的代码\n",
    "    \n",
    "parse_text(text)   "
   ]
  },
  {
   "cell_type": "markdown",
   "metadata": {},
   "source": [
    "### 从文件中读取html代码"
   ]
  },
  {
   "cell_type": "code",
   "execution_count": 25,
   "metadata": {},
   "outputs": [
    {
     "data": {
      "text/plain": [
       "'<!DOCTYPE html PUBLIC \"-//W3C//DTD HTML 4.0 Transitional//EN\" \"http://www.w3.org/TR/REC-html40/loose.dtd\">\\n<html>\\n<body>\\n\\n<h2>HTML Links</h2>\\n    <p>HTML links are defined with the a tag:</p>\\n\\n    <a href=\"https://www.w3schools.com\">This is a link</a>\\n\\n<h2>HTML Images</h2>\\n    <p>HTML images are defined with the img tag:</p>\\n\\n    <img src=\"w3schools.jpg\" alt=\"W3Schools.com\" width=\"104\" height=\"142\"/>\\n\\n<h2>HTML Buttons</h2>\\n    <p>HTML buttons are defined with the button tag:</p>\\n\\n    <button>点我</button>\\n\\n<h2>An Unordered HTML List</h2>\\n\\n    <ul>\\n      <li>Coffee</li>\\n      <li>Tea</li>\\n      <li>Milk</li>\\n    </ul>  \\n\\n<h2>An Ordered HTML List</h2>\\n\\n    <ol>\\n      <li>Coffee</li>\\n      <li>Tea</li>\\n      <li>Milk</li>\\n    </ol> \\n\\n<h2 title=\"I\\'m a header\">The title Attribute</h2>\\n\\n    <p title=\"I\\'m a tooltip\">Mouse over this paragraph, to display the title attribute as a tooltip.</p>\\n\\n</body>\\n</html>\\n'"
      ]
     },
     "execution_count": 25,
     "metadata": {},
     "output_type": "execute_result"
    }
   ],
   "source": [
    "from lxml import etree\n",
    "\n",
    "#读取外部文件sample.html\n",
    "def parse_file(file):\n",
    "    parser = etree.HTMLParser(encoding='utf-8')\n",
    "    html=etree.parse(file,parser=parser)       # parse方法默认xml解析器，容错性差,所以需要指定parser的编码方法\n",
    "    return etree.tostring(html,encoding='utf-8',pretty_print=True).decode('utf-8') \n",
    "\n",
    "parse_file('sample.html')"
   ]
  },
  {
   "cell_type": "markdown",
   "metadata": {},
   "source": [
    "## lxml结合xpath语法获取html中的data"
   ]
  },
  {
   "cell_type": "code",
   "execution_count": 91,
   "metadata": {},
   "outputs": [
    {
     "name": "stdout",
     "output_type": "stream",
     "text": [
      "<a data-v-288d7ecc=\"\" class=\"recruit-list-link\"><h4 data-v-288d7ecc=\"\" class=\"recruit-title\">19332-SaaS产品开发工程师(腾讯云全资子公司)</h4> <p data-v-288d7ecc=\"\" class=\"recruit-tips\"><span data-v-288d7ecc=\"\">CSIG</span> |\n",
      "                  <span data-v-288d7ecc=\"\">西安,中国</span> |\n",
      "                  <span data-v-288d7ecc=\"\">技术</span> |\n",
      "                  <span data-v-288d7ecc=\"\">腾讯云</span> |\n",
      "                   <span data-v-288d7ecc=\"\">2020年07月08日</span></p> <p data-v-288d7ecc=\"\" class=\"recruit-text\">负责ToB SaaS业务的系统架构设计、Web代码及后台服务程序研发； \n",
      "负责运营支持系统的建设和研发工作，确保相关系统稳定可靠运行； \n",
      "参与系统的需求分析、评审、运营及业务运维。</p></a> \n"
     ]
    }
   ],
   "source": [
    "from lxml import etree \n",
    "parser=etree.HTMLParser(encoding='utf-8')\n",
    "html = etree.parse('tencent.html',parser=parser)   #选中html源码，右键copy outer html\n",
    "\n",
    "# 1.获取所有的a标签 [//a]\n",
    "alist=html.xpath('//a[@data-v-288d7ecc=\"\"]')       # xpath函数返回的是一个列表，列表里是element对象 #末尾取text()无用\n",
    "for a in alist:                                    # element对象都要用这个方法解码，至少有一个子对象则为element，不然是node\n",
    "    print(etree.tostring(div,encoding='utf-8').decode('utf-8')) \n",
    "    break\n"
   ]
  },
  {
   "cell_type": "code",
   "execution_count": 89,
   "metadata": {},
   "outputs": [
    {
     "name": "stdout",
     "output_type": "stream",
     "text": [
      "19332-SaaS产品开发工程师(腾讯云全资子公司)\n"
     ]
    }
   ],
   "source": [
    "# 2.获取所有h4标签\n",
    "h4list=html.xpath('//h4[@class=\"recruit-title\"]/text()') #从全局用属性定位获取,能用text()是因为h4里面只有一条text元素\n",
    "for h4 in h4list:\n",
    "    print(h4)\n",
    "#     print(etree.tostring(h4,encoding='utf-8').decode('utf-8'))\n",
    "    break\n",
    "    "
   ]
  },
  {
   "cell_type": "markdown",
   "metadata": {},
   "source": [
    "# **示例：爬取腾讯招聘**"
   ]
  },
  {
   "cell_type": "markdown",
   "metadata": {},
   "source": [
    "## 方法一：lxml和xpath解析html爬取数据"
   ]
  },
  {
   "cell_type": "code",
   "execution_count": 146,
   "metadata": {},
   "outputs": [
    {
     "data": {
      "text/plain": [
       "[{'position': '22989-存储Web前端开发',\n",
       "  'location': '深圳,中国',\n",
       "  'category': '技术',\n",
       "  'company': '腾讯云',\n",
       "  'date': '2020年07月08日',\n",
       "  'detail': '1. 负责腾讯云存储产品中心前端工作，包括COS、CI、CHDFS、CSG等产品控制台开发和产品特性2. 负责存储内部运营运维一体化的平台架构设计和开发（运营分析、运维管控、监控告警）3. 负责前端架构建设和公共组件开发，以及新技术的落地实践'},\n",
       " {'position': '22989-数据库云平台高级研发工程师（腾讯云全资子公司）（西安）',\n",
       "  'location': '西安,中国',\n",
       "  'category': '技术',\n",
       "  'company': 'Unknown',\n",
       "  'date': '2020年07月08日',\n",
       "  'detail': '1.负责关系型数据库周边生态产品和工具研发；2.负责腾讯云自研数据库oracle兼容性功能研发； 3.对预研性数据库产品提供方案设计和支持； 4.提升数据库国产化产品演进，推动项目落地；'}]"
      ]
     },
     "execution_count": 146,
     "metadata": {},
     "output_type": "execute_result"
    }
   ],
   "source": [
    "# 3.获取所有职位信息纯文本\n",
    "\n",
    "parser=etree.HTMLParser(encoding='utf-8')\n",
    "html = etree.parse('tencent.html',parser=parser)   #选中html源码，右键copy outer html\n",
    "\n",
    "alist=html.xpath('//a[@data-v-288d7ecc=\"\"]')       #返回带有职位信息的list，带有data-v-288d7ecc=\"\"属性的a标签\n",
    "positions=[]\n",
    "for a in alist:\n",
    "    joblist=a.xpath('.//h4/text()')[0]             #加个‘.’意味着在当前标签下去获取这个标签，而不是全局获取\n",
    "    detail=a.xpath('.//p[@class=\"recruit-text\"][1]/text()')[0]\n",
    "    loc=a.xpath('.//span/text()')[1]               #text()已经是str格式，打印不需要编码etree.tostring()\n",
    "    category=a.xpath('.//span/text()')[2]\n",
    "    \n",
    "    try:                                          #并不是每一个职位都写了公司，所以设置try\n",
    "        company=a.xpath('.//span/text()')[3]\n",
    "        date=a.xpath('.//span/text()')[4]\n",
    "    except:\n",
    "        date=a.xpath('.//span/text()')[3]\n",
    "        \n",
    "    if date==company: \n",
    "        company='Unknown'\n",
    "    \n",
    "    position={\n",
    "        'position':joblist,\n",
    "        'location':loc,\n",
    "        'category':category,\n",
    "        'company':company,\n",
    "        'date':date,\n",
    "        'detail':detail.strip().replace('\\n','') # 去除空格和\\n\n",
    "    }\n",
    "    positions.append(position)                   # 列表格式\n",
    "\n",
    "positions[2:4]\n"
   ]
  },
  {
   "cell_type": "code",
   "execution_count": 145,
   "metadata": {},
   "outputs": [
    {
     "data": {
      "text/html": [
       "<div>\n",
       "<style scoped>\n",
       "    .dataframe tbody tr th:only-of-type {\n",
       "        vertical-align: middle;\n",
       "    }\n",
       "\n",
       "    .dataframe tbody tr th {\n",
       "        vertical-align: top;\n",
       "    }\n",
       "\n",
       "    .dataframe thead th {\n",
       "        text-align: right;\n",
       "    }\n",
       "</style>\n",
       "<table border=\"1\" class=\"dataframe\">\n",
       "  <thead>\n",
       "    <tr style=\"text-align: right;\">\n",
       "      <th></th>\n",
       "      <th>category</th>\n",
       "      <th>company</th>\n",
       "      <th>date</th>\n",
       "      <th>detail</th>\n",
       "      <th>location</th>\n",
       "      <th>position</th>\n",
       "    </tr>\n",
       "  </thead>\n",
       "  <tbody>\n",
       "    <tr>\n",
       "      <th>0</th>\n",
       "      <td>技术</td>\n",
       "      <td>腾讯云</td>\n",
       "      <td>2020年07月08日</td>\n",
       "      <td>负责ToB SaaS业务的系统架构设计、Web代码及后台服务程序研发； 负责运营支持系统的建...</td>\n",
       "      <td>西安,中国</td>\n",
       "      <td>19332-SaaS产品开发工程师(腾讯云全资子公司)</td>\n",
       "    </tr>\n",
       "    <tr>\n",
       "      <th>1</th>\n",
       "      <td>技术</td>\n",
       "      <td>QQ看点</td>\n",
       "      <td>2020年07月08日</td>\n",
       "      <td>负责看点快报Android平台软件设计与开发工作； 负责产品相关技术攻坚及性能优化</td>\n",
       "      <td>深圳,中国</td>\n",
       "      <td>14703-看点快报Android开发工程师</td>\n",
       "    </tr>\n",
       "    <tr>\n",
       "      <th>2</th>\n",
       "      <td>技术</td>\n",
       "      <td>腾讯云</td>\n",
       "      <td>2020年07月08日</td>\n",
       "      <td>1. 负责腾讯云存储产品中心前端工作，包括COS、CI、CHDFS、CSG等产品控制台开发和...</td>\n",
       "      <td>深圳,中国</td>\n",
       "      <td>22989-存储Web前端开发</td>\n",
       "    </tr>\n",
       "  </tbody>\n",
       "</table>\n",
       "</div>"
      ],
      "text/plain": [
       "  category company         date  \\\n",
       "0       技术     腾讯云  2020年07月08日   \n",
       "1       技术    QQ看点  2020年07月08日   \n",
       "2       技术     腾讯云  2020年07月08日   \n",
       "\n",
       "                                              detail location  \\\n",
       "0  负责ToB SaaS业务的系统架构设计、Web代码及后台服务程序研发； 负责运营支持系统的建...    西安,中国   \n",
       "1          负责看点快报Android平台软件设计与开发工作； 负责产品相关技术攻坚及性能优化    深圳,中国   \n",
       "2  1. 负责腾讯云存储产品中心前端工作，包括COS、CI、CHDFS、CSG等产品控制台开发和...    深圳,中国   \n",
       "\n",
       "                      position  \n",
       "0  19332-SaaS产品开发工程师(腾讯云全资子公司)  \n",
       "1       14703-看点快报Android开发工程师  \n",
       "2              22989-存储Web前端开发  "
      ]
     },
     "execution_count": 145,
     "metadata": {},
     "output_type": "execute_result"
    }
   ],
   "source": [
    "#列表直接转化成dataframe\n",
    "pd.DataFrame(positions).head(3)"
   ]
  },
  {
   "cell_type": "markdown",
   "metadata": {},
   "source": [
    "### 列表转换后写入json文件"
   ]
  },
  {
   "cell_type": "code",
   "execution_count": 161,
   "metadata": {},
   "outputs": [
    {
     "data": {
      "text/plain": [
       "[{'position': '22989-存储Web前端开发',\n",
       "  'location': '深圳,中国',\n",
       "  'category': '技术',\n",
       "  'company': '腾讯云',\n",
       "  'date': '2020年07月08日',\n",
       "  'detail': '1. 负责腾讯云存储产品中心前端工作，包括COS、CI、CHDFS、CSG等产品控制台开发和产品特性2. 负责存储内部运营运维一体化的平台架构设计和开发（运营分析、运维管控、监控告警）3. 负责前端架构建设和公共组件开发，以及新技术的落地实践'},\n",
       " {'position': '22989-数据库云平台高级研发工程师（腾讯云全资子公司）（西安）',\n",
       "  'location': '西安,中国',\n",
       "  'category': '技术',\n",
       "  'company': 'Unknown',\n",
       "  'date': '2020年07月08日',\n",
       "  'detail': '1.负责关系型数据库周边生态产品和工具研发；2.负责腾讯云自研数据库oracle兼容性功能研发； 3.对预研性数据库产品提供方案设计和支持； 4.提升数据库国产化产品演进，推动项目落地；'}]"
      ]
     },
     "execution_count": 161,
     "metadata": {},
     "output_type": "execute_result"
    }
   ],
   "source": [
    "with open('tencent方法一.json','w',encoding='utf-8') as fp: # positions列表写入json文件\n",
    "    fp.write(json.dumps(positions)) # write方法必须写入str，json.dumps(处理字符串) 转str\n",
    "\n",
    "with open('tencent方法一.json','r',encoding='utf-8') as fp:\n",
    "    info=fp.read()                  # read出来是个str\n",
    "    data=json.loads(info)           # json.loads(处理字符串) 转成json\n",
    "\n",
    "data[2:4]   "
   ]
  },
  {
   "cell_type": "markdown",
   "metadata": {},
   "source": [
    "## 方法二：requests请求query包（需要认真看network找到正确的文件）"
   ]
  },
  {
   "cell_type": "code",
   "execution_count": 165,
   "metadata": {},
   "outputs": [
    {
     "data": {
      "text/plain": [
       "{'Code': 200,\n",
       " 'Data': {'Count': 2801,\n",
       "  'Posts': [{'Id': 0,\n",
       "    'PostId': '1281100158540455936',\n",
       "    'RecruitPostId': 63780,\n",
       "    'RecruitPostName': '29912-微视增长web前端开发工程师（北京） ',\n",
       "    'CountryName': '中国',\n",
       "    'LocationName': '北京',\n",
       "    'BGName': 'PCG',\n",
       "    'ProductName': '微视',\n",
       "    'CategoryName': '技术',\n",
       "    'Responsibility': '负责微视内容运营管理平台开发、多终端运营开发;',\n",
       "    'LastUpdateTime': '2020年07月09日',\n",
       "    'PostURL': 'http://careers.tencent.com/jobdesc.html?postId=0',\n",
       "    'SourceID': 1,\n",
       "    'IsCollect': False,\n",
       "    'IsValid': True},\n",
       "   {'Id': 0,\n",
       "    'PostId': '1281092101169225728',\n",
       "    'RecruitPostId': 63779,\n",
       "    'RecruitPostName': 'CSIG15-智能平台部--高级数据分析师/数据分析专家（北京）',\n",
       "    'CountryName': '中国',\n",
       "    'LocationName': '北京',\n",
       "    'BGName': 'CSIG',\n",
       "    'ProductName': '',\n",
       "    'CategoryName': '技术',\n",
       "    'Responsibility': '负责产业互联网大数据项目的数据方案架构设计与实施。\\n1、负责产业互联网数据平台产品的方案设计和数据体系建设；\\n2、负责产业互联网大数据项目的数据治理、挖掘与应用；\\n3、负责产业互联网大数据应用标准的研究与制定。',\n",
       "    'LastUpdateTime': '2020年07月09日',\n",
       "    'PostURL': 'http://careers.tencent.com/jobdesc.html?postId=0',\n",
       "    'SourceID': 1,\n",
       "    'IsCollect': False,\n",
       "    'IsValid': True},\n",
       "   {'Id': 0,\n",
       "    'PostId': '1278158473892208640',\n",
       "    'RecruitPostId': 63456,\n",
       "    'RecruitPostName': 'WXG07-微信广研-微盘前端开发工程师',\n",
       "    'CountryName': '中国',\n",
       "    'LocationName': '广州',\n",
       "    'BGName': 'WXG',\n",
       "    'ProductName': '',\n",
       "    'CategoryName': '技术',\n",
       "    'Responsibility': '为国内企业提供优质的网盘协同办公服务；打造效率协同工具的同时负责相关领域的技术难点攻关，技术框架的优化，产品性能深度优化等',\n",
       "    'LastUpdateTime': '2020年07月09日',\n",
       "    'PostURL': 'http://careers.tencent.com/jobdesc.html?postId=1278158473892208640',\n",
       "    'SourceID': 1,\n",
       "    'IsCollect': False,\n",
       "    'IsValid': True},\n",
       "   {'Id': 0,\n",
       "    'PostId': '1234672825659297792',\n",
       "    'RecruitPostId': 58150,\n",
       "    'RecruitPostName': '29912-微视直播后台开发工程师（深圳）',\n",
       "    'CountryName': '中国',\n",
       "    'LocationName': '深圳',\n",
       "    'BGName': 'PCG',\n",
       "    'ProductName': '微视',\n",
       "    'CategoryName': '技术',\n",
       "    'Responsibility': '负责微视直播后台能力建设。 搭建微视直播基础能力， 支撑微视直播开播、观看、弹幕、送礼以及各种运营活动。\\n',\n",
       "    'LastUpdateTime': '2020年07月09日',\n",
       "    'PostURL': 'http://careers.tencent.com/jobdesc.html?postId=1234672825659297792',\n",
       "    'SourceID': 1,\n",
       "    'IsCollect': False,\n",
       "    'IsValid': True},\n",
       "   {'Id': 0,\n",
       "    'PostId': '1279087884996976640',\n",
       "    'RecruitPostId': 63609,\n",
       "    'RecruitPostName': '29912-微视直播后台开发工程师（北京）',\n",
       "    'CountryName': '中国',\n",
       "    'LocationName': '北京',\n",
       "    'BGName': 'PCG',\n",
       "    'ProductName': '微视',\n",
       "    'CategoryName': '技术',\n",
       "    'Responsibility': '负责微视直播后台能力建设。 搭建微视直播基础能力， 支撑微视直播开播、观看、弹幕、送礼以及各种运营活动。\\n',\n",
       "    'LastUpdateTime': '2020年07月09日',\n",
       "    'PostURL': 'http://careers.tencent.com/jobdesc.html?postId=1279087884996976640',\n",
       "    'SourceID': 1,\n",
       "    'IsCollect': False,\n",
       "    'IsValid': True},\n",
       "   {'Id': 0,\n",
       "    'PostId': '1244541464873013248',\n",
       "    'RecruitPostId': 59528,\n",
       "    'RecruitPostName': 'CSIG15-智能平台后台开发工程师',\n",
       "    'CountryName': '中国',\n",
       "    'LocationName': '深圳',\n",
       "    'BGName': 'CSIG',\n",
       "    'ProductName': '',\n",
       "    'CategoryName': '技术',\n",
       "    'Responsibility': '1、负责云小微开放平台的架构设计及开发，保证平台的高扩展性及系统稳定。\\n2、负责云小微用户大数据分析、技能推荐等基础能力的设计与开发。\\n3、负责智能作业&知识图谱、资源存储与搜索、自适应推荐、客服机器人等AI系统的技术规划、架构设计及方案实现，推动产品标准化，并进行私有云相关的部署和实施。\\n4、负责平台SLA指标监控、可用性监控等质量相关的后台能力建设，推动AI能力及平台质量达到客户要求。\\n5、负责云小微对外项目的售前技术支持，参与需求分析、整体技术方案设计、评审及产品交付流程。\\n6、负责腾讯云上技术组件的选型及引入，优化开发及运维架构，提升团队交付效率。\\n',\n",
       "    'LastUpdateTime': '2020年07月09日',\n",
       "    'PostURL': 'http://careers.tencent.com/jobdesc.html?postId=1244541464873013248',\n",
       "    'SourceID': 1,\n",
       "    'IsCollect': False,\n",
       "    'IsValid': True},\n",
       "   {'Id': 0,\n",
       "    'PostId': '1272446182366388224',\n",
       "    'RecruitPostId': 62832,\n",
       "    'RecruitPostName': '30623-腾讯广告优量汇后台开发工程师（北京）',\n",
       "    'CountryName': '中国',\n",
       "    'LocationName': '北京',\n",
       "    'BGName': 'CDG',\n",
       "    'ProductName': '',\n",
       "    'CategoryName': '技术',\n",
       "    'Responsibility': '负责腾讯联盟广告开发者平台和相关运营系统的功能开发和体验优化； \\n负责参与联盟开发者相关产品的设计和实现，满足不断涌现的产品运营创新需求； \\n为联盟开发者和内部运营人员投放和提供各类管理优化工具。\\n    \\n\\n        \\n',\n",
       "    'LastUpdateTime': '2020年07月09日',\n",
       "    'PostURL': 'http://careers.tencent.com/jobdesc.html?postId=1272446182366388224',\n",
       "    'SourceID': 1,\n",
       "    'IsCollect': False,\n",
       "    'IsValid': True},\n",
       "   {'Id': 0,\n",
       "    'PostId': '1281055070783283200',\n",
       "    'RecruitPostId': 63771,\n",
       "    'RecruitPostName': 'TEG05-渗透测试高级工程师（深圳）',\n",
       "    'CountryName': '中国',\n",
       "    'LocationName': '深圳',\n",
       "    'BGName': 'TEG',\n",
       "    'ProductName': '',\n",
       "    'CategoryName': '技术',\n",
       "    'Responsibility': '1、腾讯蓝军（force.tencent.com）：研究前沿攻防技术，以专业APT黑客视角，对腾讯业务、基础设施、安全系统进行渗透测试和红蓝对抗演习，挖掘潜在安全风险，并提出优化建议及推动解决。\\n2、TSRC（security.tencent.com）：负责处理TSRC漏洞、分析各类安全事件、处理突发安全事件，能够清晰分析现有安全体系问题，并提出优化建议及推动解决。',\n",
       "    'LastUpdateTime': '2020年07月09日',\n",
       "    'PostURL': 'http://careers.tencent.com/jobdesc.html?postId=0',\n",
       "    'SourceID': 1,\n",
       "    'IsCollect': False,\n",
       "    'IsValid': True},\n",
       "   {'Id': 0,\n",
       "    'PostId': '1232921471886561280',\n",
       "    'RecruitPostId': 58004,\n",
       "    'RecruitPostName': 'PCG17-web前端开发工程师（深圳）',\n",
       "    'CountryName': '中国',\n",
       "    'LocationName': '深圳',\n",
       "    'BGName': 'PCG',\n",
       "    'ProductName': '',\n",
       "    'CategoryName': '技术',\n",
       "    'Responsibility': '负责通过技术提升用户体验和可用性；\\n负责实现突破web多终端设备限制，为更多用户群体提供更好地产品体验。',\n",
       "    'LastUpdateTime': '2020年07月09日',\n",
       "    'PostURL': 'http://careers.tencent.com/jobdesc.html?postId=1232921471886561280',\n",
       "    'SourceID': 1,\n",
       "    'IsCollect': False,\n",
       "    'IsValid': True},\n",
       "   {'Id': 0,\n",
       "    'PostId': '1232921472469569536',\n",
       "    'RecruitPostId': 58005,\n",
       "    'RecruitPostName': 'PCG17-后台开发高级工程师（深圳）',\n",
       "    'CountryName': '中国',\n",
       "    'LocationName': '深圳',\n",
       "    'BGName': 'PCG',\n",
       "    'ProductName': '',\n",
       "    'CategoryName': '技术',\n",
       "    'Responsibility': '负责后台Server的架构设计、开发、优化以及运营工作；\\n负责提出海量服务的解决方案，针对高并发高负载服务开发基础设施。',\n",
       "    'LastUpdateTime': '2020年07月09日',\n",
       "    'PostURL': 'http://careers.tencent.com/jobdesc.html?postId=1232921472469569536',\n",
       "    'SourceID': 1,\n",
       "    'IsCollect': False,\n",
       "    'IsValid': True}]}}"
      ]
     },
     "execution_count": 165,
     "metadata": {},
     "output_type": "execute_result"
    }
   ],
   "source": [
    "#请求href query\n",
    "import requests\n",
    "import json\n",
    "\n",
    "url='https://careers.tencent.com/tencentcareer/api/post/Query?timestamp=1594250702528&countryId=&cityId=&bgIds=&productId=&categoryId=40001001,40001002,40001003,40001004,40001005,40001006&parentCategoryId=&attrId=&keyword=&pageIndex=1&pageSize=10&language=zh-cn&area=cn'\n",
    "headers={             \n",
    "    'User-Agent': 'Mozilla/5.0 (Macintosh; Intel Mac OS X 10_14_6) AppleWebKit/537.36 (KHTML, like Gecko) Chrome/83.0.4103.116 Safari/537.36'\n",
    "    ,'Referer': 'https://careers.tencent.com/search.html?query=ot_40001001,ot_40001002,ot_40001003,ot_40001004,ot_40001005,ot_40001006'\n",
    "}\n",
    "response=requests.get(url,headers=headers) # 包装request请求返回Query？包，内涵所有职位信息\n",
    "result=response.content.decode('utf-8') # 返回 str type \n",
    "d=json.loads(result) # 把str转换成json\n",
    "d"
   ]
  },
  {
   "cell_type": "code",
   "execution_count": 149,
   "metadata": {},
   "outputs": [
    {
     "data": {
      "text/html": [
       "<div>\n",
       "<style scoped>\n",
       "    .dataframe tbody tr th:only-of-type {\n",
       "        vertical-align: middle;\n",
       "    }\n",
       "\n",
       "    .dataframe tbody tr th {\n",
       "        vertical-align: top;\n",
       "    }\n",
       "\n",
       "    .dataframe thead th {\n",
       "        text-align: right;\n",
       "    }\n",
       "</style>\n",
       "<table border=\"1\" class=\"dataframe\">\n",
       "  <thead>\n",
       "    <tr style=\"text-align: right;\">\n",
       "      <th></th>\n",
       "      <th>BGName</th>\n",
       "      <th>CategoryName</th>\n",
       "      <th>CountryName</th>\n",
       "      <th>Id</th>\n",
       "      <th>IsCollect</th>\n",
       "      <th>IsValid</th>\n",
       "      <th>LastUpdateTime</th>\n",
       "      <th>LocationName</th>\n",
       "      <th>PostId</th>\n",
       "      <th>PostURL</th>\n",
       "      <th>ProductName</th>\n",
       "      <th>RecruitPostId</th>\n",
       "      <th>RecruitPostName</th>\n",
       "      <th>Responsibility</th>\n",
       "      <th>SourceID</th>\n",
       "    </tr>\n",
       "  </thead>\n",
       "  <tbody>\n",
       "    <tr>\n",
       "      <th>0</th>\n",
       "      <td>CSIG</td>\n",
       "      <td>技术</td>\n",
       "      <td>中国</td>\n",
       "      <td>0</td>\n",
       "      <td>False</td>\n",
       "      <td>True</td>\n",
       "      <td>2020年07月08日</td>\n",
       "      <td>西安</td>\n",
       "      <td>1280876751001493504</td>\n",
       "      <td>http://careers.tencent.com/jobdesc.html?postId=0</td>\n",
       "      <td>腾讯云</td>\n",
       "      <td>63767</td>\n",
       "      <td>19332-SaaS产品开发工程师(腾讯云全资子公司)</td>\n",
       "      <td>负责ToB SaaS业务的系统架构设计、Web代码及后台服务程序研发； \\n负责运营支持系统...</td>\n",
       "      <td>1</td>\n",
       "    </tr>\n",
       "    <tr>\n",
       "      <th>1</th>\n",
       "      <td>PCG</td>\n",
       "      <td>技术</td>\n",
       "      <td>中国</td>\n",
       "      <td>0</td>\n",
       "      <td>False</td>\n",
       "      <td>True</td>\n",
       "      <td>2020年07月08日</td>\n",
       "      <td>深圳</td>\n",
       "      <td>1280872448106962944</td>\n",
       "      <td>http://careers.tencent.com/jobdesc.html?postId=0</td>\n",
       "      <td>QQ看点</td>\n",
       "      <td>63766</td>\n",
       "      <td>14703-看点快报Android开发工程师</td>\n",
       "      <td>负责看点快报Android平台软件设计与开发工作； \\n负责产品相关技术攻坚及性能优化</td>\n",
       "      <td>1</td>\n",
       "    </tr>\n",
       "  </tbody>\n",
       "</table>\n",
       "</div>"
      ],
      "text/plain": [
       "  BGName CategoryName CountryName  Id  IsCollect  IsValid LastUpdateTime  \\\n",
       "0   CSIG           技术          中国   0      False     True    2020年07月08日   \n",
       "1    PCG           技术          中国   0      False     True    2020年07月08日   \n",
       "\n",
       "  LocationName               PostId  \\\n",
       "0           西安  1280876751001493504   \n",
       "1           深圳  1280872448106962944   \n",
       "\n",
       "                                            PostURL ProductName  \\\n",
       "0  http://careers.tencent.com/jobdesc.html?postId=0         腾讯云   \n",
       "1  http://careers.tencent.com/jobdesc.html?postId=0        QQ看点   \n",
       "\n",
       "   RecruitPostId              RecruitPostName  \\\n",
       "0          63767  19332-SaaS产品开发工程师(腾讯云全资子公司)   \n",
       "1          63766       14703-看点快报Android开发工程师   \n",
       "\n",
       "                                      Responsibility  SourceID  \n",
       "0  负责ToB SaaS业务的系统架构设计、Web代码及后台服务程序研发； \\n负责运营支持系统...         1  \n",
       "1        负责看点快报Android平台软件设计与开发工作； \\n负责产品相关技术攻坚及性能优化         1  "
      ]
     },
     "execution_count": 149,
     "metadata": {},
     "output_type": "execute_result"
    }
   ],
   "source": [
    "# json直接转换dataframe\n",
    "pd.DataFrame(d['Data']['Posts']).head(2)"
   ]
  },
  {
   "cell_type": "code",
   "execution_count": 167,
   "metadata": {
    "scrolled": true
   },
   "outputs": [
    {
     "data": {
      "text/html": [
       "<div>\n",
       "<style scoped>\n",
       "    .dataframe tbody tr th:only-of-type {\n",
       "        vertical-align: middle;\n",
       "    }\n",
       "\n",
       "    .dataframe tbody tr th {\n",
       "        vertical-align: top;\n",
       "    }\n",
       "\n",
       "    .dataframe thead th {\n",
       "        text-align: right;\n",
       "    }\n",
       "</style>\n",
       "<table border=\"1\" class=\"dataframe\">\n",
       "  <thead>\n",
       "    <tr style=\"text-align: right;\">\n",
       "      <th></th>\n",
       "      <th>BGName</th>\n",
       "      <th>CategoryName</th>\n",
       "      <th>CountryName</th>\n",
       "      <th>Id</th>\n",
       "      <th>IsCollect</th>\n",
       "      <th>IsValid</th>\n",
       "      <th>LastUpdateTime</th>\n",
       "      <th>LocationName</th>\n",
       "      <th>PostId</th>\n",
       "      <th>PostURL</th>\n",
       "      <th>ProductName</th>\n",
       "      <th>RecruitPostId</th>\n",
       "      <th>RecruitPostName</th>\n",
       "      <th>Responsibility</th>\n",
       "      <th>SourceID</th>\n",
       "    </tr>\n",
       "  </thead>\n",
       "  <tbody>\n",
       "    <tr>\n",
       "      <th>2</th>\n",
       "      <td>WXG</td>\n",
       "      <td>技术</td>\n",
       "      <td>中国</td>\n",
       "      <td>0</td>\n",
       "      <td>False</td>\n",
       "      <td>True</td>\n",
       "      <td>2020年07月09日</td>\n",
       "      <td>广州</td>\n",
       "      <td>1278158473892208640</td>\n",
       "      <td>http://careers.tencent.com/jobdesc.html?postId...</td>\n",
       "      <td></td>\n",
       "      <td>63456</td>\n",
       "      <td>WXG07-微信广研-微盘前端开发工程师</td>\n",
       "      <td>为国内企业提供优质的网盘协同办公服务；打造效率协同工具的同时负责相关领域的技术难点攻关，技术...</td>\n",
       "      <td>1</td>\n",
       "    </tr>\n",
       "    <tr>\n",
       "      <th>3</th>\n",
       "      <td>PCG</td>\n",
       "      <td>技术</td>\n",
       "      <td>中国</td>\n",
       "      <td>0</td>\n",
       "      <td>False</td>\n",
       "      <td>True</td>\n",
       "      <td>2020年07月09日</td>\n",
       "      <td>深圳</td>\n",
       "      <td>1234672825659297792</td>\n",
       "      <td>http://careers.tencent.com/jobdesc.html?postId...</td>\n",
       "      <td>微视</td>\n",
       "      <td>58150</td>\n",
       "      <td>29912-微视直播后台开发工程师（深圳）</td>\n",
       "      <td>负责微视直播后台能力建设。 搭建微视直播基础能力， 支撑微视直播开播、观看、弹幕、送礼以及各...</td>\n",
       "      <td>1</td>\n",
       "    </tr>\n",
       "  </tbody>\n",
       "</table>\n",
       "</div>"
      ],
      "text/plain": [
       "  BGName CategoryName CountryName  Id  IsCollect  IsValid LastUpdateTime  \\\n",
       "2    WXG           技术          中国   0      False     True    2020年07月09日   \n",
       "3    PCG           技术          中国   0      False     True    2020年07月09日   \n",
       "\n",
       "  LocationName               PostId  \\\n",
       "2           广州  1278158473892208640   \n",
       "3           深圳  1234672825659297792   \n",
       "\n",
       "                                             PostURL ProductName  \\\n",
       "2  http://careers.tencent.com/jobdesc.html?postId...               \n",
       "3  http://careers.tencent.com/jobdesc.html?postId...          微视   \n",
       "\n",
       "   RecruitPostId        RecruitPostName  \\\n",
       "2          63456   WXG07-微信广研-微盘前端开发工程师   \n",
       "3          58150  29912-微视直播后台开发工程师（深圳）   \n",
       "\n",
       "                                      Responsibility  SourceID  \n",
       "2  为国内企业提供优质的网盘协同办公服务；打造效率协同工具的同时负责相关领域的技术难点攻关，技术...         1  \n",
       "3  负责微视直播后台能力建设。 搭建微视直播基础能力， 支撑微视直播开播、观看、弹幕、送礼以及各...         1  "
      ]
     },
     "execution_count": 167,
     "metadata": {},
     "output_type": "execute_result"
    }
   ],
   "source": [
    "#读取json文件，并转换成dataframe\n",
    "with open('tencent方法二.json','w',encoding='utf-8') as fp:\n",
    "    fp.write(json.dumps(d['Data']['Posts']))                          #result是requests返回后解码的str\n",
    "    \n",
    "with open('tencent方法二.json','r',encoding='utf-8') as fp:\n",
    "    info=fp.read()\n",
    "    data = json.loads(info)              #把str转码成json\n",
    "    \n",
    "pd.DataFrame(data)[2:4]"
   ]
  },
  {
   "cell_type": "markdown",
   "metadata": {},
   "source": [
    "# json相关"
   ]
  },
  {
   "cell_type": "markdown",
   "metadata": {},
   "source": [
    "## json格式的数据调取"
   ]
  },
  {
   "cell_type": "code",
   "execution_count": 140,
   "metadata": {},
   "outputs": [
    {
     "data": {
      "text/plain": [
       "{'Id': 0,\n",
       " 'PostId': '1280872448106962944',\n",
       " 'RecruitPostId': 63766,\n",
       " 'RecruitPostName': '14703-看点快报Android开发工程师',\n",
       " 'CountryName': '中国',\n",
       " 'LocationName': '深圳',\n",
       " 'BGName': 'PCG',\n",
       " 'ProductName': 'QQ看点',\n",
       " 'CategoryName': '技术',\n",
       " 'Responsibility': '负责看点快报Android平台软件设计与开发工作； \\n负责产品相关技术攻坚及性能优化',\n",
       " 'LastUpdateTime': '2020年07月08日',\n",
       " 'PostURL': 'http://careers.tencent.com/jobdesc.html?postId=0',\n",
       " 'SourceID': 1,\n",
       " 'IsCollect': False,\n",
       " 'IsValid': True}"
      ]
     },
     "execution_count": 140,
     "metadata": {},
     "output_type": "execute_result"
    }
   ],
   "source": [
    "d['Data']['Posts'][1]  # [中括号]层层定位"
   ]
  },
  {
   "cell_type": "code",
   "execution_count": 141,
   "metadata": {},
   "outputs": [
    {
     "data": {
      "text/plain": [
       "'14703-看点快报Android开发工程师'"
      ]
     },
     "execution_count": 141,
     "metadata": {},
     "output_type": "execute_result"
    }
   ],
   "source": [
    "d['Data']['Posts'][1]['RecruitPostName']"
   ]
  },
  {
   "cell_type": "markdown",
   "metadata": {},
   "source": [
    "## json文件的读取与写入"
   ]
  },
  {
   "cell_type": "code",
   "execution_count": null,
   "metadata": {},
   "outputs": [],
   "source": [
    "# Writing JSON data\n",
    "with open('data.json', 'w') as f:\n",
    "    json.dump(data, f)\n",
    "\n",
    "# Reading data back\n",
    "with open('data.json', 'r') as f:\n",
    "    data = json.load(f)"
   ]
  },
  {
   "cell_type": "markdown",
   "metadata": {},
   "source": [
    "## json字符串的读取与写入"
   ]
  },
  {
   "cell_type": "code",
   "execution_count": null,
   "metadata": {},
   "outputs": [],
   "source": [
    "# Writing JSON data\n",
    "with open('data.json', 'w') as f:\n",
    "    f.write(json.dumps(data))           # write方法必须写入str，json.dumps(处理字符串) 转str\n",
    "\n",
    "# Reading data back\n",
    "with open('data.json', 'r') as f:\n",
    "    info=f.read()                       # read出来是个str\n",
    "    data = json.loads(info)             # json.loads(处理字符串) 转成json\n"
   ]
  }
 ],
 "metadata": {
  "kernelspec": {
   "display_name": "Python 3",
   "language": "python",
   "name": "python3"
  },
  "language_info": {
   "codemirror_mode": {
    "name": "ipython",
    "version": 3
   },
   "file_extension": ".py",
   "mimetype": "text/x-python",
   "name": "python",
   "nbconvert_exporter": "python",
   "pygments_lexer": "ipython3",
   "version": "3.7.3"
  },
  "toc": {
   "base_numbering": 1,
   "nav_menu": {},
   "number_sections": true,
   "sideBar": true,
   "skip_h1_title": false,
   "title_cell": "Table of Contents",
   "title_sidebar": "Contents",
   "toc_cell": false,
   "toc_position": {
    "height": "calc(100% - 180px)",
    "left": "10px",
    "top": "150px",
    "width": "349.091px"
   },
   "toc_section_display": true,
   "toc_window_display": true
  }
 },
 "nbformat": 4,
 "nbformat_minor": 2
}
