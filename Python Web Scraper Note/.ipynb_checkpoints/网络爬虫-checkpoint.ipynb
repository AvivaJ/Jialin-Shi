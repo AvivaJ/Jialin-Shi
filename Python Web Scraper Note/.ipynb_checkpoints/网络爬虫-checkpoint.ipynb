{
 "cells": [
  {
   "cell_type": "markdown",
   "metadata": {},
   "source": [
    "## 网络爬虫"
   ]
  },
  {
   "cell_type": "markdown",
   "metadata": {},
   "source": [
    "## requests "
   ]
  },
  {
   "cell_type": "markdown",
   "metadata": {},
   "source": [
    "1.引入requests模块\n",
    "2.将网址赋值\n",
    "3.用模块中的get(url)方法 并且赋值\n",
    "4.打印 .text"
   ]
  },
  {
   "cell_type": "code",
   "execution_count": 100,
   "metadata": {},
   "outputs": [],
   "source": [
    "import requests\n",
    "newsurl = 'https://news.qq.com/'\n",
    "ask = requests.get(newsurl)\n",
    "#print(ask.text)"
   ]
  },
  {
   "cell_type": "markdown",
   "metadata": {},
   "source": [
    "5.用剖析器把html标签清理\n",
    "BeautifulSoup(html,'html.parser')"
   ]
  },
  {
   "cell_type": "markdown",
   "metadata": {},
   "source": [
    "## BeautifulSoup - html parser"
   ]
  },
  {
   "cell_type": "code",
   "execution_count": 118,
   "metadata": {},
   "outputs": [
    {
     "data": {
      "text/plain": [
       "'   Hello World This is link1 This is link2  '"
      ]
     },
     "execution_count": 118,
     "metadata": {},
     "output_type": "execute_result"
    }
   ],
   "source": [
    "from bs4 import BeautifulSoup\n",
    "html_sample = ' \\\n",
    "<html> \\\n",
    " <body> \\\n",
    " <h1 id=\"title\">Hello World</h1> \\\n",
    " <a href=\"#\" class=\"link\">This is link1</a> \\\n",
    " <a href=\"# link2\" class=\"link\">This is link2</a> \\\n",
    " </body> \\\n",
    " </html>'\n",
    "soup = BeautifulSoup(html_sample,'html.parser')\n",
    "soup.text"
   ]
  },
  {
   "cell_type": "markdown",
   "metadata": {},
   "source": [
    "#### 使用select找出所有含html标签的元素"
   ]
  },
  {
   "cell_type": "markdown",
   "metadata": {},
   "source": [
    "使用.select( )方法 找出 ‘h1’卷标的元素\n",
    "返回的是一个list"
   ]
  },
  {
   "cell_type": "code",
   "execution_count": 128,
   "metadata": {},
   "outputs": [
    {
     "data": {
      "text/plain": [
       "'Hello World'"
      ]
     },
     "execution_count": 128,
     "metadata": {},
     "output_type": "execute_result"
    }
   ],
   "source": [
    "soup = BeautifulSoup(html_sample,'html.parser')\n",
    "soup.select('h1')[0].text"
   ]
  },
  {
   "cell_type": "code",
   "execution_count": 10,
   "metadata": {},
   "outputs": [
    {
     "data": {
      "text/plain": [
       "'Hello World'"
      ]
     },
     "execution_count": 10,
     "metadata": {},
     "output_type": "execute_result"
    }
   ],
   "source": [
    "soup.select('h1')[0].text"
   ]
  },
  {
   "cell_type": "markdown",
   "metadata": {},
   "source": [
    "使用.select( )方法 找出 ‘a’卷标的元素\n",
    "返回的是一个list"
   ]
  },
  {
   "cell_type": "code",
   "execution_count": 133,
   "metadata": {},
   "outputs": [
    {
     "data": {
      "text/plain": [
       "[<a class=\"link\" href=\"#\">This is link1</a>,\n",
       " <a class=\"link\" href=\"# link2\">This is link2</a>]"
      ]
     },
     "execution_count": 133,
     "metadata": {},
     "output_type": "execute_result"
    }
   ],
   "source": [
    "soup = BeautifulSoup(html_sample,'html.parser')\n",
    "alink = soup.select('a')\n",
    "alink"
   ]
  },
  {
   "cell_type": "code",
   "execution_count": 8,
   "metadata": {},
   "outputs": [
    {
     "data": {
      "text/plain": [
       "'This is link1'"
      ]
     },
     "execution_count": 8,
     "metadata": {},
     "output_type": "execute_result"
    }
   ],
   "source": [
    "soup.select('a')[0].text"
   ]
  },
  {
   "cell_type": "code",
   "execution_count": 14,
   "metadata": {},
   "outputs": [
    {
     "name": "stdout",
     "output_type": "stream",
     "text": [
      "This is link1\n",
      "This is link2\n"
     ]
    }
   ],
   "source": [
    "for link in soup.select('a'):\n",
    "    print(link.text)"
   ]
  },
  {
   "cell_type": "markdown",
   "metadata": {},
   "source": [
    "####  取得含有特定css标签的元素"
   ]
  },
  {
   "cell_type": "markdown",
   "metadata": {},
   "source": [
    "找出id为title的所有元素（id前面要加＃）"
   ]
  },
  {
   "cell_type": "code",
   "execution_count": 134,
   "metadata": {},
   "outputs": [
    {
     "data": {
      "text/plain": [
       "[<h1 id=\"title\">Hello World</h1>]"
      ]
     },
     "execution_count": 134,
     "metadata": {},
     "output_type": "execute_result"
    }
   ],
   "source": [
    "soup.select('#title')"
   ]
  },
  {
   "cell_type": "markdown",
   "metadata": {},
   "source": [
    "找出class为link的所有元素（class前需要加.）"
   ]
  },
  {
   "cell_type": "code",
   "execution_count": 72,
   "metadata": {},
   "outputs": [
    {
     "data": {
      "text/plain": [
       "'Hello World'"
      ]
     },
     "execution_count": 72,
     "metadata": {},
     "output_type": "execute_result"
    }
   ],
   "source": [
    "soup.select('#title')[0].text"
   ]
  },
  {
   "cell_type": "code",
   "execution_count": 34,
   "metadata": {},
   "outputs": [
    {
     "data": {
      "text/plain": [
       "[<a class=\"link\" href=\"#\">This is link1</a>,\n",
       " <a class=\"link\" href=\"# link2\">This is link2</a>]"
      ]
     },
     "execution_count": 34,
     "metadata": {},
     "output_type": "execute_result"
    }
   ],
   "source": [
    "soup.select('.link')"
   ]
  },
  {
   "cell_type": "code",
   "execution_count": 75,
   "metadata": {},
   "outputs": [
    {
     "data": {
      "text/plain": [
       "'This is link1'"
      ]
     },
     "execution_count": 75,
     "metadata": {},
     "output_type": "execute_result"
    }
   ],
   "source": [
    "soup.select('.link')[0].text"
   ]
  },
  {
   "cell_type": "code",
   "execution_count": 33,
   "metadata": {},
   "outputs": [
    {
     "name": "stdout",
     "output_type": "stream",
     "text": [
      "This is link1\n",
      "This is link2\n"
     ]
    }
   ],
   "source": [
    "for link in soup.select('.link'):\n",
    "    print(link.text)"
   ]
  },
  {
   "cell_type": "markdown",
   "metadata": {},
   "source": [
    "#### 取得所有a标签内的href链接"
   ]
  },
  {
   "cell_type": "code",
   "execution_count": 38,
   "metadata": {},
   "outputs": [
    {
     "name": "stdout",
     "output_type": "stream",
     "text": [
      "#\n",
      "# link2\n"
     ]
    }
   ],
   "source": [
    "for link in soup.select('a'):\n",
    "    print(link['href'])"
   ]
  },
  {
   "cell_type": "markdown",
   "metadata": {},
   "source": [
    "# 百度新闻实战"
   ]
  },
  {
   "cell_type": "code",
   "execution_count": 145,
   "metadata": {},
   "outputs": [],
   "source": [
    "import requests \n",
    "from bs4 import BeautifulSoup\n",
    "newsurl = 'http://news.baidu.com/'\n",
    "html = requests.get(newsurl)\n",
    "#print(ask.text)"
   ]
  },
  {
   "cell_type": "code",
   "execution_count": 146,
   "metadata": {},
   "outputs": [
    {
     "data": {
      "text/plain": [
       "'回首2018丨习近平的这一年'"
      ]
     },
     "execution_count": 146,
     "metadata": {},
     "output_type": "execute_result"
    }
   ],
   "source": [
    "soup = BeautifulSoup(html.text,'html.parser')\n",
    "news = soup.select('#pane-news a')\n",
    "news[0].text"
   ]
  },
  {
   "cell_type": "code",
   "execution_count": 151,
   "metadata": {},
   "outputs": [
    {
     "name": "stdout",
     "output_type": "stream",
     "text": [
      "回首2018丨习近平的这一年 http://m.news.cctv.com/2018/12/29/ARTIlayMQnPw6RWvIupRYuNs181229.shtml\n",
      "乱云飞渡仍从容—2018中国外交的稳进与担当 http://www.xinhuanet.com/world/2018-12/28/c_1123920949.htm\n",
      "梦开始的地方  http://www.xinhuanet.com//video/2018-12/29/c_1210026892.htm\n",
      "镜头中的脱贫故事|网络扶贫故事 http://f.china.com.cn/2018-12/29/content_74324244.htm\n",
      "中国明年发射首个商业航天火箭 http://news.cctv.com/2018/12/29/ARTILR9OEPunrbZVhzjyKlD0181229.shtml\n",
      "前11个月国企利润同比增长15.6% 盈利能力提升 http://www.ce.cn/xwzx/gnsz/gdxw/201812/29/t20181229_31139870.shtml\n",
      "40年时光，铁路和你一起走过 http://news.youth.cn/gn/201812/t20181229_11829901.htm\n",
      "新个税法热点咨询“五问答”来了!一定要看看 http://finance.people.com.cn/n1/2018/1229/c1004-30495573.html\n",
      "公安部:新规民警依法履职致公民权益受损,个人不担法律责任 http://baijiahao.baidu.com/s?id=1621152896062762035\n",
      "快看!2019年这些新规将落地,你的工资还能涨! http://baijiahao.baidu.com/s?id=1621112941531586624\n",
      "2019年省级两会时间表出炉,多地强调严肃会风会纪 http://baijiahao.baidu.com/s?id=1621112841928552019\n",
      "警惕!这种新型毒品已瞄准了00后,皮肤一碰就沾毒 http://baijiahao.baidu.com/s?id=1621141203840254427\n",
      "元旦版全国冻哭预警出炉,南方大部将在冻哭中跨年 http://baijiahao.baidu.com/s?id=1621154075006026720\n",
      "60万12306用户信息暗网遭售卖? 官方:第三方泄露 http://www.bjnews.com.cn/finance/2018/12/29/535020.html\n",
      "个税申报实用帖来啦!手把手教您怎么报税、怎么享受优惠 http://baijiahao.baidu.com/s?id=1621122678442834602\n",
      "房租上涨致终南山隐士\"还俗\"? 官方回应:清理整治违建 http://baijiahao.baidu.com/s?id=1621139555161930226\n",
      "海外中国公民护照政策将有这些大调整!明年1月正式实施 http://baijiahao.baidu.com/s?id=1621145778589510184\n",
      "陆慷日媒专访:批评中国这些问题,问过合作国吗？ http://baijiahao.baidu.com/s?id=1621107697365722048\n",
      "麻烦大了!特朗普这一趟去伊拉克,不仅仅泄密那么简单 http://baijiahao.baidu.com/s?id=1621139301237826484\n",
      "特朗普威胁国会:若得不到建墙拨款,将关闭美墨边境 http://www.bjnews.com.cn/world/2018/12/29/535054.html\n",
      "菲律宾发生6.9级地震:货架酒瓶掉落一地,人群涌入街道避险 https://baijiahao.baidu.com/s?id=1621163471819791211&wfr=content\n",
      "俄媒:乌克兰解除针对俄罗斯男性的入境禁令  http://www.chinanews.com/gj/2018/12-29/8715411.shtml\n",
      "金正恩勉励朝鲜劳动英雄:搞好明年农业再次见面 http://baijiahao.baidu.com/s?id=1621144020581097763\n",
      "埃及金字塔附近发生恐怖爆炸,已致4死10伤 http://world.people.com.cn/n1/2018/1229/c1002-30494307.html\n",
      "2018中国经济表情:大变局之下的喜怒哀乐 http://baijiahao.baidu.com/s?id=1621120052869930923\n",
      "天津市函请国家市场监管总局监督权健调查:一查到底毫不手软 http://baijiahao.baidu.com/s?id=1621152240443910823\n",
      "用冤狱赔偿款投资权健 农民赵作海:钱没赚到保健品吃了一堆 https://baijiahao.baidu.com/s?id=1621110621529431933&wfr=content\n",
      "教育部等九部门印发中小学生减负三十条:小学一二年级无作业 http://baijiahao.baidu.com/s?id=1621166671510646994\n",
      "江西企业家遭跨省刑拘:羁押993天后检方撤诉,获赔36万 https://www.thepaper.cn/newsDetail_forward_2790994\n",
      "刘德华取消后续三场演唱会 主办方:希望休息后能继续演出 http://baijiahao.baidu.com/s?id=1621155170577653212\n",
      "跨年去哪秀恩爱?2019全球10大跨年目的地出炉 http://baijiahao.baidu.com/s?id=1620995190317103803\n",
      "花总谅解护照信息泄露上游酒店,涉事集团总部位于美国 https://www.thepaper.cn/newsDetail_forward_2791255\n",
      "政府办副主任借“卖画”受贿:四幅画值1万却收300万 http://baijiahao.baidu.com/s?id=1621147056978365214\n",
      "\"中通快递员性侵女客户\"案一审宣判,快递员被判3年半 http://baijiahao.baidu.com/s?id=1621155790431405188\n",
      "对话体检不知情被检测出艾滋病青年:感觉成了拖累单位的废物 http://baijiahao.baidu.com/s?id=1621139479171289643\n",
      "谢霆锋罕见发声否认是张柏芝第三胎生父,并辟谣出轨杨幂传闻 http://baijiahao.baidu.com/s?id=1621159050145169610\n"
     ]
    }
   ],
   "source": [
    "for element in news:\n",
    "    print(element.text,element['href'])"
   ]
  },
  {
   "cell_type": "markdown",
   "metadata": {},
   "source": [
    "# pandas － array字典方法"
   ]
  },
  {
   "cell_type": "code",
   "execution_count": 143,
   "metadata": {},
   "outputs": [
    {
     "data": {
      "text/plain": [
       "[{'title': '回首2018丨习近平的这一年',\n",
       "  'url': 'http://m.news.cctv.com/2018/12/29/ARTIlayMQnPw6RWvIupRYuNs181229.shtml'},\n",
       " {'title': '乱云飞渡仍从容—2018中国外交的稳进与担当',\n",
       "  'url': 'http://www.xinhuanet.com/world/2018-12/28/c_1123920949.htm'},\n",
       " {'title': '梦开始的地方 ',\n",
       "  'url': 'http://www.xinhuanet.com//video/2018-12/29/c_1210026892.htm'},\n",
       " {'title': '镜头中的脱贫故事|网络扶贫故事',\n",
       "  'url': 'http://f.china.com.cn/2018-12/29/content_74324244.htm'},\n",
       " {'title': '中国明年发射首个商业航天火箭',\n",
       "  'url': 'http://news.cctv.com/2018/12/29/ARTILR9OEPunrbZVhzjyKlD0181229.shtml'},\n",
       " {'title': '前11个月国企利润同比增长15.6% 盈利能力提升',\n",
       "  'url': 'http://www.ce.cn/xwzx/gnsz/gdxw/201812/29/t20181229_31139870.shtml'},\n",
       " {'title': '40年时光，铁路和你一起走过',\n",
       "  'url': 'http://news.youth.cn/gn/201812/t20181229_11829901.htm'},\n",
       " {'title': '新个税法热点咨询“五问答”来了!一定要看看',\n",
       "  'url': 'http://finance.people.com.cn/n1/2018/1229/c1004-30495573.html'},\n",
       " {'title': '公安部:新规民警依法履职致公民权益受损,个人不担法律责任',\n",
       "  'url': 'http://baijiahao.baidu.com/s?id=1621152896062762035'},\n",
       " {'title': '快看!2019年这些新规将落地,你的工资还能涨!',\n",
       "  'url': 'http://baijiahao.baidu.com/s?id=1621112941531586624'},\n",
       " {'title': '2019年省级两会时间表出炉,多地强调严肃会风会纪',\n",
       "  'url': 'http://baijiahao.baidu.com/s?id=1621112841928552019'},\n",
       " {'title': '警惕!这种新型毒品已瞄准了00后,皮肤一碰就沾毒',\n",
       "  'url': 'http://baijiahao.baidu.com/s?id=1621141203840254427'},\n",
       " {'title': '元旦版全国冻哭预警出炉,南方大部将在冻哭中跨年',\n",
       "  'url': 'http://baijiahao.baidu.com/s?id=1621154075006026720'},\n",
       " {'title': '60万12306用户信息暗网遭售卖? 官方:第三方泄露',\n",
       "  'url': 'http://www.bjnews.com.cn/finance/2018/12/29/535020.html'},\n",
       " {'title': '个税申报实用帖来啦!手把手教您怎么报税、怎么享受优惠',\n",
       "  'url': 'http://baijiahao.baidu.com/s?id=1621122678442834602'},\n",
       " {'title': '房租上涨致终南山隐士\"还俗\"? 官方回应:清理整治违建',\n",
       "  'url': 'http://baijiahao.baidu.com/s?id=1621139555161930226'},\n",
       " {'title': '海外中国公民护照政策将有这些大调整!明年1月正式实施',\n",
       "  'url': 'http://baijiahao.baidu.com/s?id=1621145778589510184'},\n",
       " {'title': '陆慷日媒专访:批评中国这些问题,问过合作国吗？',\n",
       "  'url': 'http://baijiahao.baidu.com/s?id=1621107697365722048'},\n",
       " {'title': '麻烦大了!特朗普这一趟去伊拉克,不仅仅泄密那么简单',\n",
       "  'url': 'http://baijiahao.baidu.com/s?id=1621139301237826484'},\n",
       " {'title': '美国政府关门风波:特朗普取消休假计划,博物馆将停业',\n",
       "  'url': 'http://baijiahao.baidu.com/s?id=1621141534918792645'},\n",
       " {'title': '印尼海啸伤者增至7202,巽他海峡海域可能再发海啸',\n",
       "  'url': 'http://www.bjnews.com.cn/world/2018/12/29/535000.html'},\n",
       " {'title': '俄媒:乌克兰解除针对俄罗斯男性的入境禁令 ',\n",
       "  'url': 'http://www.chinanews.com/gj/2018/12-29/8715411.shtml'},\n",
       " {'title': '金正恩勉励朝鲜劳动英雄:搞好明年农业再次见面',\n",
       "  'url': 'http://baijiahao.baidu.com/s?id=1621144020581097763'},\n",
       " {'title': '埃及金字塔附近发生恐怖爆炸,已致4死10伤',\n",
       "  'url': 'http://world.people.com.cn/n1/2018/1229/c1002-30494307.html'},\n",
       " {'title': '2018中国经济表情:大变局之下的喜怒哀乐',\n",
       "  'url': 'http://baijiahao.baidu.com/s?id=1621120052869930923'},\n",
       " {'title': '天津市函请国家市场监管总局监督权健调查:一查到底毫不手软',\n",
       "  'url': 'http://baijiahao.baidu.com/s?id=1621152240443910823'},\n",
       " {'title': '用冤狱赔偿款投资权健 农民赵作海:钱没赚到保健品吃了一堆',\n",
       "  'url': 'https://baijiahao.baidu.com/s?id=1621110621529431933&wfr=content'},\n",
       " {'title': '蔡当局下个清理目标是谢长廷? 蓝营讽:\"助日代表\"谁敢动',\n",
       "  'url': 'http://baijiahao.baidu.com/s?id=1621152251931340509'},\n",
       " {'title': '江西企业家遭跨省刑拘:羁押993天后检方撤诉,获赔36万',\n",
       "  'url': 'https://www.thepaper.cn/newsDetail_forward_2790994'},\n",
       " {'title': '刘德华取消后续三场演唱会 主办方:希望休息后能继续演出',\n",
       "  'url': 'http://baijiahao.baidu.com/s?id=1621155170577653212'},\n",
       " {'title': '跨年去哪秀恩爱?2019全球10大跨年目的地出炉',\n",
       "  'url': 'http://baijiahao.baidu.com/s?id=1620995190317103803'},\n",
       " {'title': '花总谅解护照信息泄露上游酒店,涉事集团总部位于美国',\n",
       "  'url': 'https://www.thepaper.cn/newsDetail_forward_2791255'},\n",
       " {'title': '政府办副主任借“卖画”受贿:四幅画值1万却收300万',\n",
       "  'url': 'http://baijiahao.baidu.com/s?id=1621147056978365214'},\n",
       " {'title': '\"中通快递员性侵女客户\"案一审宣判,快递员被判3年半',\n",
       "  'url': 'http://baijiahao.baidu.com/s?id=1621155790431405188'},\n",
       " {'title': '对话体检不知情被检测出艾滋病青年:感觉成了拖累单位的废物',\n",
       "  'url': 'http://baijiahao.baidu.com/s?id=1621139479171289643'},\n",
       " {'title': '谢霆锋罕见发声否认是张柏芝第三胎生父,并辟谣出轨杨幂传闻',\n",
       "  'url': 'http://baijiahao.baidu.com/s?id=1621159050145169610'}]"
      ]
     },
     "execution_count": 143,
     "metadata": {},
     "output_type": "execute_result"
    }
   ],
   "source": [
    "newsary = []\n",
    "for line in news:\n",
    "    newsary.append({'title':line.text,'url':line['href']})\n",
    "newsary"
   ]
  },
  {
   "cell_type": "code",
   "execution_count": 152,
   "metadata": {},
   "outputs": [
    {
     "data": {
      "text/html": [
       "<div>\n",
       "<style scoped>\n",
       "    .dataframe tbody tr th:only-of-type {\n",
       "        vertical-align: middle;\n",
       "    }\n",
       "\n",
       "    .dataframe tbody tr th {\n",
       "        vertical-align: top;\n",
       "    }\n",
       "\n",
       "    .dataframe thead th {\n",
       "        text-align: right;\n",
       "    }\n",
       "</style>\n",
       "<table border=\"1\" class=\"dataframe\">\n",
       "  <thead>\n",
       "    <tr style=\"text-align: right;\">\n",
       "      <th></th>\n",
       "      <th>title</th>\n",
       "      <th>url</th>\n",
       "    </tr>\n",
       "  </thead>\n",
       "  <tbody>\n",
       "    <tr>\n",
       "      <th>0</th>\n",
       "      <td>回首2018丨习近平的这一年</td>\n",
       "      <td>http://m.news.cctv.com/2018/12/29/ARTIlayMQnPw...</td>\n",
       "    </tr>\n",
       "    <tr>\n",
       "      <th>1</th>\n",
       "      <td>乱云飞渡仍从容—2018中国外交的稳进与担当</td>\n",
       "      <td>http://www.xinhuanet.com/world/2018-12/28/c_11...</td>\n",
       "    </tr>\n",
       "    <tr>\n",
       "      <th>2</th>\n",
       "      <td>梦开始的地方</td>\n",
       "      <td>http://www.xinhuanet.com//video/2018-12/29/c_1...</td>\n",
       "    </tr>\n",
       "    <tr>\n",
       "      <th>3</th>\n",
       "      <td>镜头中的脱贫故事|网络扶贫故事</td>\n",
       "      <td>http://f.china.com.cn/2018-12/29/content_74324...</td>\n",
       "    </tr>\n",
       "    <tr>\n",
       "      <th>4</th>\n",
       "      <td>中国明年发射首个商业航天火箭</td>\n",
       "      <td>http://news.cctv.com/2018/12/29/ARTILR9OEPunrb...</td>\n",
       "    </tr>\n",
       "    <tr>\n",
       "      <th>5</th>\n",
       "      <td>前11个月国企利润同比增长15.6% 盈利能力提升</td>\n",
       "      <td>http://www.ce.cn/xwzx/gnsz/gdxw/201812/29/t201...</td>\n",
       "    </tr>\n",
       "    <tr>\n",
       "      <th>6</th>\n",
       "      <td>40年时光，铁路和你一起走过</td>\n",
       "      <td>http://news.youth.cn/gn/201812/t20181229_11829...</td>\n",
       "    </tr>\n",
       "    <tr>\n",
       "      <th>7</th>\n",
       "      <td>新个税法热点咨询“五问答”来了!一定要看看</td>\n",
       "      <td>http://finance.people.com.cn/n1/2018/1229/c100...</td>\n",
       "    </tr>\n",
       "    <tr>\n",
       "      <th>8</th>\n",
       "      <td>公安部:新规民警依法履职致公民权益受损,个人不担法律责任</td>\n",
       "      <td>http://baijiahao.baidu.com/s?id=16211528960627...</td>\n",
       "    </tr>\n",
       "    <tr>\n",
       "      <th>9</th>\n",
       "      <td>快看!2019年这些新规将落地,你的工资还能涨!</td>\n",
       "      <td>http://baijiahao.baidu.com/s?id=16211129415315...</td>\n",
       "    </tr>\n",
       "    <tr>\n",
       "      <th>10</th>\n",
       "      <td>2019年省级两会时间表出炉,多地强调严肃会风会纪</td>\n",
       "      <td>http://baijiahao.baidu.com/s?id=16211128419285...</td>\n",
       "    </tr>\n",
       "    <tr>\n",
       "      <th>11</th>\n",
       "      <td>警惕!这种新型毒品已瞄准了00后,皮肤一碰就沾毒</td>\n",
       "      <td>http://baijiahao.baidu.com/s?id=16211412038402...</td>\n",
       "    </tr>\n",
       "    <tr>\n",
       "      <th>12</th>\n",
       "      <td>元旦版全国冻哭预警出炉,南方大部将在冻哭中跨年</td>\n",
       "      <td>http://baijiahao.baidu.com/s?id=16211540750060...</td>\n",
       "    </tr>\n",
       "    <tr>\n",
       "      <th>13</th>\n",
       "      <td>60万12306用户信息暗网遭售卖? 官方:第三方泄露</td>\n",
       "      <td>http://www.bjnews.com.cn/finance/2018/12/29/53...</td>\n",
       "    </tr>\n",
       "    <tr>\n",
       "      <th>14</th>\n",
       "      <td>个税申报实用帖来啦!手把手教您怎么报税、怎么享受优惠</td>\n",
       "      <td>http://baijiahao.baidu.com/s?id=16211226784428...</td>\n",
       "    </tr>\n",
       "    <tr>\n",
       "      <th>15</th>\n",
       "      <td>房租上涨致终南山隐士\"还俗\"? 官方回应:清理整治违建</td>\n",
       "      <td>http://baijiahao.baidu.com/s?id=16211395551619...</td>\n",
       "    </tr>\n",
       "    <tr>\n",
       "      <th>16</th>\n",
       "      <td>海外中国公民护照政策将有这些大调整!明年1月正式实施</td>\n",
       "      <td>http://baijiahao.baidu.com/s?id=16211457785895...</td>\n",
       "    </tr>\n",
       "    <tr>\n",
       "      <th>17</th>\n",
       "      <td>陆慷日媒专访:批评中国这些问题,问过合作国吗？</td>\n",
       "      <td>http://baijiahao.baidu.com/s?id=16211076973657...</td>\n",
       "    </tr>\n",
       "    <tr>\n",
       "      <th>18</th>\n",
       "      <td>麻烦大了!特朗普这一趟去伊拉克,不仅仅泄密那么简单</td>\n",
       "      <td>http://baijiahao.baidu.com/s?id=16211393012378...</td>\n",
       "    </tr>\n",
       "    <tr>\n",
       "      <th>19</th>\n",
       "      <td>美国政府关门风波:特朗普取消休假计划,博物馆将停业</td>\n",
       "      <td>http://baijiahao.baidu.com/s?id=16211415349187...</td>\n",
       "    </tr>\n",
       "    <tr>\n",
       "      <th>20</th>\n",
       "      <td>印尼海啸伤者增至7202,巽他海峡海域可能再发海啸</td>\n",
       "      <td>http://www.bjnews.com.cn/world/2018/12/29/5350...</td>\n",
       "    </tr>\n",
       "    <tr>\n",
       "      <th>21</th>\n",
       "      <td>俄媒:乌克兰解除针对俄罗斯男性的入境禁令</td>\n",
       "      <td>http://www.chinanews.com/gj/2018/12-29/8715411...</td>\n",
       "    </tr>\n",
       "    <tr>\n",
       "      <th>22</th>\n",
       "      <td>金正恩勉励朝鲜劳动英雄:搞好明年农业再次见面</td>\n",
       "      <td>http://baijiahao.baidu.com/s?id=16211440205810...</td>\n",
       "    </tr>\n",
       "    <tr>\n",
       "      <th>23</th>\n",
       "      <td>埃及金字塔附近发生恐怖爆炸,已致4死10伤</td>\n",
       "      <td>http://world.people.com.cn/n1/2018/1229/c1002-...</td>\n",
       "    </tr>\n",
       "    <tr>\n",
       "      <th>24</th>\n",
       "      <td>2018中国经济表情:大变局之下的喜怒哀乐</td>\n",
       "      <td>http://baijiahao.baidu.com/s?id=16211200528699...</td>\n",
       "    </tr>\n",
       "    <tr>\n",
       "      <th>25</th>\n",
       "      <td>天津市函请国家市场监管总局监督权健调查:一查到底毫不手软</td>\n",
       "      <td>http://baijiahao.baidu.com/s?id=16211522404439...</td>\n",
       "    </tr>\n",
       "    <tr>\n",
       "      <th>26</th>\n",
       "      <td>用冤狱赔偿款投资权健 农民赵作海:钱没赚到保健品吃了一堆</td>\n",
       "      <td>https://baijiahao.baidu.com/s?id=1621110621529...</td>\n",
       "    </tr>\n",
       "    <tr>\n",
       "      <th>27</th>\n",
       "      <td>蔡当局下个清理目标是谢长廷? 蓝营讽:\"助日代表\"谁敢动</td>\n",
       "      <td>http://baijiahao.baidu.com/s?id=16211522519313...</td>\n",
       "    </tr>\n",
       "    <tr>\n",
       "      <th>28</th>\n",
       "      <td>江西企业家遭跨省刑拘:羁押993天后检方撤诉,获赔36万</td>\n",
       "      <td>https://www.thepaper.cn/newsDetail_forward_279...</td>\n",
       "    </tr>\n",
       "    <tr>\n",
       "      <th>29</th>\n",
       "      <td>刘德华取消后续三场演唱会 主办方:希望休息后能继续演出</td>\n",
       "      <td>http://baijiahao.baidu.com/s?id=16211551705776...</td>\n",
       "    </tr>\n",
       "    <tr>\n",
       "      <th>30</th>\n",
       "      <td>跨年去哪秀恩爱?2019全球10大跨年目的地出炉</td>\n",
       "      <td>http://baijiahao.baidu.com/s?id=16209951903171...</td>\n",
       "    </tr>\n",
       "    <tr>\n",
       "      <th>31</th>\n",
       "      <td>花总谅解护照信息泄露上游酒店,涉事集团总部位于美国</td>\n",
       "      <td>https://www.thepaper.cn/newsDetail_forward_279...</td>\n",
       "    </tr>\n",
       "    <tr>\n",
       "      <th>32</th>\n",
       "      <td>政府办副主任借“卖画”受贿:四幅画值1万却收300万</td>\n",
       "      <td>http://baijiahao.baidu.com/s?id=16211470569783...</td>\n",
       "    </tr>\n",
       "    <tr>\n",
       "      <th>33</th>\n",
       "      <td>\"中通快递员性侵女客户\"案一审宣判,快递员被判3年半</td>\n",
       "      <td>http://baijiahao.baidu.com/s?id=16211557904314...</td>\n",
       "    </tr>\n",
       "    <tr>\n",
       "      <th>34</th>\n",
       "      <td>对话体检不知情被检测出艾滋病青年:感觉成了拖累单位的废物</td>\n",
       "      <td>http://baijiahao.baidu.com/s?id=16211394791712...</td>\n",
       "    </tr>\n",
       "    <tr>\n",
       "      <th>35</th>\n",
       "      <td>谢霆锋罕见发声否认是张柏芝第三胎生父,并辟谣出轨杨幂传闻</td>\n",
       "      <td>http://baijiahao.baidu.com/s?id=16211590501451...</td>\n",
       "    </tr>\n",
       "  </tbody>\n",
       "</table>\n",
       "</div>"
      ],
      "text/plain": [
       "                           title  \\\n",
       "0                 回首2018丨习近平的这一年   \n",
       "1         乱云飞渡仍从容—2018中国外交的稳进与担当   \n",
       "2                        梦开始的地方    \n",
       "3                镜头中的脱贫故事|网络扶贫故事   \n",
       "4                 中国明年发射首个商业航天火箭   \n",
       "5      前11个月国企利润同比增长15.6% 盈利能力提升   \n",
       "6                 40年时光，铁路和你一起走过   \n",
       "7          新个税法热点咨询“五问答”来了!一定要看看   \n",
       "8   公安部:新规民警依法履职致公民权益受损,个人不担法律责任   \n",
       "9       快看!2019年这些新规将落地,你的工资还能涨!   \n",
       "10     2019年省级两会时间表出炉,多地强调严肃会风会纪   \n",
       "11      警惕!这种新型毒品已瞄准了00后,皮肤一碰就沾毒   \n",
       "12       元旦版全国冻哭预警出炉,南方大部将在冻哭中跨年   \n",
       "13   60万12306用户信息暗网遭售卖? 官方:第三方泄露   \n",
       "14    个税申报实用帖来啦!手把手教您怎么报税、怎么享受优惠   \n",
       "15   房租上涨致终南山隐士\"还俗\"? 官方回应:清理整治违建   \n",
       "16    海外中国公民护照政策将有这些大调整!明年1月正式实施   \n",
       "17       陆慷日媒专访:批评中国这些问题,问过合作国吗？   \n",
       "18     麻烦大了!特朗普这一趟去伊拉克,不仅仅泄密那么简单   \n",
       "19     美国政府关门风波:特朗普取消休假计划,博物馆将停业   \n",
       "20     印尼海啸伤者增至7202,巽他海峡海域可能再发海啸   \n",
       "21         俄媒:乌克兰解除针对俄罗斯男性的入境禁令    \n",
       "22        金正恩勉励朝鲜劳动英雄:搞好明年农业再次见面   \n",
       "23         埃及金字塔附近发生恐怖爆炸,已致4死10伤   \n",
       "24         2018中国经济表情:大变局之下的喜怒哀乐   \n",
       "25  天津市函请国家市场监管总局监督权健调查:一查到底毫不手软   \n",
       "26  用冤狱赔偿款投资权健 农民赵作海:钱没赚到保健品吃了一堆   \n",
       "27  蔡当局下个清理目标是谢长廷? 蓝营讽:\"助日代表\"谁敢动   \n",
       "28  江西企业家遭跨省刑拘:羁押993天后检方撤诉,获赔36万   \n",
       "29   刘德华取消后续三场演唱会 主办方:希望休息后能继续演出   \n",
       "30      跨年去哪秀恩爱?2019全球10大跨年目的地出炉   \n",
       "31     花总谅解护照信息泄露上游酒店,涉事集团总部位于美国   \n",
       "32    政府办副主任借“卖画”受贿:四幅画值1万却收300万   \n",
       "33    \"中通快递员性侵女客户\"案一审宣判,快递员被判3年半   \n",
       "34  对话体检不知情被检测出艾滋病青年:感觉成了拖累单位的废物   \n",
       "35  谢霆锋罕见发声否认是张柏芝第三胎生父,并辟谣出轨杨幂传闻   \n",
       "\n",
       "                                                  url  \n",
       "0   http://m.news.cctv.com/2018/12/29/ARTIlayMQnPw...  \n",
       "1   http://www.xinhuanet.com/world/2018-12/28/c_11...  \n",
       "2   http://www.xinhuanet.com//video/2018-12/29/c_1...  \n",
       "3   http://f.china.com.cn/2018-12/29/content_74324...  \n",
       "4   http://news.cctv.com/2018/12/29/ARTILR9OEPunrb...  \n",
       "5   http://www.ce.cn/xwzx/gnsz/gdxw/201812/29/t201...  \n",
       "6   http://news.youth.cn/gn/201812/t20181229_11829...  \n",
       "7   http://finance.people.com.cn/n1/2018/1229/c100...  \n",
       "8   http://baijiahao.baidu.com/s?id=16211528960627...  \n",
       "9   http://baijiahao.baidu.com/s?id=16211129415315...  \n",
       "10  http://baijiahao.baidu.com/s?id=16211128419285...  \n",
       "11  http://baijiahao.baidu.com/s?id=16211412038402...  \n",
       "12  http://baijiahao.baidu.com/s?id=16211540750060...  \n",
       "13  http://www.bjnews.com.cn/finance/2018/12/29/53...  \n",
       "14  http://baijiahao.baidu.com/s?id=16211226784428...  \n",
       "15  http://baijiahao.baidu.com/s?id=16211395551619...  \n",
       "16  http://baijiahao.baidu.com/s?id=16211457785895...  \n",
       "17  http://baijiahao.baidu.com/s?id=16211076973657...  \n",
       "18  http://baijiahao.baidu.com/s?id=16211393012378...  \n",
       "19  http://baijiahao.baidu.com/s?id=16211415349187...  \n",
       "20  http://www.bjnews.com.cn/world/2018/12/29/5350...  \n",
       "21  http://www.chinanews.com/gj/2018/12-29/8715411...  \n",
       "22  http://baijiahao.baidu.com/s?id=16211440205810...  \n",
       "23  http://world.people.com.cn/n1/2018/1229/c1002-...  \n",
       "24  http://baijiahao.baidu.com/s?id=16211200528699...  \n",
       "25  http://baijiahao.baidu.com/s?id=16211522404439...  \n",
       "26  https://baijiahao.baidu.com/s?id=1621110621529...  \n",
       "27  http://baijiahao.baidu.com/s?id=16211522519313...  \n",
       "28  https://www.thepaper.cn/newsDetail_forward_279...  \n",
       "29  http://baijiahao.baidu.com/s?id=16211551705776...  \n",
       "30  http://baijiahao.baidu.com/s?id=16209951903171...  \n",
       "31  https://www.thepaper.cn/newsDetail_forward_279...  \n",
       "32  http://baijiahao.baidu.com/s?id=16211470569783...  \n",
       "33  http://baijiahao.baidu.com/s?id=16211557904314...  \n",
       "34  http://baijiahao.baidu.com/s?id=16211394791712...  \n",
       "35  http://baijiahao.baidu.com/s?id=16211590501451...  "
      ]
     },
     "execution_count": 152,
     "metadata": {},
     "output_type": "execute_result"
    }
   ],
   "source": [
    "import pandas\n",
    "newsdf = pandas.DataFrame(newsary)\n",
    "newsdf"
   ]
  },
  {
   "cell_type": "markdown",
   "metadata": {},
   "source": [
    "# 保存为excel"
   ]
  },
  {
   "cell_type": "code",
   "execution_count": 153,
   "metadata": {},
   "outputs": [],
   "source": [
    "newsdf.to_excel('news.xlsx')"
   ]
  },
  {
   "cell_type": "code",
   "execution_count": null,
   "metadata": {
    "collapsed": true
   },
   "outputs": [],
   "source": []
  }
 ],
 "metadata": {
  "kernelspec": {
   "display_name": "Python 3",
   "language": "python",
   "name": "python3"
  },
  "language_info": {
   "codemirror_mode": {
    "name": "ipython",
    "version": 3
   },
   "file_extension": ".py",
   "mimetype": "text/x-python",
   "name": "python",
   "nbconvert_exporter": "python",
   "pygments_lexer": "ipython3",
   "version": "3.6.5"
  }
 },
 "nbformat": 4,
 "nbformat_minor": 2
}
